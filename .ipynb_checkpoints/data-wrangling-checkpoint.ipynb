{
 "cells": [
  {
   "cell_type": "markdown",
   "id": "1a42bfe6",
   "metadata": {},
   "source": [
    "# Data Wrangling"
   ]
  },
  {
   "cell_type": "markdown",
   "id": "5946814e",
   "metadata": {},
   "source": [
    "### Importing libraries"
   ]
  },
  {
   "cell_type": "code",
   "execution_count": 1,
   "id": "8346513e",
   "metadata": {},
   "outputs": [],
   "source": [
    "import pandas as pd\n",
    "import numpy as np\n",
    "import matplotlib.pyplot as plt \n",
    "import seaborn as sns"
   ]
  },
  {
   "cell_type": "markdown",
   "id": "ceaf1cab",
   "metadata": {},
   "source": [
    "### Loading and exploring our dataset:"
   ]
  },
  {
   "cell_type": "code",
   "execution_count": 2,
   "id": "a98bbde7",
   "metadata": {},
   "outputs": [
    {
     "data": {
      "text/html": [
       "<div>\n",
       "<style scoped>\n",
       "    .dataframe tbody tr th:only-of-type {\n",
       "        vertical-align: middle;\n",
       "    }\n",
       "\n",
       "    .dataframe tbody tr th {\n",
       "        vertical-align: top;\n",
       "    }\n",
       "\n",
       "    .dataframe thead th {\n",
       "        text-align: right;\n",
       "    }\n",
       "</style>\n",
       "<table border=\"1\" class=\"dataframe\">\n",
       "  <thead>\n",
       "    <tr style=\"text-align: right;\">\n",
       "      <th></th>\n",
       "      <th>Id</th>\n",
       "      <th>MSSubClass</th>\n",
       "      <th>MSZoning</th>\n",
       "      <th>LotFrontage</th>\n",
       "      <th>LotArea</th>\n",
       "      <th>Street</th>\n",
       "      <th>Alley</th>\n",
       "      <th>LotShape</th>\n",
       "      <th>LandContour</th>\n",
       "      <th>Utilities</th>\n",
       "      <th>...</th>\n",
       "      <th>PoolArea</th>\n",
       "      <th>PoolQC</th>\n",
       "      <th>Fence</th>\n",
       "      <th>MiscFeature</th>\n",
       "      <th>MiscVal</th>\n",
       "      <th>MoSold</th>\n",
       "      <th>YrSold</th>\n",
       "      <th>SaleType</th>\n",
       "      <th>SaleCondition</th>\n",
       "      <th>SalePrice</th>\n",
       "    </tr>\n",
       "  </thead>\n",
       "  <tbody>\n",
       "    <tr>\n",
       "      <th>0</th>\n",
       "      <td>1</td>\n",
       "      <td>60</td>\n",
       "      <td>RL</td>\n",
       "      <td>65.0</td>\n",
       "      <td>8450</td>\n",
       "      <td>Pave</td>\n",
       "      <td>NaN</td>\n",
       "      <td>Reg</td>\n",
       "      <td>Lvl</td>\n",
       "      <td>AllPub</td>\n",
       "      <td>...</td>\n",
       "      <td>0</td>\n",
       "      <td>NaN</td>\n",
       "      <td>NaN</td>\n",
       "      <td>NaN</td>\n",
       "      <td>0</td>\n",
       "      <td>2</td>\n",
       "      <td>2008</td>\n",
       "      <td>WD</td>\n",
       "      <td>Normal</td>\n",
       "      <td>208500</td>\n",
       "    </tr>\n",
       "    <tr>\n",
       "      <th>1</th>\n",
       "      <td>2</td>\n",
       "      <td>20</td>\n",
       "      <td>RL</td>\n",
       "      <td>80.0</td>\n",
       "      <td>9600</td>\n",
       "      <td>Pave</td>\n",
       "      <td>NaN</td>\n",
       "      <td>Reg</td>\n",
       "      <td>Lvl</td>\n",
       "      <td>AllPub</td>\n",
       "      <td>...</td>\n",
       "      <td>0</td>\n",
       "      <td>NaN</td>\n",
       "      <td>NaN</td>\n",
       "      <td>NaN</td>\n",
       "      <td>0</td>\n",
       "      <td>5</td>\n",
       "      <td>2007</td>\n",
       "      <td>WD</td>\n",
       "      <td>Normal</td>\n",
       "      <td>181500</td>\n",
       "    </tr>\n",
       "    <tr>\n",
       "      <th>2</th>\n",
       "      <td>3</td>\n",
       "      <td>60</td>\n",
       "      <td>RL</td>\n",
       "      <td>68.0</td>\n",
       "      <td>11250</td>\n",
       "      <td>Pave</td>\n",
       "      <td>NaN</td>\n",
       "      <td>IR1</td>\n",
       "      <td>Lvl</td>\n",
       "      <td>AllPub</td>\n",
       "      <td>...</td>\n",
       "      <td>0</td>\n",
       "      <td>NaN</td>\n",
       "      <td>NaN</td>\n",
       "      <td>NaN</td>\n",
       "      <td>0</td>\n",
       "      <td>9</td>\n",
       "      <td>2008</td>\n",
       "      <td>WD</td>\n",
       "      <td>Normal</td>\n",
       "      <td>223500</td>\n",
       "    </tr>\n",
       "    <tr>\n",
       "      <th>3</th>\n",
       "      <td>4</td>\n",
       "      <td>70</td>\n",
       "      <td>RL</td>\n",
       "      <td>60.0</td>\n",
       "      <td>9550</td>\n",
       "      <td>Pave</td>\n",
       "      <td>NaN</td>\n",
       "      <td>IR1</td>\n",
       "      <td>Lvl</td>\n",
       "      <td>AllPub</td>\n",
       "      <td>...</td>\n",
       "      <td>0</td>\n",
       "      <td>NaN</td>\n",
       "      <td>NaN</td>\n",
       "      <td>NaN</td>\n",
       "      <td>0</td>\n",
       "      <td>2</td>\n",
       "      <td>2006</td>\n",
       "      <td>WD</td>\n",
       "      <td>Abnorml</td>\n",
       "      <td>140000</td>\n",
       "    </tr>\n",
       "    <tr>\n",
       "      <th>4</th>\n",
       "      <td>5</td>\n",
       "      <td>60</td>\n",
       "      <td>RL</td>\n",
       "      <td>84.0</td>\n",
       "      <td>14260</td>\n",
       "      <td>Pave</td>\n",
       "      <td>NaN</td>\n",
       "      <td>IR1</td>\n",
       "      <td>Lvl</td>\n",
       "      <td>AllPub</td>\n",
       "      <td>...</td>\n",
       "      <td>0</td>\n",
       "      <td>NaN</td>\n",
       "      <td>NaN</td>\n",
       "      <td>NaN</td>\n",
       "      <td>0</td>\n",
       "      <td>12</td>\n",
       "      <td>2008</td>\n",
       "      <td>WD</td>\n",
       "      <td>Normal</td>\n",
       "      <td>250000</td>\n",
       "    </tr>\n",
       "  </tbody>\n",
       "</table>\n",
       "<p>5 rows × 81 columns</p>\n",
       "</div>"
      ],
      "text/plain": [
       "   Id  MSSubClass MSZoning  LotFrontage  LotArea Street Alley LotShape  \\\n",
       "0   1          60       RL         65.0     8450   Pave   NaN      Reg   \n",
       "1   2          20       RL         80.0     9600   Pave   NaN      Reg   \n",
       "2   3          60       RL         68.0    11250   Pave   NaN      IR1   \n",
       "3   4          70       RL         60.0     9550   Pave   NaN      IR1   \n",
       "4   5          60       RL         84.0    14260   Pave   NaN      IR1   \n",
       "\n",
       "  LandContour Utilities  ... PoolArea PoolQC Fence MiscFeature MiscVal MoSold  \\\n",
       "0         Lvl    AllPub  ...        0    NaN   NaN         NaN       0      2   \n",
       "1         Lvl    AllPub  ...        0    NaN   NaN         NaN       0      5   \n",
       "2         Lvl    AllPub  ...        0    NaN   NaN         NaN       0      9   \n",
       "3         Lvl    AllPub  ...        0    NaN   NaN         NaN       0      2   \n",
       "4         Lvl    AllPub  ...        0    NaN   NaN         NaN       0     12   \n",
       "\n",
       "  YrSold  SaleType  SaleCondition  SalePrice  \n",
       "0   2008        WD         Normal     208500  \n",
       "1   2007        WD         Normal     181500  \n",
       "2   2008        WD         Normal     223500  \n",
       "3   2006        WD        Abnorml     140000  \n",
       "4   2008        WD         Normal     250000  \n",
       "\n",
       "[5 rows x 81 columns]"
      ]
     },
     "execution_count": 2,
     "metadata": {},
     "output_type": "execute_result"
    }
   ],
   "source": [
    "df = pd.read_csv('data/train.csv')\n",
    "df.head()"
   ]
  },
  {
   "cell_type": "code",
   "execution_count": 3,
   "id": "5069efb5",
   "metadata": {},
   "outputs": [
    {
     "name": "stdout",
     "output_type": "stream",
     "text": [
      "<class 'pandas.core.frame.DataFrame'>\n",
      "RangeIndex: 1460 entries, 0 to 1459\n",
      "Data columns (total 81 columns):\n",
      " #   Column         Non-Null Count  Dtype  \n",
      "---  ------         --------------  -----  \n",
      " 0   Id             1460 non-null   int64  \n",
      " 1   MSSubClass     1460 non-null   int64  \n",
      " 2   MSZoning       1460 non-null   object \n",
      " 3   LotFrontage    1201 non-null   float64\n",
      " 4   LotArea        1460 non-null   int64  \n",
      " 5   Street         1460 non-null   object \n",
      " 6   Alley          91 non-null     object \n",
      " 7   LotShape       1460 non-null   object \n",
      " 8   LandContour    1460 non-null   object \n",
      " 9   Utilities      1460 non-null   object \n",
      " 10  LotConfig      1460 non-null   object \n",
      " 11  LandSlope      1460 non-null   object \n",
      " 12  Neighborhood   1460 non-null   object \n",
      " 13  Condition1     1460 non-null   object \n",
      " 14  Condition2     1460 non-null   object \n",
      " 15  BldgType       1460 non-null   object \n",
      " 16  HouseStyle     1460 non-null   object \n",
      " 17  OverallQual    1460 non-null   int64  \n",
      " 18  OverallCond    1460 non-null   int64  \n",
      " 19  YearBuilt      1460 non-null   int64  \n",
      " 20  YearRemodAdd   1460 non-null   int64  \n",
      " 21  RoofStyle      1460 non-null   object \n",
      " 22  RoofMatl       1460 non-null   object \n",
      " 23  Exterior1st    1460 non-null   object \n",
      " 24  Exterior2nd    1460 non-null   object \n",
      " 25  MasVnrType     1452 non-null   object \n",
      " 26  MasVnrArea     1452 non-null   float64\n",
      " 27  ExterQual      1460 non-null   object \n",
      " 28  ExterCond      1460 non-null   object \n",
      " 29  Foundation     1460 non-null   object \n",
      " 30  BsmtQual       1423 non-null   object \n",
      " 31  BsmtCond       1423 non-null   object \n",
      " 32  BsmtExposure   1422 non-null   object \n",
      " 33  BsmtFinType1   1423 non-null   object \n",
      " 34  BsmtFinSF1     1460 non-null   int64  \n",
      " 35  BsmtFinType2   1422 non-null   object \n",
      " 36  BsmtFinSF2     1460 non-null   int64  \n",
      " 37  BsmtUnfSF      1460 non-null   int64  \n",
      " 38  TotalBsmtSF    1460 non-null   int64  \n",
      " 39  Heating        1460 non-null   object \n",
      " 40  HeatingQC      1460 non-null   object \n",
      " 41  CentralAir     1460 non-null   object \n",
      " 42  Electrical     1459 non-null   object \n",
      " 43  1stFlrSF       1460 non-null   int64  \n",
      " 44  2ndFlrSF       1460 non-null   int64  \n",
      " 45  LowQualFinSF   1460 non-null   int64  \n",
      " 46  GrLivArea      1460 non-null   int64  \n",
      " 47  BsmtFullBath   1460 non-null   int64  \n",
      " 48  BsmtHalfBath   1460 non-null   int64  \n",
      " 49  FullBath       1460 non-null   int64  \n",
      " 50  HalfBath       1460 non-null   int64  \n",
      " 51  BedroomAbvGr   1460 non-null   int64  \n",
      " 52  KitchenAbvGr   1460 non-null   int64  \n",
      " 53  KitchenQual    1460 non-null   object \n",
      " 54  TotRmsAbvGrd   1460 non-null   int64  \n",
      " 55  Functional     1460 non-null   object \n",
      " 56  Fireplaces     1460 non-null   int64  \n",
      " 57  FireplaceQu    770 non-null    object \n",
      " 58  GarageType     1379 non-null   object \n",
      " 59  GarageYrBlt    1379 non-null   float64\n",
      " 60  GarageFinish   1379 non-null   object \n",
      " 61  GarageCars     1460 non-null   int64  \n",
      " 62  GarageArea     1460 non-null   int64  \n",
      " 63  GarageQual     1379 non-null   object \n",
      " 64  GarageCond     1379 non-null   object \n",
      " 65  PavedDrive     1460 non-null   object \n",
      " 66  WoodDeckSF     1460 non-null   int64  \n",
      " 67  OpenPorchSF    1460 non-null   int64  \n",
      " 68  EnclosedPorch  1460 non-null   int64  \n",
      " 69  3SsnPorch      1460 non-null   int64  \n",
      " 70  ScreenPorch    1460 non-null   int64  \n",
      " 71  PoolArea       1460 non-null   int64  \n",
      " 72  PoolQC         7 non-null      object \n",
      " 73  Fence          281 non-null    object \n",
      " 74  MiscFeature    54 non-null     object \n",
      " 75  MiscVal        1460 non-null   int64  \n",
      " 76  MoSold         1460 non-null   int64  \n",
      " 77  YrSold         1460 non-null   int64  \n",
      " 78  SaleType       1460 non-null   object \n",
      " 79  SaleCondition  1460 non-null   object \n",
      " 80  SalePrice      1460 non-null   int64  \n",
      "dtypes: float64(3), int64(35), object(43)\n",
      "memory usage: 924.0+ KB\n"
     ]
    }
   ],
   "source": [
    "df.info()"
   ]
  },
  {
   "cell_type": "markdown",
   "id": "b03f2e74",
   "metadata": {},
   "source": [
    "### A brief description of  each column could be helpful here: "
   ]
  },
  {
   "cell_type": "markdown",
   "id": "5a1de35f",
   "metadata": {},
   "source": [
    "\n",
    "\n",
    "Column|  Description\n",
    "---------|----------------\n",
    "SalePrice | the property's sale price in dollars. This is the target variable that you're trying to predict.\n",
    "MSSubClass| The building class\n",
    "MSZoning| The general zoning classification\n",
    "LotFrontage | Linear feet of street connected to property\n",
    "LotArea | Lot size in square feet\n",
    "Street | Type of road access\n",
    "Alley | Type of alley access\n",
    "LotShape | General shape of property\n",
    "LandContour | Flatness of the property\n",
    "Utilities | Type of utilities available\n",
    "LotConfig | Lot configuration\n",
    "LandSlope | Slope of property\n",
    "Neighborhood | Physical locations within Ames city limits\n",
    "Condition1 | Proximity to main road or railroad\n",
    "Condition2 | Proximity to main road or railroad (if a second is present)\n",
    "BldgType | Type of dwelling\n",
    "HouseStyle | Style of dwelling\n",
    "OverallQual | Overall material and finish quality\n",
    "OverallCond | Overall condition rating\n",
    "YearBuilt | Original construction date\n",
    "YearRemodAdd | Remodel date\n",
    "RoofStyle | Type of roof\n",
    "RoofMatl | Roof material\n",
    "Exterior1st | Exterior covering on house\n",
    "Exterior2nd | Exterior covering on house (if more than one material)\n",
    "MasVnrType | Masonry veneer type\n",
    "MasVnrArea | Masonry veneer area in square feet\n",
    "ExterQual | Exterior material quality\n",
    "ExterCond | Present condition of the material on the exterior\n",
    "Foundation | Type of foundation\n",
    "BsmtQual | Height of the basement\n",
    "BsmtCond | General condition of the basement\n",
    "BsmtExposure | Walkout or garden level basement walls\n",
    "BsmtFinType1 | Quality of basement finished area\n",
    "BsmtFinSF1 | Type 1 finished square feet\n",
    "BsmtFinType2 | Quality of second finished area (if present)\n",
    "BsmtFinSF2 | Type 2 finished square feet\n",
    "BsmtUnfSF | Unfinished square feet of basement area\n",
    "TotalBsmtSF | Total square feet of basement area\n",
    "Heating | Type of heating\n",
    "HeatingQC | Heating quality and condition\n",
    "CentralAir | Central air conditioning\n",
    "Electrical | Electrical system\n",
    "1stFlrSF | First Floor square feet\n",
    "2ndFlrSF | Second floor square feet\n",
    "LowQualFinSF | Low quality finished square feet (all floors)\n",
    "GrLivArea | Above grade (ground) living area square feet\n",
    "BsmtFullBath | Basement full bathrooms\n",
    "BsmtHalfBath | Basement half bathrooms\n",
    "FullBath | Full bathrooms above grade\n",
    "HalfBath | Half baths above grade\n",
    "Bedroom | Number of bedrooms above basement level\n",
    "Kitchen | Number of kitchens\n",
    "KitchenQual | Kitchen quality\n",
    "TotRmsAbvGrd | Total rooms above grade (does not include bathrooms)\n",
    "Functional | Home functionality rating\n",
    "Fireplaces | Number of fireplaces\n",
    "FireplaceQu | Fireplace quality\n",
    "GarageType | Garage location\n",
    "GarageYrBlt | Year garage was built\n",
    "GarageFinish | Interior finish of the garage\n",
    "GarageCars | Size of garage in car capacity\n",
    "GarageArea | Size of garage in square feet\n",
    "GarageQual | Garage quality\n",
    "GarageCond | Garage condition\n",
    "PavedDrive | Paved driveway\n",
    "WoodDeckSF | Wood deck area in square feet\n",
    "OpenPorchSF | Open porch area in square feet\n",
    "EnclosedPorch | Enclosed porch area in square feet\n",
    "3SsnPorch | Three season porch area in square feet\n",
    "ScreenPorch | Screen porch area in square feet\n",
    "PoolArea | Pool area in square feet\n",
    "PoolQC | Pool quality\n",
    "Fence | Fence quality\n",
    "MiscFeature | Miscellaneous feature not covered in other categories\n",
    "MiscVal | $Value of miscellaneous feature \n",
    "MoSold | Month Sold \n",
    "YrSold | Year Sold \n",
    "SaleType | Type of sale\n",
    "SaleCondition |  Condition of sale"
   ]
  },
  {
   "cell_type": "code",
   "execution_count": 4,
   "id": "08f4be52",
   "metadata": {},
   "outputs": [
    {
     "name": "stdout",
     "output_type": "stream",
     "text": [
      "Our dataset has 1460 rows and 81 columns\n"
     ]
    }
   ],
   "source": [
    "print('Our dataset has {} rows and {} columns'.format(df.shape[0],df.shape[1]))"
   ]
  },
  {
   "cell_type": "markdown",
   "id": "078e91e0",
   "metadata": {},
   "source": [
    "___\n",
    "\n",
    "### Exploring missing values: "
   ]
  },
  {
   "cell_type": "code",
   "execution_count": 5,
   "id": "6dd5fb6c",
   "metadata": {},
   "outputs": [],
   "source": [
    "#checking missing values by column \n",
    "def percentageOfnull(df):\n",
    "    nan_count = df.isna().sum().sort_values(ascending=False)\n",
    "    nan_percentage = ((df.isna().sum()/df.isna().count())*100).sort_values(ascending=False)\n",
    "    train_test_dtype = df.dtypes\n",
    "    df_info = pd.concat([nan_count,nan_percentage,train_test_dtype],axis=1,keys=['Null Count','Null Percentage %','DataTypes'])\n",
    "    return df_info[df_info['Null Count']>0]"
   ]
  },
  {
   "cell_type": "code",
   "execution_count": 6,
   "id": "dfc359a1",
   "metadata": {
    "scrolled": false
   },
   "outputs": [
    {
     "data": {
      "text/html": [
       "<div>\n",
       "<style scoped>\n",
       "    .dataframe tbody tr th:only-of-type {\n",
       "        vertical-align: middle;\n",
       "    }\n",
       "\n",
       "    .dataframe tbody tr th {\n",
       "        vertical-align: top;\n",
       "    }\n",
       "\n",
       "    .dataframe thead th {\n",
       "        text-align: right;\n",
       "    }\n",
       "</style>\n",
       "<table border=\"1\" class=\"dataframe\">\n",
       "  <thead>\n",
       "    <tr style=\"text-align: right;\">\n",
       "      <th></th>\n",
       "      <th>Null Count</th>\n",
       "      <th>Null Percentage %</th>\n",
       "      <th>DataTypes</th>\n",
       "    </tr>\n",
       "  </thead>\n",
       "  <tbody>\n",
       "    <tr>\n",
       "      <th>PoolQC</th>\n",
       "      <td>1453</td>\n",
       "      <td>99.520548</td>\n",
       "      <td>object</td>\n",
       "    </tr>\n",
       "    <tr>\n",
       "      <th>MiscFeature</th>\n",
       "      <td>1406</td>\n",
       "      <td>96.301370</td>\n",
       "      <td>object</td>\n",
       "    </tr>\n",
       "    <tr>\n",
       "      <th>Alley</th>\n",
       "      <td>1369</td>\n",
       "      <td>93.767123</td>\n",
       "      <td>object</td>\n",
       "    </tr>\n",
       "    <tr>\n",
       "      <th>Fence</th>\n",
       "      <td>1179</td>\n",
       "      <td>80.753425</td>\n",
       "      <td>object</td>\n",
       "    </tr>\n",
       "    <tr>\n",
       "      <th>FireplaceQu</th>\n",
       "      <td>690</td>\n",
       "      <td>47.260274</td>\n",
       "      <td>object</td>\n",
       "    </tr>\n",
       "    <tr>\n",
       "      <th>LotFrontage</th>\n",
       "      <td>259</td>\n",
       "      <td>17.739726</td>\n",
       "      <td>float64</td>\n",
       "    </tr>\n",
       "    <tr>\n",
       "      <th>GarageYrBlt</th>\n",
       "      <td>81</td>\n",
       "      <td>5.547945</td>\n",
       "      <td>float64</td>\n",
       "    </tr>\n",
       "    <tr>\n",
       "      <th>GarageCond</th>\n",
       "      <td>81</td>\n",
       "      <td>5.547945</td>\n",
       "      <td>object</td>\n",
       "    </tr>\n",
       "    <tr>\n",
       "      <th>GarageType</th>\n",
       "      <td>81</td>\n",
       "      <td>5.547945</td>\n",
       "      <td>object</td>\n",
       "    </tr>\n",
       "    <tr>\n",
       "      <th>GarageFinish</th>\n",
       "      <td>81</td>\n",
       "      <td>5.547945</td>\n",
       "      <td>object</td>\n",
       "    </tr>\n",
       "    <tr>\n",
       "      <th>GarageQual</th>\n",
       "      <td>81</td>\n",
       "      <td>5.547945</td>\n",
       "      <td>object</td>\n",
       "    </tr>\n",
       "    <tr>\n",
       "      <th>BsmtFinType2</th>\n",
       "      <td>38</td>\n",
       "      <td>2.602740</td>\n",
       "      <td>object</td>\n",
       "    </tr>\n",
       "    <tr>\n",
       "      <th>BsmtExposure</th>\n",
       "      <td>38</td>\n",
       "      <td>2.602740</td>\n",
       "      <td>object</td>\n",
       "    </tr>\n",
       "    <tr>\n",
       "      <th>BsmtQual</th>\n",
       "      <td>37</td>\n",
       "      <td>2.534247</td>\n",
       "      <td>object</td>\n",
       "    </tr>\n",
       "    <tr>\n",
       "      <th>BsmtCond</th>\n",
       "      <td>37</td>\n",
       "      <td>2.534247</td>\n",
       "      <td>object</td>\n",
       "    </tr>\n",
       "    <tr>\n",
       "      <th>BsmtFinType1</th>\n",
       "      <td>37</td>\n",
       "      <td>2.534247</td>\n",
       "      <td>object</td>\n",
       "    </tr>\n",
       "    <tr>\n",
       "      <th>MasVnrArea</th>\n",
       "      <td>8</td>\n",
       "      <td>0.547945</td>\n",
       "      <td>float64</td>\n",
       "    </tr>\n",
       "    <tr>\n",
       "      <th>MasVnrType</th>\n",
       "      <td>8</td>\n",
       "      <td>0.547945</td>\n",
       "      <td>object</td>\n",
       "    </tr>\n",
       "    <tr>\n",
       "      <th>Electrical</th>\n",
       "      <td>1</td>\n",
       "      <td>0.068493</td>\n",
       "      <td>object</td>\n",
       "    </tr>\n",
       "  </tbody>\n",
       "</table>\n",
       "</div>"
      ],
      "text/plain": [
       "              Null Count  Null Percentage % DataTypes\n",
       "PoolQC              1453          99.520548    object\n",
       "MiscFeature         1406          96.301370    object\n",
       "Alley               1369          93.767123    object\n",
       "Fence               1179          80.753425    object\n",
       "FireplaceQu          690          47.260274    object\n",
       "LotFrontage          259          17.739726   float64\n",
       "GarageYrBlt           81           5.547945   float64\n",
       "GarageCond            81           5.547945    object\n",
       "GarageType            81           5.547945    object\n",
       "GarageFinish          81           5.547945    object\n",
       "GarageQual            81           5.547945    object\n",
       "BsmtFinType2          38           2.602740    object\n",
       "BsmtExposure          38           2.602740    object\n",
       "BsmtQual              37           2.534247    object\n",
       "BsmtCond              37           2.534247    object\n",
       "BsmtFinType1          37           2.534247    object\n",
       "MasVnrArea             8           0.547945   float64\n",
       "MasVnrType             8           0.547945    object\n",
       "Electrical             1           0.068493    object"
      ]
     },
     "execution_count": 6,
     "metadata": {},
     "output_type": "execute_result"
    }
   ],
   "source": [
    "percentageOfnull(df)"
   ]
  },
  {
   "cell_type": "markdown",
   "id": "069adcb7",
   "metadata": {},
   "source": [
    "___\n",
    "\n",
    "### Exploring unique values per column:"
   ]
  },
  {
   "cell_type": "code",
   "execution_count": 7,
   "id": "0ba1d043",
   "metadata": {},
   "outputs": [
    {
     "data": {
      "text/plain": [
       "MSZoning          5\n",
       "Street            2\n",
       "Alley             2\n",
       "LotShape          4\n",
       "LandContour       4\n",
       "Utilities         2\n",
       "LotConfig         5\n",
       "LandSlope         3\n",
       "Neighborhood     25\n",
       "Condition1        9\n",
       "Condition2        8\n",
       "BldgType          5\n",
       "HouseStyle        8\n",
       "RoofStyle         6\n",
       "RoofMatl          8\n",
       "Exterior1st      15\n",
       "Exterior2nd      16\n",
       "MasVnrType        4\n",
       "ExterQual         4\n",
       "ExterCond         5\n",
       "Foundation        6\n",
       "BsmtQual          4\n",
       "BsmtCond          4\n",
       "BsmtExposure      4\n",
       "BsmtFinType1      6\n",
       "BsmtFinType2      6\n",
       "Heating           6\n",
       "HeatingQC         5\n",
       "CentralAir        2\n",
       "Electrical        5\n",
       "KitchenQual       4\n",
       "Functional        7\n",
       "FireplaceQu       5\n",
       "GarageType        6\n",
       "GarageFinish      3\n",
       "GarageQual        5\n",
       "GarageCond        5\n",
       "PavedDrive        3\n",
       "PoolQC            3\n",
       "Fence             4\n",
       "MiscFeature       4\n",
       "SaleType          9\n",
       "SaleCondition     6\n",
       "dtype: int64"
      ]
     },
     "execution_count": 7,
     "metadata": {},
     "output_type": "execute_result"
    }
   ],
   "source": [
    "#checking number of unique values in the catogarical columns\n",
    "unique_catagorical_values =df.select_dtypes(object).nunique()\n",
    "unique_catagorical_values"
   ]
  },
  {
   "cell_type": "code",
   "execution_count": 8,
   "id": "ee8310d9",
   "metadata": {
    "scrolled": false
   },
   "outputs": [
    {
     "data": {
      "text/html": [
       "<div>\n",
       "<style scoped>\n",
       "    .dataframe tbody tr th:only-of-type {\n",
       "        vertical-align: middle;\n",
       "    }\n",
       "\n",
       "    .dataframe tbody tr th {\n",
       "        vertical-align: top;\n",
       "    }\n",
       "\n",
       "    .dataframe thead th {\n",
       "        text-align: right;\n",
       "    }\n",
       "</style>\n",
       "<table border=\"1\" class=\"dataframe\">\n",
       "  <thead>\n",
       "    <tr style=\"text-align: right;\">\n",
       "      <th></th>\n",
       "      <th>number_of_distinct_values</th>\n",
       "      <th>distinct_values</th>\n",
       "    </tr>\n",
       "  </thead>\n",
       "  <tbody>\n",
       "    <tr>\n",
       "      <th>MSZoning</th>\n",
       "      <td>5.0</td>\n",
       "      <td>[RL, RM, C (all), FV, RH]</td>\n",
       "    </tr>\n",
       "    <tr>\n",
       "      <th>Street</th>\n",
       "      <td>2.0</td>\n",
       "      <td>[Pave, Grvl]</td>\n",
       "    </tr>\n",
       "    <tr>\n",
       "      <th>Alley</th>\n",
       "      <td>2.0</td>\n",
       "      <td>[nan, Grvl, Pave]</td>\n",
       "    </tr>\n",
       "    <tr>\n",
       "      <th>LotShape</th>\n",
       "      <td>4.0</td>\n",
       "      <td>[Reg, IR1, IR2, IR3]</td>\n",
       "    </tr>\n",
       "    <tr>\n",
       "      <th>LandContour</th>\n",
       "      <td>4.0</td>\n",
       "      <td>[Lvl, Bnk, Low, HLS]</td>\n",
       "    </tr>\n",
       "    <tr>\n",
       "      <th>Utilities</th>\n",
       "      <td>2.0</td>\n",
       "      <td>[AllPub, NoSeWa]</td>\n",
       "    </tr>\n",
       "    <tr>\n",
       "      <th>LotConfig</th>\n",
       "      <td>5.0</td>\n",
       "      <td>[Inside, FR2, Corner, CulDSac, FR3]</td>\n",
       "    </tr>\n",
       "    <tr>\n",
       "      <th>LandSlope</th>\n",
       "      <td>3.0</td>\n",
       "      <td>[Gtl, Mod, Sev]</td>\n",
       "    </tr>\n",
       "    <tr>\n",
       "      <th>Neighborhood</th>\n",
       "      <td>25.0</td>\n",
       "      <td>[CollgCr, Veenker, Crawfor, NoRidge, Mitchel, ...</td>\n",
       "    </tr>\n",
       "    <tr>\n",
       "      <th>Condition1</th>\n",
       "      <td>9.0</td>\n",
       "      <td>[Norm, Feedr, PosN, Artery, RRAe, RRNn, RRAn, ...</td>\n",
       "    </tr>\n",
       "    <tr>\n",
       "      <th>Condition2</th>\n",
       "      <td>8.0</td>\n",
       "      <td>[Norm, Artery, RRNn, Feedr, PosN, PosA, RRAn, ...</td>\n",
       "    </tr>\n",
       "    <tr>\n",
       "      <th>BldgType</th>\n",
       "      <td>5.0</td>\n",
       "      <td>[1Fam, 2fmCon, Duplex, TwnhsE, Twnhs]</td>\n",
       "    </tr>\n",
       "    <tr>\n",
       "      <th>HouseStyle</th>\n",
       "      <td>8.0</td>\n",
       "      <td>[2Story, 1Story, 1.5Fin, 1.5Unf, SFoyer, SLvl,...</td>\n",
       "    </tr>\n",
       "    <tr>\n",
       "      <th>RoofStyle</th>\n",
       "      <td>6.0</td>\n",
       "      <td>[Gable, Hip, Gambrel, Mansard, Flat, Shed]</td>\n",
       "    </tr>\n",
       "    <tr>\n",
       "      <th>RoofMatl</th>\n",
       "      <td>8.0</td>\n",
       "      <td>[CompShg, WdShngl, Metal, WdShake, Membran, Ta...</td>\n",
       "    </tr>\n",
       "    <tr>\n",
       "      <th>Exterior1st</th>\n",
       "      <td>15.0</td>\n",
       "      <td>[VinylSd, MetalSd, Wd Sdng, HdBoard, BrkFace, ...</td>\n",
       "    </tr>\n",
       "    <tr>\n",
       "      <th>Exterior2nd</th>\n",
       "      <td>16.0</td>\n",
       "      <td>[VinylSd, MetalSd, Wd Shng, HdBoard, Plywood, ...</td>\n",
       "    </tr>\n",
       "    <tr>\n",
       "      <th>MasVnrType</th>\n",
       "      <td>4.0</td>\n",
       "      <td>[BrkFace, None, Stone, BrkCmn, nan]</td>\n",
       "    </tr>\n",
       "    <tr>\n",
       "      <th>ExterQual</th>\n",
       "      <td>4.0</td>\n",
       "      <td>[Gd, TA, Ex, Fa]</td>\n",
       "    </tr>\n",
       "    <tr>\n",
       "      <th>ExterCond</th>\n",
       "      <td>5.0</td>\n",
       "      <td>[TA, Gd, Fa, Po, Ex]</td>\n",
       "    </tr>\n",
       "    <tr>\n",
       "      <th>Foundation</th>\n",
       "      <td>6.0</td>\n",
       "      <td>[PConc, CBlock, BrkTil, Wood, Slab, Stone]</td>\n",
       "    </tr>\n",
       "    <tr>\n",
       "      <th>BsmtQual</th>\n",
       "      <td>4.0</td>\n",
       "      <td>[Gd, TA, Ex, nan, Fa]</td>\n",
       "    </tr>\n",
       "    <tr>\n",
       "      <th>BsmtCond</th>\n",
       "      <td>4.0</td>\n",
       "      <td>[TA, Gd, nan, Fa, Po]</td>\n",
       "    </tr>\n",
       "    <tr>\n",
       "      <th>BsmtExposure</th>\n",
       "      <td>4.0</td>\n",
       "      <td>[No, Gd, Mn, Av, nan]</td>\n",
       "    </tr>\n",
       "    <tr>\n",
       "      <th>BsmtFinType1</th>\n",
       "      <td>6.0</td>\n",
       "      <td>[GLQ, ALQ, Unf, Rec, BLQ, nan, LwQ]</td>\n",
       "    </tr>\n",
       "    <tr>\n",
       "      <th>BsmtFinType2</th>\n",
       "      <td>6.0</td>\n",
       "      <td>[Unf, BLQ, nan, ALQ, Rec, LwQ, GLQ]</td>\n",
       "    </tr>\n",
       "    <tr>\n",
       "      <th>Heating</th>\n",
       "      <td>6.0</td>\n",
       "      <td>[GasA, GasW, Grav, Wall, OthW, Floor]</td>\n",
       "    </tr>\n",
       "    <tr>\n",
       "      <th>HeatingQC</th>\n",
       "      <td>5.0</td>\n",
       "      <td>[Ex, Gd, TA, Fa, Po]</td>\n",
       "    </tr>\n",
       "    <tr>\n",
       "      <th>CentralAir</th>\n",
       "      <td>2.0</td>\n",
       "      <td>[Y, N]</td>\n",
       "    </tr>\n",
       "    <tr>\n",
       "      <th>Electrical</th>\n",
       "      <td>5.0</td>\n",
       "      <td>[SBrkr, FuseF, FuseA, FuseP, Mix, nan]</td>\n",
       "    </tr>\n",
       "    <tr>\n",
       "      <th>KitchenQual</th>\n",
       "      <td>4.0</td>\n",
       "      <td>[Gd, TA, Ex, Fa]</td>\n",
       "    </tr>\n",
       "    <tr>\n",
       "      <th>Functional</th>\n",
       "      <td>7.0</td>\n",
       "      <td>[Typ, Min1, Maj1, Min2, Mod, Maj2, Sev]</td>\n",
       "    </tr>\n",
       "    <tr>\n",
       "      <th>FireplaceQu</th>\n",
       "      <td>5.0</td>\n",
       "      <td>[nan, TA, Gd, Fa, Ex, Po]</td>\n",
       "    </tr>\n",
       "    <tr>\n",
       "      <th>GarageType</th>\n",
       "      <td>6.0</td>\n",
       "      <td>[Attchd, Detchd, BuiltIn, CarPort, nan, Basmen...</td>\n",
       "    </tr>\n",
       "    <tr>\n",
       "      <th>GarageFinish</th>\n",
       "      <td>3.0</td>\n",
       "      <td>[RFn, Unf, Fin, nan]</td>\n",
       "    </tr>\n",
       "    <tr>\n",
       "      <th>GarageQual</th>\n",
       "      <td>5.0</td>\n",
       "      <td>[TA, Fa, Gd, nan, Ex, Po]</td>\n",
       "    </tr>\n",
       "    <tr>\n",
       "      <th>GarageCond</th>\n",
       "      <td>5.0</td>\n",
       "      <td>[TA, Fa, nan, Gd, Po, Ex]</td>\n",
       "    </tr>\n",
       "    <tr>\n",
       "      <th>PavedDrive</th>\n",
       "      <td>3.0</td>\n",
       "      <td>[Y, N, P]</td>\n",
       "    </tr>\n",
       "    <tr>\n",
       "      <th>PoolQC</th>\n",
       "      <td>3.0</td>\n",
       "      <td>[nan, Ex, Fa, Gd]</td>\n",
       "    </tr>\n",
       "    <tr>\n",
       "      <th>Fence</th>\n",
       "      <td>4.0</td>\n",
       "      <td>[nan, MnPrv, GdWo, GdPrv, MnWw]</td>\n",
       "    </tr>\n",
       "    <tr>\n",
       "      <th>MiscFeature</th>\n",
       "      <td>4.0</td>\n",
       "      <td>[nan, Shed, Gar2, Othr, TenC]</td>\n",
       "    </tr>\n",
       "    <tr>\n",
       "      <th>SaleType</th>\n",
       "      <td>9.0</td>\n",
       "      <td>[WD, New, COD, ConLD, ConLI, CWD, ConLw, Con, ...</td>\n",
       "    </tr>\n",
       "    <tr>\n",
       "      <th>SaleCondition</th>\n",
       "      <td>6.0</td>\n",
       "      <td>[Normal, Abnorml, Partial, AdjLand, Alloca, Fa...</td>\n",
       "    </tr>\n",
       "  </tbody>\n",
       "</table>\n",
       "</div>"
      ],
      "text/plain": [
       "               number_of_distinct_values  \\\n",
       "MSZoning                             5.0   \n",
       "Street                               2.0   \n",
       "Alley                                2.0   \n",
       "LotShape                             4.0   \n",
       "LandContour                          4.0   \n",
       "Utilities                            2.0   \n",
       "LotConfig                            5.0   \n",
       "LandSlope                            3.0   \n",
       "Neighborhood                        25.0   \n",
       "Condition1                           9.0   \n",
       "Condition2                           8.0   \n",
       "BldgType                             5.0   \n",
       "HouseStyle                           8.0   \n",
       "RoofStyle                            6.0   \n",
       "RoofMatl                             8.0   \n",
       "Exterior1st                         15.0   \n",
       "Exterior2nd                         16.0   \n",
       "MasVnrType                           4.0   \n",
       "ExterQual                            4.0   \n",
       "ExterCond                            5.0   \n",
       "Foundation                           6.0   \n",
       "BsmtQual                             4.0   \n",
       "BsmtCond                             4.0   \n",
       "BsmtExposure                         4.0   \n",
       "BsmtFinType1                         6.0   \n",
       "BsmtFinType2                         6.0   \n",
       "Heating                              6.0   \n",
       "HeatingQC                            5.0   \n",
       "CentralAir                           2.0   \n",
       "Electrical                           5.0   \n",
       "KitchenQual                          4.0   \n",
       "Functional                           7.0   \n",
       "FireplaceQu                          5.0   \n",
       "GarageType                           6.0   \n",
       "GarageFinish                         3.0   \n",
       "GarageQual                           5.0   \n",
       "GarageCond                           5.0   \n",
       "PavedDrive                           3.0   \n",
       "PoolQC                               3.0   \n",
       "Fence                                4.0   \n",
       "MiscFeature                          4.0   \n",
       "SaleType                             9.0   \n",
       "SaleCondition                        6.0   \n",
       "\n",
       "                                                 distinct_values  \n",
       "MSZoning                               [RL, RM, C (all), FV, RH]  \n",
       "Street                                              [Pave, Grvl]  \n",
       "Alley                                          [nan, Grvl, Pave]  \n",
       "LotShape                                    [Reg, IR1, IR2, IR3]  \n",
       "LandContour                                 [Lvl, Bnk, Low, HLS]  \n",
       "Utilities                                       [AllPub, NoSeWa]  \n",
       "LotConfig                    [Inside, FR2, Corner, CulDSac, FR3]  \n",
       "LandSlope                                        [Gtl, Mod, Sev]  \n",
       "Neighborhood   [CollgCr, Veenker, Crawfor, NoRidge, Mitchel, ...  \n",
       "Condition1     [Norm, Feedr, PosN, Artery, RRAe, RRNn, RRAn, ...  \n",
       "Condition2     [Norm, Artery, RRNn, Feedr, PosN, PosA, RRAn, ...  \n",
       "BldgType                   [1Fam, 2fmCon, Duplex, TwnhsE, Twnhs]  \n",
       "HouseStyle     [2Story, 1Story, 1.5Fin, 1.5Unf, SFoyer, SLvl,...  \n",
       "RoofStyle             [Gable, Hip, Gambrel, Mansard, Flat, Shed]  \n",
       "RoofMatl       [CompShg, WdShngl, Metal, WdShake, Membran, Ta...  \n",
       "Exterior1st    [VinylSd, MetalSd, Wd Sdng, HdBoard, BrkFace, ...  \n",
       "Exterior2nd    [VinylSd, MetalSd, Wd Shng, HdBoard, Plywood, ...  \n",
       "MasVnrType                   [BrkFace, None, Stone, BrkCmn, nan]  \n",
       "ExterQual                                       [Gd, TA, Ex, Fa]  \n",
       "ExterCond                                   [TA, Gd, Fa, Po, Ex]  \n",
       "Foundation            [PConc, CBlock, BrkTil, Wood, Slab, Stone]  \n",
       "BsmtQual                                   [Gd, TA, Ex, nan, Fa]  \n",
       "BsmtCond                                   [TA, Gd, nan, Fa, Po]  \n",
       "BsmtExposure                               [No, Gd, Mn, Av, nan]  \n",
       "BsmtFinType1                 [GLQ, ALQ, Unf, Rec, BLQ, nan, LwQ]  \n",
       "BsmtFinType2                 [Unf, BLQ, nan, ALQ, Rec, LwQ, GLQ]  \n",
       "Heating                    [GasA, GasW, Grav, Wall, OthW, Floor]  \n",
       "HeatingQC                                   [Ex, Gd, TA, Fa, Po]  \n",
       "CentralAir                                                [Y, N]  \n",
       "Electrical                [SBrkr, FuseF, FuseA, FuseP, Mix, nan]  \n",
       "KitchenQual                                     [Gd, TA, Ex, Fa]  \n",
       "Functional               [Typ, Min1, Maj1, Min2, Mod, Maj2, Sev]  \n",
       "FireplaceQu                            [nan, TA, Gd, Fa, Ex, Po]  \n",
       "GarageType     [Attchd, Detchd, BuiltIn, CarPort, nan, Basmen...  \n",
       "GarageFinish                                [RFn, Unf, Fin, nan]  \n",
       "GarageQual                             [TA, Fa, Gd, nan, Ex, Po]  \n",
       "GarageCond                             [TA, Fa, nan, Gd, Po, Ex]  \n",
       "PavedDrive                                             [Y, N, P]  \n",
       "PoolQC                                         [nan, Ex, Fa, Gd]  \n",
       "Fence                            [nan, MnPrv, GdWo, GdPrv, MnWw]  \n",
       "MiscFeature                        [nan, Shed, Gar2, Othr, TenC]  \n",
       "SaleType       [WD, New, COD, ConLD, ConLI, CWD, ConLw, Con, ...  \n",
       "SaleCondition  [Normal, Abnorml, Partial, AdjLand, Alloca, Fa...  "
      ]
     },
     "execution_count": 8,
     "metadata": {},
     "output_type": "execute_result"
    }
   ],
   "source": [
    "#This table displays the distinct value count, and the distinct values of each categorical column\n",
    "x = pd.Series({col:df[col].unique() for col in df})\n",
    "y = pd.concat([unique_catagorical_values, x],axis =1, keys = ['number_of_distinct_values','distinct_values'])\n",
    "y = y[y.number_of_distinct_values.notnull()]\n",
    "y"
   ]
  },
  {
   "cell_type": "code",
   "execution_count": null,
   "id": "967663ce",
   "metadata": {},
   "outputs": [],
   "source": []
  },
  {
   "cell_type": "markdown",
   "id": "24c95ffe",
   "metadata": {},
   "source": [
    "___\n",
    "\n",
    "### Dropping redundant and mostly missing columns:"
   ]
  },
  {
   "cell_type": "code",
   "execution_count": 9,
   "id": "10e62abf",
   "metadata": {},
   "outputs": [],
   "source": [
    "df = df.drop(columns=['Id','PoolQC','MiscFeature','Alley','MiscVal'])"
   ]
  },
  {
   "cell_type": "markdown",
   "id": "e683ac9e",
   "metadata": {},
   "source": [
    "___\n",
    "\n",
    "### Handling missing values:"
   ]
  },
  {
   "cell_type": "code",
   "execution_count": 10,
   "id": "ad2e0b85",
   "metadata": {},
   "outputs": [
    {
     "data": {
      "text/plain": [
       "array([nan, 'MnPrv', 'GdWo', 'GdPrv', 'MnWw'], dtype=object)"
      ]
     },
     "execution_count": 10,
     "metadata": {},
     "output_type": "execute_result"
    }
   ],
   "source": [
    "df['Fence'].unique()"
   ]
  },
  {
   "cell_type": "markdown",
   "id": "b0dc9f65",
   "metadata": {},
   "source": [
    "From the data_description file we see that missing values in 'Fence' mean that the house deosn't have a fence."
   ]
  },
  {
   "cell_type": "code",
   "execution_count": 11,
   "id": "69c0f0d1",
   "metadata": {},
   "outputs": [],
   "source": [
    "df['Fence'] = df['Fence'].replace(to_replace = pd.NA, value= 'none')"
   ]
  },
  {
   "cell_type": "markdown",
   "id": "31285a87",
   "metadata": {},
   "source": [
    "The same reasoning applies to the following columns:"
   ]
  },
  {
   "cell_type": "code",
   "execution_count": 12,
   "id": "f091fa74",
   "metadata": {},
   "outputs": [],
   "source": [
    "df['FireplaceQu'] = df['FireplaceQu'].replace(to_replace = pd.NA, value= 'none')\n",
    "df['LotFrontage'] = df['LotFrontage'].replace(to_replace = pd.NA, value= 0)\n",
    "df['GarageYrBlt'] = df['GarageYrBlt'].replace(to_replace = pd.NA, value= 0)\n",
    "df['GarageCond'] = df['GarageCond'].replace(to_replace = pd.NA, value= 'none')\n",
    "df['GarageType'] = df['GarageType'].replace(to_replace = pd.NA, value= 'none')\n",
    "df['GarageFinish'] = df['GarageFinish'].replace(to_replace = pd.NA, value= 'none')\n",
    "df['GarageQual'] = df['GarageQual'].replace(to_replace = pd.NA, value= 'none')\n",
    "df['BsmtFinType2'] = df['BsmtFinType2'].replace(to_replace = pd.NA, value= 'none')\n",
    "df['BsmtExposure'] = df['BsmtExposure'].replace(to_replace = pd.NA, value= 'none')\n",
    "df['BsmtQual'] = df['BsmtQual'].replace(to_replace = pd.NA, value= 'none')\n",
    "df['BsmtCond'] = df['BsmtCond'].replace(to_replace = pd.NA, value= 'none')\n",
    "df['BsmtFinType1'] = df['BsmtFinType1'].replace(to_replace = pd.NA, value= 'none')\n",
    "df['MasVnrArea'] = df['MasVnrArea'].replace(to_replace = np.NaN, value= 0)\n",
    "df['MasVnrType'] = df['MasVnrType'].replace(to_replace = pd.NA, value= 'none')"
   ]
  },
  {
   "cell_type": "code",
   "execution_count": 13,
   "id": "d70bdb1e",
   "metadata": {},
   "outputs": [
    {
     "data": {
      "text/plain": [
       "SBrkr    1334\n",
       "FuseA      94\n",
       "FuseF      27\n",
       "FuseP       3\n",
       "Mix         1\n",
       "Name: Electrical, dtype: int64"
      ]
     },
     "execution_count": 13,
     "metadata": {},
     "output_type": "execute_result"
    }
   ],
   "source": [
    "df['Electrical'].value_counts()"
   ]
  },
  {
   "cell_type": "markdown",
   "id": "64a14e7c",
   "metadata": {},
   "source": [
    "We will use the mode of 'Electrical' to fill the one missing value in that column:"
   ]
  },
  {
   "cell_type": "code",
   "execution_count": 14,
   "id": "3ad6dcc9",
   "metadata": {},
   "outputs": [],
   "source": [
    "df['Electrical'] = df['Electrical'].replace(to_replace = pd.NA, value= 'SBrkr')"
   ]
  },
  {
   "cell_type": "code",
   "execution_count": 15,
   "id": "216dfd36",
   "metadata": {},
   "outputs": [
    {
     "data": {
      "text/html": [
       "<div>\n",
       "<style scoped>\n",
       "    .dataframe tbody tr th:only-of-type {\n",
       "        vertical-align: middle;\n",
       "    }\n",
       "\n",
       "    .dataframe tbody tr th {\n",
       "        vertical-align: top;\n",
       "    }\n",
       "\n",
       "    .dataframe thead th {\n",
       "        text-align: right;\n",
       "    }\n",
       "</style>\n",
       "<table border=\"1\" class=\"dataframe\">\n",
       "  <thead>\n",
       "    <tr style=\"text-align: right;\">\n",
       "      <th></th>\n",
       "      <th>Null Count</th>\n",
       "      <th>Null Percentage %</th>\n",
       "      <th>DataTypes</th>\n",
       "    </tr>\n",
       "  </thead>\n",
       "  <tbody>\n",
       "    <tr>\n",
       "      <th>LotFrontage</th>\n",
       "      <td>259</td>\n",
       "      <td>17.739726</td>\n",
       "      <td>float64</td>\n",
       "    </tr>\n",
       "    <tr>\n",
       "      <th>GarageYrBlt</th>\n",
       "      <td>81</td>\n",
       "      <td>5.547945</td>\n",
       "      <td>float64</td>\n",
       "    </tr>\n",
       "  </tbody>\n",
       "</table>\n",
       "</div>"
      ],
      "text/plain": [
       "             Null Count  Null Percentage % DataTypes\n",
       "LotFrontage         259          17.739726   float64\n",
       "GarageYrBlt          81           5.547945   float64"
      ]
     },
     "execution_count": 15,
     "metadata": {},
     "output_type": "execute_result"
    }
   ],
   "source": [
    "percentageOfnull(df)"
   ]
  },
  {
   "cell_type": "code",
   "execution_count": 16,
   "id": "6ccf1286",
   "metadata": {},
   "outputs": [
    {
     "data": {
      "text/plain": [
       "count    1201.000000\n",
       "mean       70.049958\n",
       "std        24.284752\n",
       "min        21.000000\n",
       "25%        59.000000\n",
       "50%        69.000000\n",
       "75%        80.000000\n",
       "max       313.000000\n",
       "Name: LotFrontage, dtype: float64"
      ]
     },
     "execution_count": 16,
     "metadata": {},
     "output_type": "execute_result"
    }
   ],
   "source": [
    "df['LotFrontage'].describe()"
   ]
  },
  {
   "cell_type": "code",
   "execution_count": 17,
   "id": "6144cd91",
   "metadata": {
    "scrolled": true
   },
   "outputs": [
    {
     "data": {
      "image/png": "[encoded data removed]",
      "text/plain": [
       "<Figure size 1800x500 with 1 Axes>"
      ]
     },
     "metadata": {},
     "output_type": "display_data"
    }
   ],
   "source": [
    "plt.figure(figsize = (18,5))\n",
    "plt.xticks(rotation=90)\n",
    "plt.title('Distribution of LotFrontage')\n",
    "sns.histplot(data = df, x = df['LotFrontage'],bins=25);"
   ]
  },
  {
   "cell_type": "markdown",
   "id": "a5d514c8",
   "metadata": {},
   "source": [
    "Since the 'LotFrontage' column doesn't contain any 0 values, we'll assume the missing values are supposed to be zeros:"
   ]
  },
  {
   "cell_type": "code",
   "execution_count": 18,
   "id": "11b83a3d",
   "metadata": {},
   "outputs": [],
   "source": [
    "df['LotFrontage'] = df['LotFrontage'].replace(to_replace = np.NaN, value= 0)"
   ]
  },
  {
   "cell_type": "code",
   "execution_count": 19,
   "id": "6c9798cd",
   "metadata": {},
   "outputs": [
    {
     "data": {
      "text/html": [
       "<div>\n",
       "<style scoped>\n",
       "    .dataframe tbody tr th:only-of-type {\n",
       "        vertical-align: middle;\n",
       "    }\n",
       "\n",
       "    .dataframe tbody tr th {\n",
       "        vertical-align: top;\n",
       "    }\n",
       "\n",
       "    .dataframe thead th {\n",
       "        text-align: right;\n",
       "    }\n",
       "</style>\n",
       "<table border=\"1\" class=\"dataframe\">\n",
       "  <thead>\n",
       "    <tr style=\"text-align: right;\">\n",
       "      <th></th>\n",
       "      <th>Null Count</th>\n",
       "      <th>Null Percentage %</th>\n",
       "      <th>DataTypes</th>\n",
       "    </tr>\n",
       "  </thead>\n",
       "  <tbody>\n",
       "    <tr>\n",
       "      <th>GarageYrBlt</th>\n",
       "      <td>81</td>\n",
       "      <td>5.547945</td>\n",
       "      <td>float64</td>\n",
       "    </tr>\n",
       "  </tbody>\n",
       "</table>\n",
       "</div>"
      ],
      "text/plain": [
       "             Null Count  Null Percentage % DataTypes\n",
       "GarageYrBlt          81           5.547945   float64"
      ]
     },
     "execution_count": 19,
     "metadata": {},
     "output_type": "execute_result"
    }
   ],
   "source": [
    "percentageOfnull(df)"
   ]
  },
  {
   "cell_type": "code",
   "execution_count": 20,
   "id": "c98fda89",
   "metadata": {
    "scrolled": true
   },
   "outputs": [
    {
     "data": {
      "image/png": "[encoded data removed]",
      "text/plain": [
       "<Figure size 1800x500 with 1 Axes>"
      ]
     },
     "metadata": {},
     "output_type": "display_data"
    }
   ],
   "source": [
    "plt.figure(figsize = (18,5))\n",
    "plt.xticks(rotation=90)\n",
    "plt.title('Distribution of GarageYrBlt')\n",
    "sns.histplot(data = df, x = df['GarageYrBlt'],bins=25);"
   ]
  },
  {
   "cell_type": "markdown",
   "id": "08324244",
   "metadata": {},
   "source": [
    "Since 'GarageYrBlt' has a skewed distribution, we will use the median to fill in the missing values:"
   ]
  },
  {
   "cell_type": "code",
   "execution_count": 21,
   "id": "d0ad9d6f",
   "metadata": {},
   "outputs": [],
   "source": [
    "df['GarageYrBlt'].fillna(df['GarageYrBlt'].median(),inplace = True)"
   ]
  },
  {
   "cell_type": "markdown",
   "id": "da3fa747",
   "metadata": {},
   "source": [
    "___\n",
    "\n",
    "### Missing values by row:\n"
   ]
  },
  {
   "cell_type": "code",
   "execution_count": 22,
   "id": "a80ba85e",
   "metadata": {},
   "outputs": [
    {
     "data": {
      "text/html": [
       "<div>\n",
       "<style scoped>\n",
       "    .dataframe tbody tr th:only-of-type {\n",
       "        vertical-align: middle;\n",
       "    }\n",
       "\n",
       "    .dataframe tbody tr th {\n",
       "        vertical-align: top;\n",
       "    }\n",
       "\n",
       "    .dataframe thead th {\n",
       "        text-align: right;\n",
       "    }\n",
       "</style>\n",
       "<table border=\"1\" class=\"dataframe\">\n",
       "  <thead>\n",
       "    <tr style=\"text-align: right;\">\n",
       "      <th></th>\n",
       "      <th>count</th>\n",
       "      <th>%</th>\n",
       "    </tr>\n",
       "  </thead>\n",
       "  <tbody>\n",
       "    <tr>\n",
       "      <th>0</th>\n",
       "      <td>0</td>\n",
       "      <td>0.0</td>\n",
       "    </tr>\n",
       "    <tr>\n",
       "      <th>981</th>\n",
       "      <td>0</td>\n",
       "      <td>0.0</td>\n",
       "    </tr>\n",
       "    <tr>\n",
       "      <th>979</th>\n",
       "      <td>0</td>\n",
       "      <td>0.0</td>\n",
       "    </tr>\n",
       "    <tr>\n",
       "      <th>978</th>\n",
       "      <td>0</td>\n",
       "      <td>0.0</td>\n",
       "    </tr>\n",
       "    <tr>\n",
       "      <th>977</th>\n",
       "      <td>0</td>\n",
       "      <td>0.0</td>\n",
       "    </tr>\n",
       "    <tr>\n",
       "      <th>976</th>\n",
       "      <td>0</td>\n",
       "      <td>0.0</td>\n",
       "    </tr>\n",
       "    <tr>\n",
       "      <th>975</th>\n",
       "      <td>0</td>\n",
       "      <td>0.0</td>\n",
       "    </tr>\n",
       "    <tr>\n",
       "      <th>974</th>\n",
       "      <td>0</td>\n",
       "      <td>0.0</td>\n",
       "    </tr>\n",
       "    <tr>\n",
       "      <th>973</th>\n",
       "      <td>0</td>\n",
       "      <td>0.0</td>\n",
       "    </tr>\n",
       "    <tr>\n",
       "      <th>972</th>\n",
       "      <td>0</td>\n",
       "      <td>0.0</td>\n",
       "    </tr>\n",
       "  </tbody>\n",
       "</table>\n",
       "</div>"
      ],
      "text/plain": [
       "     count    %\n",
       "0        0  0.0\n",
       "981      0  0.0\n",
       "979      0  0.0\n",
       "978      0  0.0\n",
       "977      0  0.0\n",
       "976      0  0.0\n",
       "975      0  0.0\n",
       "974      0  0.0\n",
       "973      0  0.0\n",
       "972      0  0.0"
      ]
     },
     "execution_count": 22,
     "metadata": {},
     "output_type": "execute_result"
    }
   ],
   "source": [
    "missing = pd.concat([df.isnull().sum(axis=1), 100 * df.isnull().mean(axis=1)], axis=1)\n",
    "missing.columns=['count', '%']\n",
    "missing.sort_values(by='count', ascending=False).head(10)"
   ]
  },
  {
   "cell_type": "markdown",
   "id": "bf5fc29c",
   "metadata": {},
   "source": [
    "___\n",
    "\n",
    "### Summary statistics:\n",
    "\n",
    "### SalePrice:"
   ]
  },
  {
   "cell_type": "code",
   "execution_count": 23,
   "id": "497a8e36",
   "metadata": {},
   "outputs": [
    {
     "data": {
      "image/png": "[encoded data removed]",
      "text/plain": [
       "<Figure size 1800x500 with 1 Axes>"
      ]
     },
     "metadata": {},
     "output_type": "display_data"
    }
   ],
   "source": [
    "plt.figure(figsize=(18,5))\n",
    "plt.title('Boxplot of SalePrice')\n",
    "sns.boxplot(data = df, x = 'SalePrice');"
   ]
  },
  {
   "cell_type": "code",
   "execution_count": 24,
   "id": "0c7f18d8",
   "metadata": {},
   "outputs": [
    {
     "data": {
      "image/png": "[encoded data removed]",
      "text/plain": [
       "<Figure size 1800x500 with 1 Axes>"
      ]
     },
     "metadata": {},
     "output_type": "display_data"
    }
   ],
   "source": [
    "plt.figure(figsize = (18,5))\n",
    "plt.xticks(rotation=90)\n",
    "plt.title('Distribution of SalePrice')\n",
    "sns.histplot(data = df, x = df['SalePrice'],bins=25, kde = True);"
   ]
  },
  {
   "cell_type": "code",
   "execution_count": 25,
   "id": "d35356db",
   "metadata": {},
   "outputs": [
    {
     "data": {
      "text/plain": [
       "count      1460.000000\n",
       "mean     180921.195890\n",
       "std       79442.502883\n",
       "min       34900.000000\n",
       "25%      129975.000000\n",
       "50%      163000.000000\n",
       "75%      214000.000000\n",
       "max      755000.000000\n",
       "Name: SalePrice, dtype: float64"
      ]
     },
     "execution_count": 25,
     "metadata": {},
     "output_type": "execute_result"
    }
   ],
   "source": [
    "df['SalePrice'].describe()"
   ]
  },
  {
   "cell_type": "markdown",
   "id": "3ef91483",
   "metadata": {},
   "source": [
    "### Data distributions:"
   ]
  },
  {
   "cell_type": "code",
   "execution_count": 26,
   "id": "d034ac88",
   "metadata": {
    "scrolled": false
   },
   "outputs": [
    {
     "data": {
      "image/png": "[encoded data removed]",
      "text/plain": [
       "<Figure size 1500x1500 with 36 Axes>"
      ]
     },
     "metadata": {},
     "output_type": "display_data"
    }
   ],
   "source": [
    "df.hist(figsize=(15,15))\n",
    "plt.subplots_adjust(hspace=0.5);"
   ]
  },
  {
   "cell_type": "markdown",
   "id": "2fc57bde",
   "metadata": {},
   "source": [
    "### Inspecting outliers:"
   ]
  },
  {
   "cell_type": "code",
   "execution_count": 27,
   "id": "d12bc053",
   "metadata": {},
   "outputs": [
    {
     "data": {
      "text/plain": [
       "count      1460.000000\n",
       "mean      10516.828082\n",
       "std        9981.264932\n",
       "min        1300.000000\n",
       "25%        7553.500000\n",
       "50%        9478.500000\n",
       "75%       11601.500000\n",
       "max      215245.000000\n",
       "Name: LotArea, dtype: float64"
      ]
     },
     "execution_count": 27,
     "metadata": {},
     "output_type": "execute_result"
    }
   ],
   "source": [
    "df['LotArea'].describe()"
   ]
  },
  {
   "cell_type": "code",
   "execution_count": 28,
   "id": "6ba7424f",
   "metadata": {},
   "outputs": [
    {
     "data": {
      "text/html": [
       "<div>\n",
       "<style scoped>\n",
       "    .dataframe tbody tr th:only-of-type {\n",
       "        vertical-align: middle;\n",
       "    }\n",
       "\n",
       "    .dataframe tbody tr th {\n",
       "        vertical-align: top;\n",
       "    }\n",
       "\n",
       "    .dataframe thead th {\n",
       "        text-align: right;\n",
       "    }\n",
       "</style>\n",
       "<table border=\"1\" class=\"dataframe\">\n",
       "  <thead>\n",
       "    <tr style=\"text-align: right;\">\n",
       "      <th></th>\n",
       "      <th>BldgType</th>\n",
       "      <th>SalePrice</th>\n",
       "      <th>LotArea</th>\n",
       "    </tr>\n",
       "  </thead>\n",
       "  <tbody>\n",
       "    <tr>\n",
       "      <th>313</th>\n",
       "      <td>1Fam</td>\n",
       "      <td>375000</td>\n",
       "      <td>215245</td>\n",
       "    </tr>\n",
       "  </tbody>\n",
       "</table>\n",
       "</div>"
      ],
      "text/plain": [
       "    BldgType  SalePrice  LotArea\n",
       "313     1Fam     375000   215245"
      ]
     },
     "execution_count": 28,
     "metadata": {},
     "output_type": "execute_result"
    }
   ],
   "source": [
    "df[df['LotArea']==215245][['BldgType','SalePrice','LotArea']]"
   ]
  },
  {
   "cell_type": "markdown",
   "id": "af792fb9",
   "metadata": {},
   "source": [
    "This row is most likely a mistake, we'll drop it:"
   ]
  },
  {
   "cell_type": "code",
   "execution_count": 29,
   "id": "863c91b3",
   "metadata": {},
   "outputs": [],
   "source": [
    "df.drop(index = 313, axis = 0, inplace = True)"
   ]
  },
  {
   "cell_type": "code",
   "execution_count": 30,
   "id": "5f2045c9",
   "metadata": {},
   "outputs": [
    {
     "data": {
      "text/plain": [
       "count    1459.000000\n",
       "mean     1971.272104\n",
       "std        30.212814\n",
       "min      1872.000000\n",
       "25%      1954.000000\n",
       "50%      1973.000000\n",
       "75%      2000.000000\n",
       "max      2010.000000\n",
       "Name: YearBuilt, dtype: float64"
      ]
     },
     "execution_count": 30,
     "metadata": {},
     "output_type": "execute_result"
    }
   ],
   "source": [
    "df['YearBuilt'].describe()"
   ]
  },
  {
   "cell_type": "markdown",
   "id": "7b0db57f",
   "metadata": {},
   "source": [
    "___\n",
    "\n",
    "### Inspecting data types:"
   ]
  },
  {
   "cell_type": "markdown",
   "id": "4f4ceb95",
   "metadata": {},
   "source": [
    "'MSSubClass' is a categorical column that identifies the type of dwelling involved in the sale. For example: </br>\n",
    "\n",
    "- 20\t1-STORY 1946 & NEWER ALL STYLES\n",
    "- 30\t1-STORY 1945 & OLDER\n",
    "- 40\t1-STORY W/FINISHED ATTIC ALL AGES\n",
    "- ..."
   ]
  },
  {
   "cell_type": "code",
   "execution_count": 29,
   "id": "c1289cdc",
   "metadata": {},
   "outputs": [
    {
     "data": {
      "text/plain": [
       "20     536\n",
       "60     299\n",
       "50     144\n",
       "120     87\n",
       "30      69\n",
       "160     63\n",
       "70      60\n",
       "80      58\n",
       "90      52\n",
       "190     30\n",
       "85      20\n",
       "75      16\n",
       "45      12\n",
       "180     10\n",
       "40       4\n",
       "Name: MSSubClass, dtype: int64"
      ]
     },
     "execution_count": 29,
     "metadata": {},
     "output_type": "execute_result"
    }
   ],
   "source": [
    "df['MSSubClass'].value_counts()"
   ]
  },
  {
   "cell_type": "code",
   "execution_count": 30,
   "id": "1497f8b7",
   "metadata": {},
   "outputs": [],
   "source": [
    "df['MSSubClass'] = df['MSSubClass'].astype(str)"
   ]
  },
  {
   "cell_type": "markdown",
   "id": "6597f543",
   "metadata": {},
   "source": [
    "We will convert 'OverallQual' and 'OverallCond' to string ratings, and handle the rest of the type casting in this cell:"
   ]
  },
  {
   "cell_type": "code",
   "execution_count": 31,
   "id": "aa08b98e",
   "metadata": {},
   "outputs": [],
   "source": [
    "dictionary = { 10:'Very Excellent',9:'Excellent',8:'Very Good',7:'Good',6:\n",
    "              'Above Average',5:'Average',4:'Below Average',3:'Fair',2:'Poor',1:'very poor'}\n",
    "df['OverallQual'] = df['OverallQual'].replace(dictionary)\n",
    "df['OverallCond'] = df['OverallQual'].replace(dictionary)\n",
    "df['YrSold'] = df['YrSold'].astype(str)\n",
    "df['MoSold'] = df['MoSold'].astype(str)\n",
    "df['GarageYrBlt'] = df['GarageYrBlt'].astype(str)\n",
    "df['YearBuilt'] = df['YearBuilt'].astype(str)\n",
    "df['YearRemodAdd'] = df['YearRemodAdd'].astype(str)"
   ]
  }
 ],
 "metadata": {
  "kernelspec": {
   "display_name": "Python 3 (ipykernel)",
   "language": "python",
   "name": "python3"
  },
  "language_info": {
   "codemirror_mode": {
    "name": "ipython",
    "version": 3
   },
   "file_extension": ".py",
   "mimetype": "text/x-python",
   "name": "python",
   "nbconvert_exporter": "python",
   "pygments_lexer": "ipython3",
   "version": "3.9.15"
  }
 },
 "nbformat": 4,
 "nbformat_minor": 5
}
