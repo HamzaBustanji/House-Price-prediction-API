{
 "cells": [
  {
   "cell_type": "markdown",
   "id": "138701eb",
   "metadata": {},
   "source": [
    "# 3 Pre-processing:\n",
    "\n",
    "## 3.1 Contents: \n",
    "* [3.2 Importin libraries](3.2_Importing_libraries)\n",
    "* [3.3 Loading the dataset](3.3_Loading_the_dataset)\n",
    "* [3.4 Converting data types](3.4_Converting_data_types)\n",
    "* [3.5 Creating dummy variables](3.5_Creating_dummy_variables)\n",
    "* [3.6 Train/Test split](3.6_Train/Test_split)\n",
    "* [3.7 Scaling the features](3.7_Scaling_the_features)\n",
    "___\n",
    "\n",
    "* [4 Modeling](4_Modeling)\n",
    "    * [4.1 Initial Not-Even-A-Model](4.1_Initial_Not-Even-A-Model)\n",
    "    * [4.2 Linear models](4.2-Linear-models)\n",
    "        * [4.2.1 Linear Regression model](4.2.1-Linear-Regression-model)\n",
    "            * [4.2.1.1 Model implementation](4.2.1.1_Model_implementation)\n",
    "            * [4.2.1.2 Final evaluation](4.2.1.2_Final_evaluation)\n",
    "        * [4.2.2 Elastic Net Regression model](4.2.2-Elastic-Net-Regression-model)\n",
    "            * [4.2.2.1 Model implementation](4.2.2.1_Model_implementation)\n",
    "            * [4.2.2.2 Final evaluation](4.2.2.2_Final_evaluation)\n",
    "        * [4.2.3 Polynomial model](4.2.3-Polynomial-model)\n",
    "            * [4.2.3.1 Model implementation](4.2.3.1_Model_implementation)\n",
    "            * [4.2.3.2 Final evaluation](4.2.3.2_Final_evaluation)\n",
    "    * [4.3 Support Vector Regression](4.3_Support_Vector_Regression)\n",
    "        * [4.3.1 Model implementation](4.2.3.1_Model_implementation)\n",
    "        * [4.3.2 Final evaluation](4.2.3.2_Final_evaluation)\n",
    "    * [4.4 Random Forrest Regression](4.4_Random_Forrest_Regression)\n",
    "        * [4.4.1 Model implementation](4.2.3.1_Model_implementation)\n",
    "        * [4.4.2 Final evaluation](4.2.3.2_Final_evaluation)\n",
    "        \n",
    "___\n",
    "\n",
    "\n",
    "* move forward with best performing model \n",
    "* reveal which features are most important to that model \n",
    "* display relative importance with a barchart\n"
   ]
  },
  {
   "cell_type": "markdown",
   "id": "fa888a43",
   "metadata": {},
   "source": [
    "## 3.2 Importing libraries:<a id='3.2_Importing_libraries'></a>"
   ]
  },
  {
   "cell_type": "code",
   "execution_count": 1,
   "id": "4b4fde95",
   "metadata": {},
   "outputs": [],
   "source": [
    "import pandas as pd\n",
    "import numpy as np\n",
    "import matplotlib.pyplot as plt \n",
    "import seaborn as sns\n",
    "import os\n",
    "\n",
    "from sklearn.metrics import mean_absolute_error,mean_squared_error,r2_score\n",
    "from sklearn.dummy import DummyRegressor\n",
    "from sklearn.model_selection import GridSearchCV\n",
    "from sklearn.linear_model import ElasticNet\n",
    "from sklearn.preprocessing import StandardScaler\n",
    "from sklearn.model_selection import train_test_split\n",
    "from sklearn.preprocessing import PolynomialFeatures\n",
    "from sklearn.linear_model import LinearRegression\n",
    "from sklearn.model_selection import cross_val_score\n",
    "from sklearn.svm import SVR\n",
    "from sklearn.ensemble import RandomForestRegressor\n",
    "from sklearn.tree import plot_tree\n",
    "from matplotlib.pylab import rcParams\n",
    "import dill"
   ]
  },
  {
   "cell_type": "markdown",
   "id": "a01a885d",
   "metadata": {},
   "source": [
    "___\n",
    "\n",
    "## 3.3 Loading the dataset:<a id='3.3_Loading_the_dataset'></a>"
   ]
  },
  {
   "cell_type": "code",
   "execution_count": 2,
   "id": "22ec6148",
   "metadata": {},
   "outputs": [
    {
     "data": {
      "text/html": [
       "<div>\n",
       "<style scoped>\n",
       "    .dataframe tbody tr th:only-of-type {\n",
       "        vertical-align: middle;\n",
       "    }\n",
       "\n",
       "    .dataframe tbody tr th {\n",
       "        vertical-align: top;\n",
       "    }\n",
       "\n",
       "    .dataframe thead th {\n",
       "        text-align: right;\n",
       "    }\n",
       "</style>\n",
       "<table border=\"1\" class=\"dataframe\">\n",
       "  <thead>\n",
       "    <tr style=\"text-align: right;\">\n",
       "      <th></th>\n",
       "      <th>SalePrice</th>\n",
       "      <th>Neighborhood</th>\n",
       "      <th>YearBuilt</th>\n",
       "      <th>Fireplaces</th>\n",
       "      <th>Condition</th>\n",
       "      <th>HouseStyle</th>\n",
       "      <th>BuildingType</th>\n",
       "      <th>HalfBath</th>\n",
       "      <th>FullBath</th>\n",
       "      <th>Bedrooms</th>\n",
       "      <th>HouseArea</th>\n",
       "      <th>LotArea</th>\n",
       "      <th>GarageCars</th>\n",
       "      <th>MasVnrArea</th>\n",
       "      <th>Exterior1st</th>\n",
       "      <th>YearRemodAdd</th>\n",
       "    </tr>\n",
       "  </thead>\n",
       "  <tbody>\n",
       "    <tr>\n",
       "      <th>0</th>\n",
       "      <td>208500</td>\n",
       "      <td>CollgCr</td>\n",
       "      <td>2003</td>\n",
       "      <td>0</td>\n",
       "      <td>Good</td>\n",
       "      <td>Two story</td>\n",
       "      <td>Single-family</td>\n",
       "      <td>1</td>\n",
       "      <td>2</td>\n",
       "      <td>3</td>\n",
       "      <td>3114</td>\n",
       "      <td>8450</td>\n",
       "      <td>2</td>\n",
       "      <td>196.0</td>\n",
       "      <td>VinylSd</td>\n",
       "      <td>2003</td>\n",
       "    </tr>\n",
       "    <tr>\n",
       "      <th>1</th>\n",
       "      <td>181500</td>\n",
       "      <td>Veenker</td>\n",
       "      <td>1976</td>\n",
       "      <td>1</td>\n",
       "      <td>Above Average</td>\n",
       "      <td>One story</td>\n",
       "      <td>Single-family</td>\n",
       "      <td>0</td>\n",
       "      <td>2</td>\n",
       "      <td>3</td>\n",
       "      <td>2984</td>\n",
       "      <td>9600</td>\n",
       "      <td>2</td>\n",
       "      <td>0.0</td>\n",
       "      <td>MetalSd</td>\n",
       "      <td>1976</td>\n",
       "    </tr>\n",
       "    <tr>\n",
       "      <th>2</th>\n",
       "      <td>223500</td>\n",
       "      <td>CollgCr</td>\n",
       "      <td>2001</td>\n",
       "      <td>1</td>\n",
       "      <td>Good</td>\n",
       "      <td>Two story</td>\n",
       "      <td>Single-family</td>\n",
       "      <td>1</td>\n",
       "      <td>2</td>\n",
       "      <td>3</td>\n",
       "      <td>3314</td>\n",
       "      <td>11250</td>\n",
       "      <td>2</td>\n",
       "      <td>162.0</td>\n",
       "      <td>VinylSd</td>\n",
       "      <td>2002</td>\n",
       "    </tr>\n",
       "    <tr>\n",
       "      <th>3</th>\n",
       "      <td>140000</td>\n",
       "      <td>Crawfor</td>\n",
       "      <td>1915</td>\n",
       "      <td>1</td>\n",
       "      <td>Good</td>\n",
       "      <td>Two story</td>\n",
       "      <td>Single-family</td>\n",
       "      <td>0</td>\n",
       "      <td>1</td>\n",
       "      <td>3</td>\n",
       "      <td>3115</td>\n",
       "      <td>9550</td>\n",
       "      <td>3</td>\n",
       "      <td>0.0</td>\n",
       "      <td>Wd Sdng</td>\n",
       "      <td>1970</td>\n",
       "    </tr>\n",
       "    <tr>\n",
       "      <th>4</th>\n",
       "      <td>250000</td>\n",
       "      <td>NoRidge</td>\n",
       "      <td>2000</td>\n",
       "      <td>1</td>\n",
       "      <td>Very Good</td>\n",
       "      <td>Two story</td>\n",
       "      <td>Single-family</td>\n",
       "      <td>1</td>\n",
       "      <td>2</td>\n",
       "      <td>4</td>\n",
       "      <td>4179</td>\n",
       "      <td>14260</td>\n",
       "      <td>3</td>\n",
       "      <td>350.0</td>\n",
       "      <td>VinylSd</td>\n",
       "      <td>2000</td>\n",
       "    </tr>\n",
       "  </tbody>\n",
       "</table>\n",
       "</div>"
      ],
      "text/plain": [
       "   SalePrice Neighborhood  YearBuilt  Fireplaces      Condition HouseStyle  \\\n",
       "0     208500      CollgCr       2003           0           Good  Two story   \n",
       "1     181500      Veenker       1976           1  Above Average  One story   \n",
       "2     223500      CollgCr       2001           1           Good  Two story   \n",
       "3     140000      Crawfor       1915           1           Good  Two story   \n",
       "4     250000      NoRidge       2000           1      Very Good  Two story   \n",
       "\n",
       "    BuildingType  HalfBath  FullBath  Bedrooms  HouseArea  LotArea  \\\n",
       "0  Single-family         1         2         3       3114     8450   \n",
       "1  Single-family         0         2         3       2984     9600   \n",
       "2  Single-family         1         2         3       3314    11250   \n",
       "3  Single-family         0         1         3       3115     9550   \n",
       "4  Single-family         1         2         4       4179    14260   \n",
       "\n",
       "   GarageCars  MasVnrArea Exterior1st  YearRemodAdd  \n",
       "0           2       196.0     VinylSd          2003  \n",
       "1           2         0.0     MetalSd          1976  \n",
       "2           2       162.0     VinylSd          2002  \n",
       "3           3         0.0     Wd Sdng          1970  \n",
       "4           3       350.0     VinylSd          2000  "
      ]
     },
     "execution_count": 2,
     "metadata": {},
     "output_type": "execute_result"
    }
   ],
   "source": [
    "df = pd.read_csv('/Users/hamzaalbustanji/Documents/GitHub/House-Price-prediction-API/data/df_eda.csv')\n",
    "df.head()"
   ]
  },
  {
   "cell_type": "code",
   "execution_count": 3,
   "id": "3e072051",
   "metadata": {},
   "outputs": [
    {
     "name": "stdout",
     "output_type": "stream",
     "text": [
      "<class 'pandas.core.frame.DataFrame'>\n",
      "RangeIndex: 1459 entries, 0 to 1458\n",
      "Data columns (total 16 columns):\n",
      " #   Column        Non-Null Count  Dtype  \n",
      "---  ------        --------------  -----  \n",
      " 0   SalePrice     1459 non-null   int64  \n",
      " 1   Neighborhood  1459 non-null   object \n",
      " 2   YearBuilt     1459 non-null   int64  \n",
      " 3   Fireplaces    1459 non-null   int64  \n",
      " 4   Condition     1459 non-null   object \n",
      " 5   HouseStyle    1459 non-null   object \n",
      " 6   BuildingType  1459 non-null   object \n",
      " 7   HalfBath      1459 non-null   int64  \n",
      " 8   FullBath      1459 non-null   int64  \n",
      " 9   Bedrooms      1459 non-null   int64  \n",
      " 10  HouseArea     1459 non-null   int64  \n",
      " 11  LotArea       1459 non-null   int64  \n",
      " 12  GarageCars    1459 non-null   int64  \n",
      " 13  MasVnrArea    1459 non-null   float64\n",
      " 14  Exterior1st   1459 non-null   object \n",
      " 15  YearRemodAdd  1459 non-null   int64  \n",
      "dtypes: float64(1), int64(10), object(5)\n",
      "memory usage: 182.5+ KB\n"
     ]
    }
   ],
   "source": [
    "df.info()"
   ]
  },
  {
   "cell_type": "markdown",
   "id": "cc0ecb30",
   "metadata": {},
   "source": [
    "___\n",
    "\n",
    "## 3.4 Converting data types:<a id='3.4_Converting_data_types'></a>"
   ]
  },
  {
   "cell_type": "code",
   "execution_count": 4,
   "id": "d6469d3f",
   "metadata": {},
   "outputs": [
    {
     "name": "stdout",
     "output_type": "stream",
     "text": [
      "<class 'pandas.core.frame.DataFrame'>\n",
      "RangeIndex: 1459 entries, 0 to 1458\n",
      "Data columns (total 16 columns):\n",
      " #   Column        Non-Null Count  Dtype  \n",
      "---  ------        --------------  -----  \n",
      " 0   SalePrice     1459 non-null   int64  \n",
      " 1   Neighborhood  1459 non-null   object \n",
      " 2   YearBuilt     1459 non-null   int64  \n",
      " 3   Fireplaces    1459 non-null   int64  \n",
      " 4   Condition     1459 non-null   object \n",
      " 5   HouseStyle    1459 non-null   object \n",
      " 6   BuildingType  1459 non-null   object \n",
      " 7   HalfBath      1459 non-null   int64  \n",
      " 8   FullBath      1459 non-null   int64  \n",
      " 9   Bedrooms      1459 non-null   int64  \n",
      " 10  HouseArea     1459 non-null   int64  \n",
      " 11  LotArea       1459 non-null   int64  \n",
      " 12  GarageCars    1459 non-null   int64  \n",
      " 13  MasVnrArea    1459 non-null   float64\n",
      " 14  Exterior1st   1459 non-null   object \n",
      " 15  YearRemodAdd  1459 non-null   int64  \n",
      "dtypes: float64(1), int64(10), object(5)\n",
      "memory usage: 182.5+ KB\n"
     ]
    }
   ],
   "source": [
    "df.info()"
   ]
  },
  {
   "cell_type": "markdown",
   "id": "65e68b70",
   "metadata": {},
   "source": [
    "___\n",
    "\n",
    "## 3.5 Creating dummy variables: <a id='3.5_Creating_dummy_variables'></a>"
   ]
  },
  {
   "cell_type": "code",
   "execution_count": 5,
   "id": "69500cf7",
   "metadata": {},
   "outputs": [],
   "source": [
    "df_object = df.select_dtypes(include = 'object')\n",
    "df_numeric = df.select_dtypes(exclude = 'object')"
   ]
  },
  {
   "cell_type": "code",
   "execution_count": 6,
   "id": "21d096a9",
   "metadata": {},
   "outputs": [],
   "source": [
    "df_object_dummies = pd.get_dummies(df_object,drop_first=True)"
   ]
  },
  {
   "cell_type": "code",
   "execution_count": 7,
   "id": "2112a274",
   "metadata": {},
   "outputs": [
    {
     "data": {
      "text/html": [
       "<div>\n",
       "<style scoped>\n",
       "    .dataframe tbody tr th:only-of-type {\n",
       "        vertical-align: middle;\n",
       "    }\n",
       "\n",
       "    .dataframe tbody tr th {\n",
       "        vertical-align: top;\n",
       "    }\n",
       "\n",
       "    .dataframe thead th {\n",
       "        text-align: right;\n",
       "    }\n",
       "</style>\n",
       "<table border=\"1\" class=\"dataframe\">\n",
       "  <thead>\n",
       "    <tr style=\"text-align: right;\">\n",
       "      <th></th>\n",
       "      <th>Neighborhood_Blueste</th>\n",
       "      <th>Neighborhood_BrDale</th>\n",
       "      <th>Neighborhood_BrkSide</th>\n",
       "      <th>Neighborhood_ClearCr</th>\n",
       "      <th>Neighborhood_CollgCr</th>\n",
       "      <th>Neighborhood_Crawfor</th>\n",
       "      <th>Neighborhood_Edwards</th>\n",
       "      <th>Neighborhood_Gilbert</th>\n",
       "      <th>Neighborhood_IDOTRR</th>\n",
       "      <th>Neighborhood_MeadowV</th>\n",
       "      <th>...</th>\n",
       "      <th>Exterior1st_CemntBd</th>\n",
       "      <th>Exterior1st_HdBoard</th>\n",
       "      <th>Exterior1st_ImStucc</th>\n",
       "      <th>Exterior1st_MetalSd</th>\n",
       "      <th>Exterior1st_Plywood</th>\n",
       "      <th>Exterior1st_Stone</th>\n",
       "      <th>Exterior1st_Stucco</th>\n",
       "      <th>Exterior1st_VinylSd</th>\n",
       "      <th>Exterior1st_Wd Sdng</th>\n",
       "      <th>Exterior1st_WdShing</th>\n",
       "    </tr>\n",
       "  </thead>\n",
       "  <tbody>\n",
       "    <tr>\n",
       "      <th>0</th>\n",
       "      <td>0</td>\n",
       "      <td>0</td>\n",
       "      <td>0</td>\n",
       "      <td>0</td>\n",
       "      <td>1</td>\n",
       "      <td>0</td>\n",
       "      <td>0</td>\n",
       "      <td>0</td>\n",
       "      <td>0</td>\n",
       "      <td>0</td>\n",
       "      <td>...</td>\n",
       "      <td>0</td>\n",
       "      <td>0</td>\n",
       "      <td>0</td>\n",
       "      <td>0</td>\n",
       "      <td>0</td>\n",
       "      <td>0</td>\n",
       "      <td>0</td>\n",
       "      <td>1</td>\n",
       "      <td>0</td>\n",
       "      <td>0</td>\n",
       "    </tr>\n",
       "    <tr>\n",
       "      <th>1</th>\n",
       "      <td>0</td>\n",
       "      <td>0</td>\n",
       "      <td>0</td>\n",
       "      <td>0</td>\n",
       "      <td>0</td>\n",
       "      <td>0</td>\n",
       "      <td>0</td>\n",
       "      <td>0</td>\n",
       "      <td>0</td>\n",
       "      <td>0</td>\n",
       "      <td>...</td>\n",
       "      <td>0</td>\n",
       "      <td>0</td>\n",
       "      <td>0</td>\n",
       "      <td>1</td>\n",
       "      <td>0</td>\n",
       "      <td>0</td>\n",
       "      <td>0</td>\n",
       "      <td>0</td>\n",
       "      <td>0</td>\n",
       "      <td>0</td>\n",
       "    </tr>\n",
       "    <tr>\n",
       "      <th>2</th>\n",
       "      <td>0</td>\n",
       "      <td>0</td>\n",
       "      <td>0</td>\n",
       "      <td>0</td>\n",
       "      <td>1</td>\n",
       "      <td>0</td>\n",
       "      <td>0</td>\n",
       "      <td>0</td>\n",
       "      <td>0</td>\n",
       "      <td>0</td>\n",
       "      <td>...</td>\n",
       "      <td>0</td>\n",
       "      <td>0</td>\n",
       "      <td>0</td>\n",
       "      <td>0</td>\n",
       "      <td>0</td>\n",
       "      <td>0</td>\n",
       "      <td>0</td>\n",
       "      <td>1</td>\n",
       "      <td>0</td>\n",
       "      <td>0</td>\n",
       "    </tr>\n",
       "    <tr>\n",
       "      <th>3</th>\n",
       "      <td>0</td>\n",
       "      <td>0</td>\n",
       "      <td>0</td>\n",
       "      <td>0</td>\n",
       "      <td>0</td>\n",
       "      <td>1</td>\n",
       "      <td>0</td>\n",
       "      <td>0</td>\n",
       "      <td>0</td>\n",
       "      <td>0</td>\n",
       "      <td>...</td>\n",
       "      <td>0</td>\n",
       "      <td>0</td>\n",
       "      <td>0</td>\n",
       "      <td>0</td>\n",
       "      <td>0</td>\n",
       "      <td>0</td>\n",
       "      <td>0</td>\n",
       "      <td>0</td>\n",
       "      <td>1</td>\n",
       "      <td>0</td>\n",
       "    </tr>\n",
       "    <tr>\n",
       "      <th>4</th>\n",
       "      <td>0</td>\n",
       "      <td>0</td>\n",
       "      <td>0</td>\n",
       "      <td>0</td>\n",
       "      <td>0</td>\n",
       "      <td>0</td>\n",
       "      <td>0</td>\n",
       "      <td>0</td>\n",
       "      <td>0</td>\n",
       "      <td>0</td>\n",
       "      <td>...</td>\n",
       "      <td>0</td>\n",
       "      <td>0</td>\n",
       "      <td>0</td>\n",
       "      <td>0</td>\n",
       "      <td>0</td>\n",
       "      <td>0</td>\n",
       "      <td>0</td>\n",
       "      <td>1</td>\n",
       "      <td>0</td>\n",
       "      <td>0</td>\n",
       "    </tr>\n",
       "  </tbody>\n",
       "</table>\n",
       "<p>5 rows × 55 columns</p>\n",
       "</div>"
      ],
      "text/plain": [
       "   Neighborhood_Blueste  Neighborhood_BrDale  Neighborhood_BrkSide  \\\n",
       "0                     0                    0                     0   \n",
       "1                     0                    0                     0   \n",
       "2                     0                    0                     0   \n",
       "3                     0                    0                     0   \n",
       "4                     0                    0                     0   \n",
       "\n",
       "   Neighborhood_ClearCr  Neighborhood_CollgCr  Neighborhood_Crawfor  \\\n",
       "0                     0                     1                     0   \n",
       "1                     0                     0                     0   \n",
       "2                     0                     1                     0   \n",
       "3                     0                     0                     1   \n",
       "4                     0                     0                     0   \n",
       "\n",
       "   Neighborhood_Edwards  Neighborhood_Gilbert  Neighborhood_IDOTRR  \\\n",
       "0                     0                     0                    0   \n",
       "1                     0                     0                    0   \n",
       "2                     0                     0                    0   \n",
       "3                     0                     0                    0   \n",
       "4                     0                     0                    0   \n",
       "\n",
       "   Neighborhood_MeadowV  ...  Exterior1st_CemntBd  Exterior1st_HdBoard  \\\n",
       "0                     0  ...                    0                    0   \n",
       "1                     0  ...                    0                    0   \n",
       "2                     0  ...                    0                    0   \n",
       "3                     0  ...                    0                    0   \n",
       "4                     0  ...                    0                    0   \n",
       "\n",
       "   Exterior1st_ImStucc  Exterior1st_MetalSd  Exterior1st_Plywood  \\\n",
       "0                    0                    0                    0   \n",
       "1                    0                    1                    0   \n",
       "2                    0                    0                    0   \n",
       "3                    0                    0                    0   \n",
       "4                    0                    0                    0   \n",
       "\n",
       "   Exterior1st_Stone  Exterior1st_Stucco  Exterior1st_VinylSd  \\\n",
       "0                  0                   0                    1   \n",
       "1                  0                   0                    0   \n",
       "2                  0                   0                    1   \n",
       "3                  0                   0                    0   \n",
       "4                  0                   0                    1   \n",
       "\n",
       "   Exterior1st_Wd Sdng  Exterior1st_WdShing  \n",
       "0                    0                    0  \n",
       "1                    0                    0  \n",
       "2                    0                    0  \n",
       "3                    1                    0  \n",
       "4                    0                    0  \n",
       "\n",
       "[5 rows x 55 columns]"
      ]
     },
     "execution_count": 7,
     "metadata": {},
     "output_type": "execute_result"
    }
   ],
   "source": [
    "df_object_dummies.head()"
   ]
  },
  {
   "cell_type": "code",
   "execution_count": 8,
   "id": "13affa29",
   "metadata": {},
   "outputs": [],
   "source": [
    "final_df = pd.concat([df_numeric,df_object_dummies], axis = 1)"
   ]
  },
  {
   "cell_type": "code",
   "execution_count": 9,
   "id": "66b408dc",
   "metadata": {},
   "outputs": [
    {
     "data": {
      "text/html": [
       "<div>\n",
       "<style scoped>\n",
       "    .dataframe tbody tr th:only-of-type {\n",
       "        vertical-align: middle;\n",
       "    }\n",
       "\n",
       "    .dataframe tbody tr th {\n",
       "        vertical-align: top;\n",
       "    }\n",
       "\n",
       "    .dataframe thead th {\n",
       "        text-align: right;\n",
       "    }\n",
       "</style>\n",
       "<table border=\"1\" class=\"dataframe\">\n",
       "  <thead>\n",
       "    <tr style=\"text-align: right;\">\n",
       "      <th></th>\n",
       "      <th>SalePrice</th>\n",
       "      <th>YearBuilt</th>\n",
       "      <th>Fireplaces</th>\n",
       "      <th>HalfBath</th>\n",
       "      <th>FullBath</th>\n",
       "      <th>Bedrooms</th>\n",
       "      <th>HouseArea</th>\n",
       "      <th>LotArea</th>\n",
       "      <th>GarageCars</th>\n",
       "      <th>MasVnrArea</th>\n",
       "      <th>...</th>\n",
       "      <th>Exterior1st_CemntBd</th>\n",
       "      <th>Exterior1st_HdBoard</th>\n",
       "      <th>Exterior1st_ImStucc</th>\n",
       "      <th>Exterior1st_MetalSd</th>\n",
       "      <th>Exterior1st_Plywood</th>\n",
       "      <th>Exterior1st_Stone</th>\n",
       "      <th>Exterior1st_Stucco</th>\n",
       "      <th>Exterior1st_VinylSd</th>\n",
       "      <th>Exterior1st_Wd Sdng</th>\n",
       "      <th>Exterior1st_WdShing</th>\n",
       "    </tr>\n",
       "  </thead>\n",
       "  <tbody>\n",
       "    <tr>\n",
       "      <th>0</th>\n",
       "      <td>208500</td>\n",
       "      <td>2003</td>\n",
       "      <td>0</td>\n",
       "      <td>1</td>\n",
       "      <td>2</td>\n",
       "      <td>3</td>\n",
       "      <td>3114</td>\n",
       "      <td>8450</td>\n",
       "      <td>2</td>\n",
       "      <td>196.0</td>\n",
       "      <td>...</td>\n",
       "      <td>0</td>\n",
       "      <td>0</td>\n",
       "      <td>0</td>\n",
       "      <td>0</td>\n",
       "      <td>0</td>\n",
       "      <td>0</td>\n",
       "      <td>0</td>\n",
       "      <td>1</td>\n",
       "      <td>0</td>\n",
       "      <td>0</td>\n",
       "    </tr>\n",
       "    <tr>\n",
       "      <th>1</th>\n",
       "      <td>181500</td>\n",
       "      <td>1976</td>\n",
       "      <td>1</td>\n",
       "      <td>0</td>\n",
       "      <td>2</td>\n",
       "      <td>3</td>\n",
       "      <td>2984</td>\n",
       "      <td>9600</td>\n",
       "      <td>2</td>\n",
       "      <td>0.0</td>\n",
       "      <td>...</td>\n",
       "      <td>0</td>\n",
       "      <td>0</td>\n",
       "      <td>0</td>\n",
       "      <td>1</td>\n",
       "      <td>0</td>\n",
       "      <td>0</td>\n",
       "      <td>0</td>\n",
       "      <td>0</td>\n",
       "      <td>0</td>\n",
       "      <td>0</td>\n",
       "    </tr>\n",
       "    <tr>\n",
       "      <th>2</th>\n",
       "      <td>223500</td>\n",
       "      <td>2001</td>\n",
       "      <td>1</td>\n",
       "      <td>1</td>\n",
       "      <td>2</td>\n",
       "      <td>3</td>\n",
       "      <td>3314</td>\n",
       "      <td>11250</td>\n",
       "      <td>2</td>\n",
       "      <td>162.0</td>\n",
       "      <td>...</td>\n",
       "      <td>0</td>\n",
       "      <td>0</td>\n",
       "      <td>0</td>\n",
       "      <td>0</td>\n",
       "      <td>0</td>\n",
       "      <td>0</td>\n",
       "      <td>0</td>\n",
       "      <td>1</td>\n",
       "      <td>0</td>\n",
       "      <td>0</td>\n",
       "    </tr>\n",
       "    <tr>\n",
       "      <th>3</th>\n",
       "      <td>140000</td>\n",
       "      <td>1915</td>\n",
       "      <td>1</td>\n",
       "      <td>0</td>\n",
       "      <td>1</td>\n",
       "      <td>3</td>\n",
       "      <td>3115</td>\n",
       "      <td>9550</td>\n",
       "      <td>3</td>\n",
       "      <td>0.0</td>\n",
       "      <td>...</td>\n",
       "      <td>0</td>\n",
       "      <td>0</td>\n",
       "      <td>0</td>\n",
       "      <td>0</td>\n",
       "      <td>0</td>\n",
       "      <td>0</td>\n",
       "      <td>0</td>\n",
       "      <td>0</td>\n",
       "      <td>1</td>\n",
       "      <td>0</td>\n",
       "    </tr>\n",
       "    <tr>\n",
       "      <th>4</th>\n",
       "      <td>250000</td>\n",
       "      <td>2000</td>\n",
       "      <td>1</td>\n",
       "      <td>1</td>\n",
       "      <td>2</td>\n",
       "      <td>4</td>\n",
       "      <td>4179</td>\n",
       "      <td>14260</td>\n",
       "      <td>3</td>\n",
       "      <td>350.0</td>\n",
       "      <td>...</td>\n",
       "      <td>0</td>\n",
       "      <td>0</td>\n",
       "      <td>0</td>\n",
       "      <td>0</td>\n",
       "      <td>0</td>\n",
       "      <td>0</td>\n",
       "      <td>0</td>\n",
       "      <td>1</td>\n",
       "      <td>0</td>\n",
       "      <td>0</td>\n",
       "    </tr>\n",
       "  </tbody>\n",
       "</table>\n",
       "<p>5 rows × 66 columns</p>\n",
       "</div>"
      ],
      "text/plain": [
       "   SalePrice  YearBuilt  Fireplaces  HalfBath  FullBath  Bedrooms  HouseArea  \\\n",
       "0     208500       2003           0         1         2         3       3114   \n",
       "1     181500       1976           1         0         2         3       2984   \n",
       "2     223500       2001           1         1         2         3       3314   \n",
       "3     140000       1915           1         0         1         3       3115   \n",
       "4     250000       2000           1         1         2         4       4179   \n",
       "\n",
       "   LotArea  GarageCars  MasVnrArea  ...  Exterior1st_CemntBd  \\\n",
       "0     8450           2       196.0  ...                    0   \n",
       "1     9600           2         0.0  ...                    0   \n",
       "2    11250           2       162.0  ...                    0   \n",
       "3     9550           3         0.0  ...                    0   \n",
       "4    14260           3       350.0  ...                    0   \n",
       "\n",
       "   Exterior1st_HdBoard  Exterior1st_ImStucc  Exterior1st_MetalSd  \\\n",
       "0                    0                    0                    0   \n",
       "1                    0                    0                    1   \n",
       "2                    0                    0                    0   \n",
       "3                    0                    0                    0   \n",
       "4                    0                    0                    0   \n",
       "\n",
       "   Exterior1st_Plywood  Exterior1st_Stone  Exterior1st_Stucco  \\\n",
       "0                    0                  0                   0   \n",
       "1                    0                  0                   0   \n",
       "2                    0                  0                   0   \n",
       "3                    0                  0                   0   \n",
       "4                    0                  0                   0   \n",
       "\n",
       "   Exterior1st_VinylSd  Exterior1st_Wd Sdng  Exterior1st_WdShing  \n",
       "0                    1                    0                    0  \n",
       "1                    0                    0                    0  \n",
       "2                    1                    0                    0  \n",
       "3                    0                    1                    0  \n",
       "4                    1                    0                    0  \n",
       "\n",
       "[5 rows x 66 columns]"
      ]
     },
     "execution_count": 9,
     "metadata": {},
     "output_type": "execute_result"
    }
   ],
   "source": [
    "final_df.head()"
   ]
  },
  {
   "cell_type": "markdown",
   "id": "5d985fb8",
   "metadata": {},
   "source": [
    "___\n",
    "\n",
    "## 3.6 Train/Test split:<a id='3.6_Train/Test_split'></a>"
   ]
  },
  {
   "cell_type": "code",
   "execution_count": 10,
   "id": "ba7c5ab9",
   "metadata": {},
   "outputs": [],
   "source": [
    "X = final_df.drop(columns = 'SalePrice', axis = 1)\n",
    "y = final_df['SalePrice']"
   ]
  },
  {
   "cell_type": "code",
   "execution_count": 11,
   "id": "1b746206",
   "metadata": {},
   "outputs": [],
   "source": [
    "X_train, X_test, y_train, y_test = train_test_split(X, y, test_size=0.2, random_state=101)"
   ]
  },
  {
   "cell_type": "code",
   "execution_count": 12,
   "id": "149582b5",
   "metadata": {},
   "outputs": [
    {
     "data": {
      "text/plain": [
       "0    1111\n",
       "1      56\n",
       "Name: Neighborhood_NWAmes, dtype: int64"
      ]
     },
     "execution_count": 12,
     "metadata": {},
     "output_type": "execute_result"
    }
   ],
   "source": [
    "X_train['Neighborhood_NWAmes'].value_counts()"
   ]
  },
  {
   "cell_type": "code",
   "execution_count": 13,
   "id": "0be98850",
   "metadata": {},
   "outputs": [],
   "source": [
    "d = pd.DataFrame(columns =['YearBuilt', 'Fireplaces', 'HalfBath', 'FullBath', 'Bedrooms',\n",
    "       'HouseArea', 'LotArea', 'GarageCars', 'MasVnrArea', 'YearRemodAdd',\n",
    "       'Neighborhood_Blueste', 'Neighborhood_BrDale', 'Neighborhood_BrkSide',\n",
    "       'Neighborhood_ClearCr', 'Neighborhood_CollgCr', 'Neighborhood_Crawfor',\n",
    "       'Neighborhood_Edwards', 'Neighborhood_Gilbert', 'Neighborhood_IDOTRR',\n",
    "       'Neighborhood_MeadowV', 'Neighborhood_Mitchel', 'Neighborhood_NAmes',\n",
    "       'Neighborhood_NPkVill', 'Neighborhood_NWAmes', 'Neighborhood_NoRidge',\n",
    "       'Neighborhood_NridgHt', 'Neighborhood_OldTown', 'Neighborhood_SWISU',\n",
    "       'Neighborhood_Sawyer', 'Neighborhood_SawyerW', 'Neighborhood_Somerst',\n",
    "       'Neighborhood_StoneBr', 'Neighborhood_Timber', 'Neighborhood_Veenker',\n",
    "       'Condition_Average', 'Condition_Below Average', 'Condition_Excellent',\n",
    "       'Condition_Fair', 'Condition_Good', 'Condition_Poor',\n",
    "       'Condition_Very Excellent', 'Condition_Very Good',\n",
    "       'Condition_very poor', 'HouseStyle_One story', 'HouseStyle_Split Foyer',\n",
    "       'HouseStyle_Split Level', 'HouseStyle_Two and a half story',\n",
    "       'HouseStyle_Two story', 'BuildingType_Single-family',\n",
    "       'BuildingType_Townhouse', 'BuildingType_Two-family',\n",
    "       'Exterior1st_AsphShn', 'Exterior1st_BrkComm', 'Exterior1st_BrkFace',\n",
    "       'Exterior1st_CBlock', 'Exterior1st_CemntBd', 'Exterior1st_HdBoard',\n",
    "       'Exterior1st_ImStucc', 'Exterior1st_MetalSd', 'Exterior1st_Plywood',\n",
    "       'Exterior1st_Stone', 'Exterior1st_Stucco', 'Exterior1st_VinylSd',\n",
    "       'Exterior1st_Wd Sdng', 'Exterior1st_WdShing'] )"
   ]
  },
  {
   "cell_type": "code",
   "execution_count": 14,
   "id": "6b3d9770",
   "metadata": {},
   "outputs": [],
   "source": [
    "d.loc[0,'Fireplaces'] = 9"
   ]
  },
  {
   "cell_type": "code",
   "execution_count": 15,
   "id": "c99013dc",
   "metadata": {},
   "outputs": [
    {
     "data": {
      "text/plain": [
       "0    9\n",
       "Name: Fireplaces, dtype: object"
      ]
     },
     "execution_count": 15,
     "metadata": {},
     "output_type": "execute_result"
    }
   ],
   "source": [
    "d['Fireplaces'] "
   ]
  },
  {
   "cell_type": "markdown",
   "id": "623ac0a4",
   "metadata": {},
   "source": [
    "___\n",
    "\n",
    "## 3.7 Scaling the features:<a id='3.7_Scaling_the_features'></a>"
   ]
  },
  {
   "cell_type": "code",
   "execution_count": 16,
   "id": "b7f2902f",
   "metadata": {},
   "outputs": [],
   "source": [
    "scaler = StandardScaler()"
   ]
  },
  {
   "cell_type": "code",
   "execution_count": 17,
   "id": "affe8ea1",
   "metadata": {},
   "outputs": [
    {
     "data": {
      "text/html": [
       "<style>#sk-container-id-1 {color: black;background-color: white;}#sk-container-id-1 pre{padding: 0;}#sk-container-id-1 div.sk-toggleable {background-color: white;}#sk-container-id-1 label.sk-toggleable__label {cursor: pointer;display: block;width: 100%;margin-bottom: 0;padding: 0.3em;box-sizing: border-box;text-align: center;}#sk-container-id-1 label.sk-toggleable__label-arrow:before {content: \"▸\";float: left;margin-right: 0.25em;color: #696969;}#sk-container-id-1 label.sk-toggleable__label-arrow:hover:before {color: black;}#sk-container-id-1 div.sk-estimator:hover label.sk-toggleable__label-arrow:before {color: black;}#sk-container-id-1 div.sk-toggleable__content {max-height: 0;max-width: 0;overflow: hidden;text-align: left;background-color: #f0f8ff;}#sk-container-id-1 div.sk-toggleable__content pre {margin: 0.2em;color: black;border-radius: 0.25em;background-color: #f0f8ff;}#sk-container-id-1 input.sk-toggleable__control:checked~div.sk-toggleable__content {max-height: 200px;max-width: 100%;overflow: auto;}#sk-container-id-1 input.sk-toggleable__control:checked~label.sk-toggleable__label-arrow:before {content: \"▾\";}#sk-container-id-1 div.sk-estimator input.sk-toggleable__control:checked~label.sk-toggleable__label {background-color: #d4ebff;}#sk-container-id-1 div.sk-label input.sk-toggleable__control:checked~label.sk-toggleable__label {background-color: #d4ebff;}#sk-container-id-1 input.sk-hidden--visually {border: 0;clip: rect(1px 1px 1px 1px);clip: rect(1px, 1px, 1px, 1px);height: 1px;margin: -1px;overflow: hidden;padding: 0;position: absolute;width: 1px;}#sk-container-id-1 div.sk-estimator {font-family: monospace;background-color: #f0f8ff;border: 1px dotted black;border-radius: 0.25em;box-sizing: border-box;margin-bottom: 0.5em;}#sk-container-id-1 div.sk-estimator:hover {background-color: #d4ebff;}#sk-container-id-1 div.sk-parallel-item::after {content: \"\";width: 100%;border-bottom: 1px solid gray;flex-grow: 1;}#sk-container-id-1 div.sk-label:hover label.sk-toggleable__label {background-color: #d4ebff;}#sk-container-id-1 div.sk-serial::before {content: \"\";position: absolute;border-left: 1px solid gray;box-sizing: border-box;top: 0;bottom: 0;left: 50%;z-index: 0;}#sk-container-id-1 div.sk-serial {display: flex;flex-direction: column;align-items: center;background-color: white;padding-right: 0.2em;padding-left: 0.2em;position: relative;}#sk-container-id-1 div.sk-item {position: relative;z-index: 1;}#sk-container-id-1 div.sk-parallel {display: flex;align-items: stretch;justify-content: center;background-color: white;position: relative;}#sk-container-id-1 div.sk-item::before, #sk-container-id-1 div.sk-parallel-item::before {content: \"\";position: absolute;border-left: 1px solid gray;box-sizing: border-box;top: 0;bottom: 0;left: 50%;z-index: -1;}#sk-container-id-1 div.sk-parallel-item {display: flex;flex-direction: column;z-index: 1;position: relative;background-color: white;}#sk-container-id-1 div.sk-parallel-item:first-child::after {align-self: flex-end;width: 50%;}#sk-container-id-1 div.sk-parallel-item:last-child::after {align-self: flex-start;width: 50%;}#sk-container-id-1 div.sk-parallel-item:only-child::after {width: 0;}#sk-container-id-1 div.sk-dashed-wrapped {border: 1px dashed gray;margin: 0 0.4em 0.5em 0.4em;box-sizing: border-box;padding-bottom: 0.4em;background-color: white;}#sk-container-id-1 div.sk-label label {font-family: monospace;font-weight: bold;display: inline-block;line-height: 1.2em;}#sk-container-id-1 div.sk-label-container {text-align: center;}#sk-container-id-1 div.sk-container {/* jupyter's `normalize.less` sets `[hidden] { display: none; }` but bootstrap.min.css set `[hidden] { display: none !important; }` so we also need the `!important` here to be able to override the default hidden behavior on the sphinx rendered scikit-learn.org. See: https://github.com/scikit-learn/scikit-learn/issues/21755 */display: inline-block !important;position: relative;}#sk-container-id-1 div.sk-text-repr-fallback {display: none;}</style><div id=\"sk-container-id-1\" class=\"sk-top-container\"><div class=\"sk-text-repr-fallback\"><pre>StandardScaler()</pre><b>In a Jupyter environment, please rerun this cell to show the HTML representation or trust the notebook. <br />On GitHub, the HTML representation is unable to render, please try loading this page with nbviewer.org.</b></div><div class=\"sk-container\" hidden><div class=\"sk-item\"><div class=\"sk-estimator sk-toggleable\"><input class=\"sk-toggleable__control sk-hidden--visually\" id=\"sk-estimator-id-1\" type=\"checkbox\" checked><label for=\"sk-estimator-id-1\" class=\"sk-toggleable__label sk-toggleable__label-arrow\">StandardScaler</label><div class=\"sk-toggleable__content\"><pre>StandardScaler()</pre></div></div></div></div></div>"
      ],
      "text/plain": [
       "StandardScaler()"
      ]
     },
     "execution_count": 17,
     "metadata": {},
     "output_type": "execute_result"
    }
   ],
   "source": [
    "scaler.fit(X_train)"
   ]
  },
  {
   "cell_type": "code",
   "execution_count": 18,
   "id": "b6353262",
   "metadata": {},
   "outputs": [],
   "source": [
    "X_train_scaled = scaler.transform(X_train)"
   ]
  },
  {
   "cell_type": "code",
   "execution_count": 19,
   "id": "099c4089",
   "metadata": {},
   "outputs": [
    {
     "data": {
      "text/plain": [
       "(1167, 65)"
      ]
     },
     "execution_count": 19,
     "metadata": {},
     "output_type": "execute_result"
    }
   ],
   "source": [
    "X_train_scaled.shape"
   ]
  },
  {
   "cell_type": "code",
   "execution_count": 20,
   "id": "37dd475f",
   "metadata": {},
   "outputs": [],
   "source": [
    "X_test_scaled = scaler.transform(X_test)"
   ]
  },
  {
   "cell_type": "code",
   "execution_count": 21,
   "id": "ab505d98",
   "metadata": {},
   "outputs": [
    {
     "data": {
      "text/plain": [
       "(292, 65)"
      ]
     },
     "execution_count": 21,
     "metadata": {},
     "output_type": "execute_result"
    }
   ],
   "source": [
    "X_test_scaled.shape"
   ]
  },
  {
   "cell_type": "markdown",
   "id": "5d9cb515",
   "metadata": {},
   "source": [
    "___\n",
    "___\n",
    "\n",
    "\n",
    "# 4 Modeling:"
   ]
  },
  {
   "cell_type": "markdown",
   "id": "e57d3930",
   "metadata": {},
   "source": [
    "## 4.1 Initial Not-Even-A-Model:\n",
    "A good place to start is to see how good the mean is as a predictor. In other words, what if you simply say your best guess is the average price?"
   ]
  },
  {
   "cell_type": "code",
   "execution_count": 22,
   "id": "f4712bdc",
   "metadata": {},
   "outputs": [
    {
     "data": {
      "text/plain": [
       "179014.4944301628"
      ]
     },
     "execution_count": 22,
     "metadata": {},
     "output_type": "execute_result"
    }
   ],
   "source": [
    "train_mean = y_train.mean()\n",
    "train_mean"
   ]
  },
  {
   "cell_type": "code",
   "execution_count": 23,
   "id": "4fd1cf39",
   "metadata": {},
   "outputs": [
    {
     "data": {
      "text/plain": [
       "array([[179014.49443016]])"
      ]
     },
     "execution_count": 23,
     "metadata": {},
     "output_type": "execute_result"
    }
   ],
   "source": [
    "dumb_reg = DummyRegressor(strategy='mean')\n",
    "dumb_reg.fit(X_train_scaled, y_train)\n",
    "dumb_reg.constant_"
   ]
  },
  {
   "cell_type": "code",
   "execution_count": 24,
   "id": "58c4a5ef",
   "metadata": {},
   "outputs": [
    {
     "data": {
      "text/html": [
       "<div>\n",
       "<style scoped>\n",
       "    .dataframe tbody tr th:only-of-type {\n",
       "        vertical-align: middle;\n",
       "    }\n",
       "\n",
       "    .dataframe tbody tr th {\n",
       "        vertical-align: top;\n",
       "    }\n",
       "\n",
       "    .dataframe thead th {\n",
       "        text-align: right;\n",
       "    }\n",
       "</style>\n",
       "<table border=\"1\" class=\"dataframe\">\n",
       "  <thead>\n",
       "    <tr style=\"text-align: right;\">\n",
       "      <th></th>\n",
       "      <th>0</th>\n",
       "    </tr>\n",
       "  </thead>\n",
       "  <tbody>\n",
       "    <tr>\n",
       "      <th>0</th>\n",
       "      <td>179014.49443</td>\n",
       "    </tr>\n",
       "    <tr>\n",
       "      <th>1</th>\n",
       "      <td>179014.49443</td>\n",
       "    </tr>\n",
       "    <tr>\n",
       "      <th>2</th>\n",
       "      <td>179014.49443</td>\n",
       "    </tr>\n",
       "    <tr>\n",
       "      <th>3</th>\n",
       "      <td>179014.49443</td>\n",
       "    </tr>\n",
       "    <tr>\n",
       "      <th>4</th>\n",
       "      <td>179014.49443</td>\n",
       "    </tr>\n",
       "  </tbody>\n",
       "</table>\n",
       "</div>"
      ],
      "text/plain": [
       "              0\n",
       "0  179014.49443\n",
       "1  179014.49443\n",
       "2  179014.49443\n",
       "3  179014.49443\n",
       "4  179014.49443"
      ]
     },
     "execution_count": 24,
     "metadata": {},
     "output_type": "execute_result"
    }
   ],
   "source": [
    "y_tr_pred = pd.DataFrame(dumb_reg.predict(X_train_scaled))\n",
    "y_tr_pred[:5]"
   ]
  },
  {
   "cell_type": "code",
   "execution_count": 25,
   "id": "8bf88206",
   "metadata": {},
   "outputs": [
    {
     "data": {
      "text/plain": [
       "1026    293077\n",
       "548     263000\n",
       "1441    310000\n",
       "330     139000\n",
       "193     130000\n",
       "Name: SalePrice, dtype: int64"
      ]
     },
     "execution_count": 25,
     "metadata": {},
     "output_type": "execute_result"
    }
   ],
   "source": [
    "y_train[:5]"
   ]
  },
  {
   "cell_type": "markdown",
   "id": "2e02c9ff",
   "metadata": {},
   "source": [
    "**Mean Absolute Error:**</br>\n",
    "Estimating the mean gives us a MAE of 57266. Which means that if we guess the mean, on average we will be off by 57266 dollars.  \n"
   ]
  },
  {
   "cell_type": "code",
   "execution_count": 26,
   "id": "85f64cb0",
   "metadata": {},
   "outputs": [
    {
     "data": {
      "text/plain": [
       "57166.13028815123"
      ]
     },
     "execution_count": 26,
     "metadata": {},
     "output_type": "execute_result"
    }
   ],
   "source": [
    "mean_absolute_error(y_tr_pred,y_train)"
   ]
  },
  {
   "cell_type": "markdown",
   "id": "251dda85",
   "metadata": {},
   "source": [
    "**Roat Mean Squared Error:**</br>\n",
    "The RMSE for estimating the mean is almost 80000 dollars. the reason for the discrepency between the MAE and the RMSE is the fact that we square values when we calculate the RMSE, which makes it more sensitive to outliers. This indicates that our data contain outliers."
   ]
  },
  {
   "cell_type": "code",
   "execution_count": 27,
   "id": "c8470c71",
   "metadata": {},
   "outputs": [
    {
     "data": {
      "text/plain": [
       "79533.65256263215"
      ]
     },
     "execution_count": 27,
     "metadata": {},
     "output_type": "execute_result"
    }
   ],
   "source": [
    "np.sqrt(mean_squared_error(y_tr_pred,y_train))"
   ]
  },
  {
   "cell_type": "markdown",
   "id": "f174efae",
   "metadata": {},
   "source": [
    "**$R^2$:**</br>\n",
    "A model that predicts the mean will always have an $R^2$ of 0. A model that perfectly predicts the variation in the data will have an $R^2$ of 1.\n"
   ]
  },
  {
   "cell_type": "code",
   "execution_count": 28,
   "id": "7162d687",
   "metadata": {},
   "outputs": [
    {
     "data": {
      "text/plain": [
       "0.0"
      ]
     },
     "execution_count": 28,
     "metadata": {},
     "output_type": "execute_result"
    }
   ],
   "source": [
    "r2_score(y_train,y_tr_pred)"
   ]
  },
  {
   "cell_type": "markdown",
   "id": "b314dfef",
   "metadata": {},
   "source": [
    "___\n",
    "\n",
    "## 4.2 Linear models:"
   ]
  },
  {
   "cell_type": "markdown",
   "id": "7d1741f0",
   "metadata": {},
   "source": [
    "### 4.2.1 Linear Regression model:\n",
    "\n",
    "#### 4.2.1.1 Model implementation:\n"
   ]
  },
  {
   "cell_type": "markdown",
   "id": "fc2a9dbb",
   "metadata": {},
   "source": [
    "Instantiating a Linear Regression model:"
   ]
  },
  {
   "cell_type": "code",
   "execution_count": 29,
   "id": "267c6913",
   "metadata": {},
   "outputs": [],
   "source": [
    "linear_regression_model = LinearRegression()"
   ]
  },
  {
   "cell_type": "markdown",
   "id": "db43e0ef",
   "metadata": {},
   "source": [
    "Fitting our model to the scaled predictive features and our training target feature:"
   ]
  },
  {
   "cell_type": "code",
   "execution_count": 30,
   "id": "300cc76b",
   "metadata": {},
   "outputs": [
    {
     "data": {
      "text/html": [
       "<style>#sk-container-id-2 {color: black;background-color: white;}#sk-container-id-2 pre{padding: 0;}#sk-container-id-2 div.sk-toggleable {background-color: white;}#sk-container-id-2 label.sk-toggleable__label {cursor: pointer;display: block;width: 100%;margin-bottom: 0;padding: 0.3em;box-sizing: border-box;text-align: center;}#sk-container-id-2 label.sk-toggleable__label-arrow:before {content: \"▸\";float: left;margin-right: 0.25em;color: #696969;}#sk-container-id-2 label.sk-toggleable__label-arrow:hover:before {color: black;}#sk-container-id-2 div.sk-estimator:hover label.sk-toggleable__label-arrow:before {color: black;}#sk-container-id-2 div.sk-toggleable__content {max-height: 0;max-width: 0;overflow: hidden;text-align: left;background-color: #f0f8ff;}#sk-container-id-2 div.sk-toggleable__content pre {margin: 0.2em;color: black;border-radius: 0.25em;background-color: #f0f8ff;}#sk-container-id-2 input.sk-toggleable__control:checked~div.sk-toggleable__content {max-height: 200px;max-width: 100%;overflow: auto;}#sk-container-id-2 input.sk-toggleable__control:checked~label.sk-toggleable__label-arrow:before {content: \"▾\";}#sk-container-id-2 div.sk-estimator input.sk-toggleable__control:checked~label.sk-toggleable__label {background-color: #d4ebff;}#sk-container-id-2 div.sk-label input.sk-toggleable__control:checked~label.sk-toggleable__label {background-color: #d4ebff;}#sk-container-id-2 input.sk-hidden--visually {border: 0;clip: rect(1px 1px 1px 1px);clip: rect(1px, 1px, 1px, 1px);height: 1px;margin: -1px;overflow: hidden;padding: 0;position: absolute;width: 1px;}#sk-container-id-2 div.sk-estimator {font-family: monospace;background-color: #f0f8ff;border: 1px dotted black;border-radius: 0.25em;box-sizing: border-box;margin-bottom: 0.5em;}#sk-container-id-2 div.sk-estimator:hover {background-color: #d4ebff;}#sk-container-id-2 div.sk-parallel-item::after {content: \"\";width: 100%;border-bottom: 1px solid gray;flex-grow: 1;}#sk-container-id-2 div.sk-label:hover label.sk-toggleable__label {background-color: #d4ebff;}#sk-container-id-2 div.sk-serial::before {content: \"\";position: absolute;border-left: 1px solid gray;box-sizing: border-box;top: 0;bottom: 0;left: 50%;z-index: 0;}#sk-container-id-2 div.sk-serial {display: flex;flex-direction: column;align-items: center;background-color: white;padding-right: 0.2em;padding-left: 0.2em;position: relative;}#sk-container-id-2 div.sk-item {position: relative;z-index: 1;}#sk-container-id-2 div.sk-parallel {display: flex;align-items: stretch;justify-content: center;background-color: white;position: relative;}#sk-container-id-2 div.sk-item::before, #sk-container-id-2 div.sk-parallel-item::before {content: \"\";position: absolute;border-left: 1px solid gray;box-sizing: border-box;top: 0;bottom: 0;left: 50%;z-index: -1;}#sk-container-id-2 div.sk-parallel-item {display: flex;flex-direction: column;z-index: 1;position: relative;background-color: white;}#sk-container-id-2 div.sk-parallel-item:first-child::after {align-self: flex-end;width: 50%;}#sk-container-id-2 div.sk-parallel-item:last-child::after {align-self: flex-start;width: 50%;}#sk-container-id-2 div.sk-parallel-item:only-child::after {width: 0;}#sk-container-id-2 div.sk-dashed-wrapped {border: 1px dashed gray;margin: 0 0.4em 0.5em 0.4em;box-sizing: border-box;padding-bottom: 0.4em;background-color: white;}#sk-container-id-2 div.sk-label label {font-family: monospace;font-weight: bold;display: inline-block;line-height: 1.2em;}#sk-container-id-2 div.sk-label-container {text-align: center;}#sk-container-id-2 div.sk-container {/* jupyter's `normalize.less` sets `[hidden] { display: none; }` but bootstrap.min.css set `[hidden] { display: none !important; }` so we also need the `!important` here to be able to override the default hidden behavior on the sphinx rendered scikit-learn.org. See: https://github.com/scikit-learn/scikit-learn/issues/21755 */display: inline-block !important;position: relative;}#sk-container-id-2 div.sk-text-repr-fallback {display: none;}</style><div id=\"sk-container-id-2\" class=\"sk-top-container\"><div class=\"sk-text-repr-fallback\"><pre>LinearRegression()</pre><b>In a Jupyter environment, please rerun this cell to show the HTML representation or trust the notebook. <br />On GitHub, the HTML representation is unable to render, please try loading this page with nbviewer.org.</b></div><div class=\"sk-container\" hidden><div class=\"sk-item\"><div class=\"sk-estimator sk-toggleable\"><input class=\"sk-toggleable__control sk-hidden--visually\" id=\"sk-estimator-id-2\" type=\"checkbox\" checked><label for=\"sk-estimator-id-2\" class=\"sk-toggleable__label sk-toggleable__label-arrow\">LinearRegression</label><div class=\"sk-toggleable__content\"><pre>LinearRegression()</pre></div></div></div></div></div>"
      ],
      "text/plain": [
       "LinearRegression()"
      ]
     },
     "execution_count": 30,
     "metadata": {},
     "output_type": "execute_result"
    }
   ],
   "source": [
    "linear_regression_model.fit(X_train_scaled, y_train)"
   ]
  },
  {
   "cell_type": "markdown",
   "id": "2070fdf4",
   "metadata": {},
   "source": [
    "The model coefficients give us an idea of how important each predictive feature is. The higher the absolute value of the feature's coefficient the more important it is in the model."
   ]
  },
  {
   "cell_type": "code",
   "execution_count": 31,
   "id": "9f63f46c",
   "metadata": {},
   "outputs": [
    {
     "data": {
      "text/plain": [
       "array([ 9.86561848e+03,  5.14063111e+03,  2.15846963e+03,  2.14057717e+03,\n",
       "       -3.22742064e+03,  3.17201235e+04,  4.37312124e+03, -6.06489136e+02,\n",
       "        2.69129263e+03,  7.56576489e+03, -3.85200405e+02, -1.47463519e+03,\n",
       "       -2.28799640e+03, -1.00500109e+03, -4.05396892e+03,  2.02904314e+03,\n",
       "       -6.00886998e+03, -4.50957416e+03, -4.34888233e+03, -1.69458066e+03,\n",
       "       -3.86860061e+03, -7.36527386e+03,  3.65089351e+02, -4.41178575e+03,\n",
       "        5.97045447e+03,  4.02359229e+03, -7.02440186e+03, -1.31944159e+03,\n",
       "       -4.47551127e+03, -1.81102296e+03, -6.74496315e+02,  4.87789045e+03,\n",
       "       -1.38434455e+03,  8.53042848e+02, -1.01466599e+03, -1.15976122e+03,\n",
       "        1.57218984e+04, -1.42719947e+03,  3.81297693e+03, -1.27864950e+03,\n",
       "        1.23300005e+04,  9.06342644e+03, -4.50685087e+16, -1.07855190e+03,\n",
       "        1.75787628e+03,  1.76436764e+03, -5.29787612e+02,  2.93897997e+03,\n",
       "        6.80149235e+03, -3.61060918e+03,  2.21662052e+03,  6.93259607e+02,\n",
       "       -1.27519618e+03,  3.32413774e+03, -1.12182887e+08, -5.04472158e+02,\n",
       "       -1.50037897e+03, -6.22667842e+04,  3.46196104e+01, -1.12252538e+03,\n",
       "        8.84023248e+01,  1.41804394e+03, -2.23288044e+03, -9.45113279e+01,\n",
       "       -7.36519826e+02])"
      ]
     },
     "execution_count": 31,
     "metadata": {},
     "output_type": "execute_result"
    }
   ],
   "source": [
    "linear_regression_model.coef_"
   ]
  },
  {
   "cell_type": "markdown",
   "id": "e79bf5cc",
   "metadata": {},
   "source": [
    "# error values way off "
   ]
  },
  {
   "cell_type": "markdown",
   "id": "398d50b8",
   "metadata": {},
   "source": [
    "#### 4.2.1.2 Cross validation scores:"
   ]
  },
  {
   "cell_type": "markdown",
   "id": "79ab5573",
   "metadata": {},
   "source": [
    "cross_val_score performs a cross validation with a single scoring mertic. The following one is for the negative MAE:"
   ]
  },
  {
   "cell_type": "code",
   "execution_count": 32,
   "id": "542f2c8c",
   "metadata": {},
   "outputs": [],
   "source": [
    "scores_lr = cross_val_score(linear_regression_model,X_train_scaled,y_train,\n",
    "                         scoring='neg_mean_absolute_error',cv=5)"
   ]
  },
  {
   "cell_type": "code",
   "execution_count": 33,
   "id": "655389fa",
   "metadata": {},
   "outputs": [
    {
     "data": {
      "text/plain": [
       "array([-2.15839485e+09, -1.98192195e+04, -1.84272685e+04, -1.97816692e+04,\n",
       "       -1.81653641e+11])"
      ]
     },
     "execution_count": 33,
     "metadata": {},
     "output_type": "execute_result"
    }
   ],
   "source": [
    "scores_lr"
   ]
  },
  {
   "cell_type": "markdown",
   "id": "a75bb211",
   "metadata": {},
   "source": [
    "The average MAE for a 5 fold cross validation is 10,042,198,482 dollars. This is a huge red flag. We will look into the RMSE next to see if this trend continues."
   ]
  },
  {
   "cell_type": "code",
   "execution_count": 34,
   "id": "21faf6f0",
   "metadata": {},
   "outputs": [
    {
     "data": {
      "text/plain": [
       "36762418777.92396"
      ]
     },
     "execution_count": 34,
     "metadata": {},
     "output_type": "execute_result"
    }
   ],
   "source": [
    "abs(scores_lr.mean())"
   ]
  },
  {
   "cell_type": "markdown",
   "id": "e88bf442",
   "metadata": {},
   "source": [
    "Here we will perform another cross_val_score for the negative MSE:"
   ]
  },
  {
   "cell_type": "code",
   "execution_count": 35,
   "id": "7e720fd4",
   "metadata": {},
   "outputs": [],
   "source": [
    "scores_lr_2 = cross_val_score(linear_regression_model,X_train_scaled,y_train,\n",
    "                         scoring='neg_mean_squared_error',cv=5)"
   ]
  },
  {
   "cell_type": "code",
   "execution_count": 36,
   "id": "4cb5348a",
   "metadata": {},
   "outputs": [
    {
     "data": {
      "text/plain": [
       "array([-1.09010894e+21, -1.45948118e+09, -7.72531119e+08, -8.82560284e+08,\n",
       "       -7.68854303e+24])"
      ]
     },
     "execution_count": 36,
     "metadata": {},
     "output_type": "execute_result"
    }
   ],
   "source": [
    "scores_lr_2"
   ]
  },
  {
   "cell_type": "markdown",
   "id": "b4e74755",
   "metadata": {},
   "source": [
    "To find the average RMSE of the 5 fold cross validation, we take the absolute value of each error, then the square root of each error, and finally we average the values:</br>"
   ]
  },
  {
   "cell_type": "code",
   "execution_count": 37,
   "id": "f4f3e377",
   "metadata": {},
   "outputs": [
    {
     "data": {
      "text/plain": [
       "561167821522.8547"
      ]
     },
     "execution_count": 37,
     "metadata": {},
     "output_type": "execute_result"
    }
   ],
   "source": [
    "np.sqrt(abs(scores_lr_2)).mean()"
   ]
  },
  {
   "cell_type": "markdown",
   "id": "e806ad1e",
   "metadata": {},
   "source": [
    "Performing a cross_val_score for $R^2$:"
   ]
  },
  {
   "cell_type": "code",
   "execution_count": 38,
   "id": "ab20a66d",
   "metadata": {},
   "outputs": [],
   "source": [
    "scores_lr_3 = cross_val_score(linear_regression_model,X_train_scaled,y_train,\n",
    "                         scoring='r2',cv=5)"
   ]
  },
  {
   "cell_type": "code",
   "execution_count": 39,
   "id": "01579dab",
   "metadata": {},
   "outputs": [
    {
     "data": {
      "text/plain": [
       "-299477301149966.6"
      ]
     },
     "execution_count": 39,
     "metadata": {},
     "output_type": "execute_result"
    }
   ],
   "source": [
    "scores_lr_3.mean()"
   ]
  },
  {
   "cell_type": "markdown",
   "id": "fab78f32",
   "metadata": {},
   "source": [
    "**The high error metrics for the Linear Regression model could be because of a few reasons:** \n",
    "* Linearity: The relationship between the independent variables and the dependent variable is not linear.\n",
    "* Multicollinearity: The independent variables are highly correlated with each other.\n",
    "* The presence of outliers.</br>\n",
    "\n",
    "we will continue with an Elastic Net model which might produce better results. "
   ]
  },
  {
   "cell_type": "markdown",
   "id": "3debf6a8",
   "metadata": {},
   "source": [
    "#### 4.2.1.3 Final evaluation:"
   ]
  },
  {
   "cell_type": "markdown",
   "id": "f787710a",
   "metadata": {},
   "source": [
    "**We will skip evaluating on the test set for the Linear Regression model because it performed poorly.**"
   ]
  },
  {
   "cell_type": "markdown",
   "id": "9600619c",
   "metadata": {},
   "source": [
    "___\n",
    "\n",
    "### 4.2.2 Elastic Net Regression model:\n",
    "\n",
    "We will use an Elastic Net model since we will be able to test both Ridge and LASSO regularizations:"
   ]
  },
  {
   "cell_type": "markdown",
   "id": "211ecb5f",
   "metadata": {},
   "source": [
    "#### 4.2.2.1 Model implementation"
   ]
  },
  {
   "cell_type": "code",
   "execution_count": 40,
   "id": "6ee2a52d",
   "metadata": {},
   "outputs": [],
   "source": [
    "base_elastic_model = ElasticNet()"
   ]
  },
  {
   "cell_type": "markdown",
   "id": "cc8a8ed7",
   "metadata": {},
   "source": [
    "The Elastic Net model has two main parameters, alpha, and the L1 ratio. We will test different combinations to see which produces the most effective model:"
   ]
  },
  {
   "cell_type": "code",
   "execution_count": 41,
   "id": "cfe34e47",
   "metadata": {},
   "outputs": [],
   "source": [
    "param_grid_en = {'alpha':[0.1,1,5,10,50,100],\n",
    "              'l1_ratio':[.1, .5, .7, .9, .95, .99, 1]}"
   ]
  },
  {
   "cell_type": "code",
   "execution_count": 42,
   "id": "0db121ac",
   "metadata": {},
   "outputs": [],
   "source": [
    "grid_model = GridSearchCV(estimator=base_elastic_model,\n",
    "                          param_grid=param_grid_en,\n",
    "                          scoring='neg_mean_squared_error',\n",
    "                          cv=5,\n",
    "                          verbose=1)"
   ]
  },
  {
   "cell_type": "code",
   "execution_count": 43,
   "id": "86604286",
   "metadata": {},
   "outputs": [
    {
     "name": "stdout",
     "output_type": "stream",
     "text": [
      "Fitting 5 folds for each of 42 candidates, totalling 210 fits\n"
     ]
    },
    {
     "data": {
      "text/html": [
       "<style>#sk-container-id-3 {color: black;background-color: white;}#sk-container-id-3 pre{padding: 0;}#sk-container-id-3 div.sk-toggleable {background-color: white;}#sk-container-id-3 label.sk-toggleable__label {cursor: pointer;display: block;width: 100%;margin-bottom: 0;padding: 0.3em;box-sizing: border-box;text-align: center;}#sk-container-id-3 label.sk-toggleable__label-arrow:before {content: \"▸\";float: left;margin-right: 0.25em;color: #696969;}#sk-container-id-3 label.sk-toggleable__label-arrow:hover:before {color: black;}#sk-container-id-3 div.sk-estimator:hover label.sk-toggleable__label-arrow:before {color: black;}#sk-container-id-3 div.sk-toggleable__content {max-height: 0;max-width: 0;overflow: hidden;text-align: left;background-color: #f0f8ff;}#sk-container-id-3 div.sk-toggleable__content pre {margin: 0.2em;color: black;border-radius: 0.25em;background-color: #f0f8ff;}#sk-container-id-3 input.sk-toggleable__control:checked~div.sk-toggleable__content {max-height: 200px;max-width: 100%;overflow: auto;}#sk-container-id-3 input.sk-toggleable__control:checked~label.sk-toggleable__label-arrow:before {content: \"▾\";}#sk-container-id-3 div.sk-estimator input.sk-toggleable__control:checked~label.sk-toggleable__label {background-color: #d4ebff;}#sk-container-id-3 div.sk-label input.sk-toggleable__control:checked~label.sk-toggleable__label {background-color: #d4ebff;}#sk-container-id-3 input.sk-hidden--visually {border: 0;clip: rect(1px 1px 1px 1px);clip: rect(1px, 1px, 1px, 1px);height: 1px;margin: -1px;overflow: hidden;padding: 0;position: absolute;width: 1px;}#sk-container-id-3 div.sk-estimator {font-family: monospace;background-color: #f0f8ff;border: 1px dotted black;border-radius: 0.25em;box-sizing: border-box;margin-bottom: 0.5em;}#sk-container-id-3 div.sk-estimator:hover {background-color: #d4ebff;}#sk-container-id-3 div.sk-parallel-item::after {content: \"\";width: 100%;border-bottom: 1px solid gray;flex-grow: 1;}#sk-container-id-3 div.sk-label:hover label.sk-toggleable__label {background-color: #d4ebff;}#sk-container-id-3 div.sk-serial::before {content: \"\";position: absolute;border-left: 1px solid gray;box-sizing: border-box;top: 0;bottom: 0;left: 50%;z-index: 0;}#sk-container-id-3 div.sk-serial {display: flex;flex-direction: column;align-items: center;background-color: white;padding-right: 0.2em;padding-left: 0.2em;position: relative;}#sk-container-id-3 div.sk-item {position: relative;z-index: 1;}#sk-container-id-3 div.sk-parallel {display: flex;align-items: stretch;justify-content: center;background-color: white;position: relative;}#sk-container-id-3 div.sk-item::before, #sk-container-id-3 div.sk-parallel-item::before {content: \"\";position: absolute;border-left: 1px solid gray;box-sizing: border-box;top: 0;bottom: 0;left: 50%;z-index: -1;}#sk-container-id-3 div.sk-parallel-item {display: flex;flex-direction: column;z-index: 1;position: relative;background-color: white;}#sk-container-id-3 div.sk-parallel-item:first-child::after {align-self: flex-end;width: 50%;}#sk-container-id-3 div.sk-parallel-item:last-child::after {align-self: flex-start;width: 50%;}#sk-container-id-3 div.sk-parallel-item:only-child::after {width: 0;}#sk-container-id-3 div.sk-dashed-wrapped {border: 1px dashed gray;margin: 0 0.4em 0.5em 0.4em;box-sizing: border-box;padding-bottom: 0.4em;background-color: white;}#sk-container-id-3 div.sk-label label {font-family: monospace;font-weight: bold;display: inline-block;line-height: 1.2em;}#sk-container-id-3 div.sk-label-container {text-align: center;}#sk-container-id-3 div.sk-container {/* jupyter's `normalize.less` sets `[hidden] { display: none; }` but bootstrap.min.css set `[hidden] { display: none !important; }` so we also need the `!important` here to be able to override the default hidden behavior on the sphinx rendered scikit-learn.org. See: https://github.com/scikit-learn/scikit-learn/issues/21755 */display: inline-block !important;position: relative;}#sk-container-id-3 div.sk-text-repr-fallback {display: none;}</style><div id=\"sk-container-id-3\" class=\"sk-top-container\"><div class=\"sk-text-repr-fallback\"><pre>GridSearchCV(cv=5, estimator=ElasticNet(),\n",
       "             param_grid={&#x27;alpha&#x27;: [0.1, 1, 5, 10, 50, 100],\n",
       "                         &#x27;l1_ratio&#x27;: [0.1, 0.5, 0.7, 0.9, 0.95, 0.99, 1]},\n",
       "             scoring=&#x27;neg_mean_squared_error&#x27;, verbose=1)</pre><b>In a Jupyter environment, please rerun this cell to show the HTML representation or trust the notebook. <br />On GitHub, the HTML representation is unable to render, please try loading this page with nbviewer.org.</b></div><div class=\"sk-container\" hidden><div class=\"sk-item sk-dashed-wrapped\"><div class=\"sk-label-container\"><div class=\"sk-label sk-toggleable\"><input class=\"sk-toggleable__control sk-hidden--visually\" id=\"sk-estimator-id-3\" type=\"checkbox\" ><label for=\"sk-estimator-id-3\" class=\"sk-toggleable__label sk-toggleable__label-arrow\">GridSearchCV</label><div class=\"sk-toggleable__content\"><pre>GridSearchCV(cv=5, estimator=ElasticNet(),\n",
       "             param_grid={&#x27;alpha&#x27;: [0.1, 1, 5, 10, 50, 100],\n",
       "                         &#x27;l1_ratio&#x27;: [0.1, 0.5, 0.7, 0.9, 0.95, 0.99, 1]},\n",
       "             scoring=&#x27;neg_mean_squared_error&#x27;, verbose=1)</pre></div></div></div><div class=\"sk-parallel\"><div class=\"sk-parallel-item\"><div class=\"sk-item\"><div class=\"sk-label-container\"><div class=\"sk-label sk-toggleable\"><input class=\"sk-toggleable__control sk-hidden--visually\" id=\"sk-estimator-id-4\" type=\"checkbox\" ><label for=\"sk-estimator-id-4\" class=\"sk-toggleable__label sk-toggleable__label-arrow\">estimator: ElasticNet</label><div class=\"sk-toggleable__content\"><pre>ElasticNet()</pre></div></div></div><div class=\"sk-serial\"><div class=\"sk-item\"><div class=\"sk-estimator sk-toggleable\"><input class=\"sk-toggleable__control sk-hidden--visually\" id=\"sk-estimator-id-5\" type=\"checkbox\" ><label for=\"sk-estimator-id-5\" class=\"sk-toggleable__label sk-toggleable__label-arrow\">ElasticNet</label><div class=\"sk-toggleable__content\"><pre>ElasticNet()</pre></div></div></div></div></div></div></div></div></div></div>"
      ],
      "text/plain": [
       "GridSearchCV(cv=5, estimator=ElasticNet(),\n",
       "             param_grid={'alpha': [0.1, 1, 5, 10, 50, 100],\n",
       "                         'l1_ratio': [0.1, 0.5, 0.7, 0.9, 0.95, 0.99, 1]},\n",
       "             scoring='neg_mean_squared_error', verbose=1)"
      ]
     },
     "execution_count": 43,
     "metadata": {},
     "output_type": "execute_result"
    }
   ],
   "source": [
    "grid_model.fit(X_train_scaled,y_train)"
   ]
  },
  {
   "cell_type": "code",
   "execution_count": 44,
   "id": "53183582",
   "metadata": {},
   "outputs": [
    {
     "data": {
      "text/plain": [
       "{'alpha': 5, 'l1_ratio': 0.99}"
      ]
     },
     "execution_count": 44,
     "metadata": {},
     "output_type": "execute_result"
    }
   ],
   "source": [
    "grid_model.best_params_"
   ]
  },
  {
   "cell_type": "markdown",
   "id": "66cb0e6d",
   "metadata": {},
   "source": [
    "#### 4.2.2.2 Cross Validation scores:"
   ]
  },
  {
   "cell_type": "code",
   "execution_count": 45,
   "id": "d7bc8374",
   "metadata": {
    "scrolled": false
   },
   "outputs": [
    {
     "name": "stdout",
     "output_type": "stream",
     "text": [
      "Fitting 5 folds for each of 42 candidates, totalling 210 fits\n",
      "Fitting 5 folds for each of 42 candidates, totalling 210 fits\n",
      "Fitting 5 folds for each of 42 candidates, totalling 210 fits\n",
      "Fitting 5 folds for each of 42 candidates, totalling 210 fits\n",
      "Fitting 5 folds for each of 42 candidates, totalling 210 fits\n"
     ]
    }
   ],
   "source": [
    "scores_en = cross_val_score(grid_model,X_train_scaled,y_train,\n",
    "                         scoring='neg_mean_absolute_error',cv=5)"
   ]
  },
  {
   "cell_type": "code",
   "execution_count": 46,
   "id": "43554958",
   "metadata": {},
   "outputs": [
    {
     "data": {
      "text/plain": [
       "18944.766764611042"
      ]
     },
     "execution_count": 46,
     "metadata": {},
     "output_type": "execute_result"
    }
   ],
   "source": [
    "abs(scores_en.mean())"
   ]
  },
  {
   "cell_type": "code",
   "execution_count": 47,
   "id": "5b855697",
   "metadata": {},
   "outputs": [
    {
     "name": "stdout",
     "output_type": "stream",
     "text": [
      "Fitting 5 folds for each of 42 candidates, totalling 210 fits\n",
      "Fitting 5 folds for each of 42 candidates, totalling 210 fits\n",
      "Fitting 5 folds for each of 42 candidates, totalling 210 fits\n",
      "Fitting 5 folds for each of 42 candidates, totalling 210 fits\n",
      "Fitting 5 folds for each of 42 candidates, totalling 210 fits\n"
     ]
    }
   ],
   "source": [
    "scores_en_2 = cross_val_score(grid_model,X_train_scaled,y_train,\n",
    "                         scoring='neg_mean_squared_error',cv=5)"
   ]
  },
  {
   "cell_type": "code",
   "execution_count": 48,
   "id": "3140f5d5",
   "metadata": {},
   "outputs": [
    {
     "data": {
      "text/plain": [
       "30284.306791169387"
      ]
     },
     "execution_count": 48,
     "metadata": {},
     "output_type": "execute_result"
    }
   ],
   "source": [
    "np.sqrt(abs(scores_en_2)).mean()"
   ]
  },
  {
   "cell_type": "code",
   "execution_count": 49,
   "id": "92e7ca85",
   "metadata": {},
   "outputs": [
    {
     "name": "stdout",
     "output_type": "stream",
     "text": [
      "Fitting 5 folds for each of 42 candidates, totalling 210 fits\n",
      "Fitting 5 folds for each of 42 candidates, totalling 210 fits\n",
      "Fitting 5 folds for each of 42 candidates, totalling 210 fits\n",
      "Fitting 5 folds for each of 42 candidates, totalling 210 fits\n",
      "Fitting 5 folds for each of 42 candidates, totalling 210 fits\n"
     ]
    }
   ],
   "source": [
    "scores_en_3 = cross_val_score(grid_model,X_train_scaled,y_train,\n",
    "                         scoring='r2',cv=5)"
   ]
  },
  {
   "cell_type": "code",
   "execution_count": 50,
   "id": "a3188b41",
   "metadata": {},
   "outputs": [
    {
     "data": {
      "text/plain": [
       "0.8510688387958755"
      ]
     },
     "execution_count": 50,
     "metadata": {},
     "output_type": "execute_result"
    }
   ],
   "source": [
    "scores_en_3.mean()"
   ]
  },
  {
   "cell_type": "markdown",
   "id": "ffe8162c",
   "metadata": {},
   "source": [
    "The Elastic Net model performs much better than the Linear Regression model. This "
   ]
  },
  {
   "cell_type": "markdown",
   "id": "d2ed135f",
   "metadata": {},
   "source": [
    "#### 4.2.2.2 Final evaluation:"
   ]
  },
  {
   "cell_type": "code",
   "execution_count": 51,
   "id": "e7f08e89",
   "metadata": {},
   "outputs": [],
   "source": [
    "y_pred_en = grid_model.predict(X_test_scaled)"
   ]
  },
  {
   "cell_type": "code",
   "execution_count": 52,
   "id": "8314354b",
   "metadata": {},
   "outputs": [
    {
     "data": {
      "text/plain": [
       "0.6991756874204993"
      ]
     },
     "execution_count": 52,
     "metadata": {},
     "output_type": "execute_result"
    }
   ],
   "source": [
    "r2_score(y_test,y_pred_en)"
   ]
  },
  {
   "cell_type": "code",
   "execution_count": 53,
   "id": "fd9b7c84",
   "metadata": {},
   "outputs": [
    {
     "data": {
      "text/plain": [
       "21162.011306457334"
      ]
     },
     "execution_count": 53,
     "metadata": {},
     "output_type": "execute_result"
    }
   ],
   "source": [
    "mean_absolute_error(y_test,y_pred_en)"
   ]
  },
  {
   "cell_type": "code",
   "execution_count": 54,
   "id": "f6fa2f04",
   "metadata": {},
   "outputs": [
    {
     "data": {
      "text/plain": [
       "42701.10407981615"
      ]
     },
     "execution_count": 54,
     "metadata": {},
     "output_type": "execute_result"
    }
   ],
   "source": [
    "np.sqrt(mean_squared_error(y_test,y_pred_en))"
   ]
  },
  {
   "cell_type": "markdown",
   "id": "b5a8d982",
   "metadata": {},
   "source": [
    "The Elastic Net model performs much better than the Linear Regression model. If we look at the best parameters from the grid search, we see that they are an alpha of 5, and an l1_ratio of 0.99, which means that the Elastic Net model is mostly a LASSO regression model. This could mean that the higher performance is due to the LASSO effect of shrinking some of the features' coeficients to zero."
   ]
  },
  {
   "cell_type": "markdown",
   "id": "6a74c976",
   "metadata": {},
   "source": [
    "___\n",
    "\n",
    "### 4.2.3 Polynomial model:\n"
   ]
  },
  {
   "cell_type": "markdown",
   "id": "743a106e",
   "metadata": {},
   "source": [
    "Here we will try a Polynomial model. We will create the polynomial features and go through the necessary preprocessing procedure again:"
   ]
  },
  {
   "cell_type": "markdown",
   "id": "268ce36c",
   "metadata": {},
   "source": [
    "#### 4.2.3.1 Creating polynomial features:"
   ]
  },
  {
   "cell_type": "code",
   "execution_count": 55,
   "id": "08b11559",
   "metadata": {},
   "outputs": [],
   "source": [
    "polynomial_converter = PolynomialFeatures(degree=3,include_bias=False)"
   ]
  },
  {
   "cell_type": "code",
   "execution_count": 56,
   "id": "81628297",
   "metadata": {},
   "outputs": [],
   "source": [
    "poly_features = polynomial_converter.fit_transform(X)"
   ]
  },
  {
   "cell_type": "code",
   "execution_count": 57,
   "id": "f38680fb",
   "metadata": {},
   "outputs": [
    {
     "data": {
      "text/plain": [
       "(1459, 50115)"
      ]
     },
     "execution_count": 57,
     "metadata": {},
     "output_type": "execute_result"
    }
   ],
   "source": [
    "poly_features.shape"
   ]
  },
  {
   "cell_type": "code",
   "execution_count": 58,
   "id": "d05a9da2",
   "metadata": {},
   "outputs": [
    {
     "data": {
      "text/plain": [
       "(1459, 65)"
      ]
     },
     "execution_count": 58,
     "metadata": {},
     "output_type": "execute_result"
    }
   ],
   "source": [
    "X.shape"
   ]
  },
  {
   "cell_type": "code",
   "execution_count": 59,
   "id": "eda4cb49",
   "metadata": {},
   "outputs": [
    {
     "data": {
      "text/plain": [
       "YearBuilt              2003.0\n",
       "Fireplaces                0.0\n",
       "HalfBath                  1.0\n",
       "FullBath                  2.0\n",
       "Bedrooms                  3.0\n",
       "                        ...  \n",
       "Exterior1st_Stone         0.0\n",
       "Exterior1st_Stucco        0.0\n",
       "Exterior1st_VinylSd       1.0\n",
       "Exterior1st_Wd Sdng       0.0\n",
       "Exterior1st_WdShing       0.0\n",
       "Name: 0, Length: 65, dtype: float64"
      ]
     },
     "execution_count": 59,
     "metadata": {},
     "output_type": "execute_result"
    }
   ],
   "source": [
    "X.iloc[0]"
   ]
  },
  {
   "cell_type": "code",
   "execution_count": 60,
   "id": "bb4fcf84",
   "metadata": {},
   "outputs": [
    {
     "data": {
      "text/plain": [
       "array([2.003e+03, 0.000e+00, 1.000e+00, ..., 0.000e+00, 0.000e+00,\n",
       "       0.000e+00])"
      ]
     },
     "execution_count": 60,
     "metadata": {},
     "output_type": "execute_result"
    }
   ],
   "source": [
    "poly_features[0]"
   ]
  },
  {
   "cell_type": "markdown",
   "id": "8e16cffa",
   "metadata": {},
   "source": [
    "#### 4.2.3.2 Train/Test split for the polynomial features:"
   ]
  },
  {
   "cell_type": "code",
   "execution_count": 61,
   "id": "6bbe0637",
   "metadata": {},
   "outputs": [],
   "source": [
    "X_Ptrain, X_Ptest, y_Ptrain, y_Ptest = train_test_split(poly_features, y, test_size=0.3, random_state=42)"
   ]
  },
  {
   "cell_type": "code",
   "execution_count": 62,
   "id": "bc7f8887",
   "metadata": {},
   "outputs": [],
   "source": [
    "scaler_poly = StandardScaler()"
   ]
  },
  {
   "cell_type": "code",
   "execution_count": 63,
   "id": "9d295f39",
   "metadata": {},
   "outputs": [],
   "source": [
    "X_Ptrain_scaled = scaler_poly.fit_transform(X_Ptrain)"
   ]
  },
  {
   "cell_type": "code",
   "execution_count": 64,
   "id": "9755a478",
   "metadata": {},
   "outputs": [],
   "source": [
    "X_Ptest_scaled = scaler_poly.transform(X_Ptest)"
   ]
  },
  {
   "cell_type": "markdown",
   "id": "4e6461d8",
   "metadata": {},
   "source": [
    "#### 4.2.3.3 Fitting the model:"
   ]
  },
  {
   "cell_type": "code",
   "execution_count": 65,
   "id": "c223486c",
   "metadata": {},
   "outputs": [],
   "source": [
    "poly_model = LinearRegression(fit_intercept=True)"
   ]
  },
  {
   "cell_type": "code",
   "execution_count": 66,
   "id": "b0b63c75",
   "metadata": {},
   "outputs": [
    {
     "data": {
      "text/html": [
       "<style>#sk-container-id-4 {color: black;background-color: white;}#sk-container-id-4 pre{padding: 0;}#sk-container-id-4 div.sk-toggleable {background-color: white;}#sk-container-id-4 label.sk-toggleable__label {cursor: pointer;display: block;width: 100%;margin-bottom: 0;padding: 0.3em;box-sizing: border-box;text-align: center;}#sk-container-id-4 label.sk-toggleable__label-arrow:before {content: \"▸\";float: left;margin-right: 0.25em;color: #696969;}#sk-container-id-4 label.sk-toggleable__label-arrow:hover:before {color: black;}#sk-container-id-4 div.sk-estimator:hover label.sk-toggleable__label-arrow:before {color: black;}#sk-container-id-4 div.sk-toggleable__content {max-height: 0;max-width: 0;overflow: hidden;text-align: left;background-color: #f0f8ff;}#sk-container-id-4 div.sk-toggleable__content pre {margin: 0.2em;color: black;border-radius: 0.25em;background-color: #f0f8ff;}#sk-container-id-4 input.sk-toggleable__control:checked~div.sk-toggleable__content {max-height: 200px;max-width: 100%;overflow: auto;}#sk-container-id-4 input.sk-toggleable__control:checked~label.sk-toggleable__label-arrow:before {content: \"▾\";}#sk-container-id-4 div.sk-estimator input.sk-toggleable__control:checked~label.sk-toggleable__label {background-color: #d4ebff;}#sk-container-id-4 div.sk-label input.sk-toggleable__control:checked~label.sk-toggleable__label {background-color: #d4ebff;}#sk-container-id-4 input.sk-hidden--visually {border: 0;clip: rect(1px 1px 1px 1px);clip: rect(1px, 1px, 1px, 1px);height: 1px;margin: -1px;overflow: hidden;padding: 0;position: absolute;width: 1px;}#sk-container-id-4 div.sk-estimator {font-family: monospace;background-color: #f0f8ff;border: 1px dotted black;border-radius: 0.25em;box-sizing: border-box;margin-bottom: 0.5em;}#sk-container-id-4 div.sk-estimator:hover {background-color: #d4ebff;}#sk-container-id-4 div.sk-parallel-item::after {content: \"\";width: 100%;border-bottom: 1px solid gray;flex-grow: 1;}#sk-container-id-4 div.sk-label:hover label.sk-toggleable__label {background-color: #d4ebff;}#sk-container-id-4 div.sk-serial::before {content: \"\";position: absolute;border-left: 1px solid gray;box-sizing: border-box;top: 0;bottom: 0;left: 50%;z-index: 0;}#sk-container-id-4 div.sk-serial {display: flex;flex-direction: column;align-items: center;background-color: white;padding-right: 0.2em;padding-left: 0.2em;position: relative;}#sk-container-id-4 div.sk-item {position: relative;z-index: 1;}#sk-container-id-4 div.sk-parallel {display: flex;align-items: stretch;justify-content: center;background-color: white;position: relative;}#sk-container-id-4 div.sk-item::before, #sk-container-id-4 div.sk-parallel-item::before {content: \"\";position: absolute;border-left: 1px solid gray;box-sizing: border-box;top: 0;bottom: 0;left: 50%;z-index: -1;}#sk-container-id-4 div.sk-parallel-item {display: flex;flex-direction: column;z-index: 1;position: relative;background-color: white;}#sk-container-id-4 div.sk-parallel-item:first-child::after {align-self: flex-end;width: 50%;}#sk-container-id-4 div.sk-parallel-item:last-child::after {align-self: flex-start;width: 50%;}#sk-container-id-4 div.sk-parallel-item:only-child::after {width: 0;}#sk-container-id-4 div.sk-dashed-wrapped {border: 1px dashed gray;margin: 0 0.4em 0.5em 0.4em;box-sizing: border-box;padding-bottom: 0.4em;background-color: white;}#sk-container-id-4 div.sk-label label {font-family: monospace;font-weight: bold;display: inline-block;line-height: 1.2em;}#sk-container-id-4 div.sk-label-container {text-align: center;}#sk-container-id-4 div.sk-container {/* jupyter's `normalize.less` sets `[hidden] { display: none; }` but bootstrap.min.css set `[hidden] { display: none !important; }` so we also need the `!important` here to be able to override the default hidden behavior on the sphinx rendered scikit-learn.org. See: https://github.com/scikit-learn/scikit-learn/issues/21755 */display: inline-block !important;position: relative;}#sk-container-id-4 div.sk-text-repr-fallback {display: none;}</style><div id=\"sk-container-id-4\" class=\"sk-top-container\"><div class=\"sk-text-repr-fallback\"><pre>LinearRegression()</pre><b>In a Jupyter environment, please rerun this cell to show the HTML representation or trust the notebook. <br />On GitHub, the HTML representation is unable to render, please try loading this page with nbviewer.org.</b></div><div class=\"sk-container\" hidden><div class=\"sk-item\"><div class=\"sk-estimator sk-toggleable\"><input class=\"sk-toggleable__control sk-hidden--visually\" id=\"sk-estimator-id-6\" type=\"checkbox\" checked><label for=\"sk-estimator-id-6\" class=\"sk-toggleable__label sk-toggleable__label-arrow\">LinearRegression</label><div class=\"sk-toggleable__content\"><pre>LinearRegression()</pre></div></div></div></div></div>"
      ],
      "text/plain": [
       "LinearRegression()"
      ]
     },
     "execution_count": 66,
     "metadata": {},
     "output_type": "execute_result"
    }
   ],
   "source": [
    "poly_model.fit(X_Ptrain_scaled,y_Ptrain)"
   ]
  },
  {
   "cell_type": "markdown",
   "id": "cf4feb20",
   "metadata": {},
   "source": [
    "#### 4.2.3.4 Cross Validation scores:"
   ]
  },
  {
   "cell_type": "code",
   "execution_count": 67,
   "id": "c92bbc6b",
   "metadata": {},
   "outputs": [],
   "source": [
    "scores_p = cross_val_score(poly_model,X_Ptrain_scaled,y_Ptrain,\n",
    "                         scoring='neg_mean_absolute_error',cv=5)"
   ]
  },
  {
   "cell_type": "code",
   "execution_count": 68,
   "id": "f2982023",
   "metadata": {},
   "outputs": [
    {
     "data": {
      "text/plain": [
       "9723605843.19851"
      ]
     },
     "execution_count": 68,
     "metadata": {},
     "output_type": "execute_result"
    }
   ],
   "source": [
    "abs(scores_p.mean())"
   ]
  },
  {
   "cell_type": "code",
   "execution_count": 69,
   "id": "6f23d1e2",
   "metadata": {},
   "outputs": [],
   "source": [
    "scores_p_2 = cross_val_score(poly_model,X_Ptrain_scaled,y_Ptrain,\n",
    "                         scoring='neg_mean_squared_error',cv=5)"
   ]
  },
  {
   "cell_type": "code",
   "execution_count": 70,
   "id": "ca785904",
   "metadata": {},
   "outputs": [
    {
     "data": {
      "text/plain": [
       "22301766878.079178"
      ]
     },
     "execution_count": 70,
     "metadata": {},
     "output_type": "execute_result"
    }
   ],
   "source": [
    "np.sqrt(abs(scores_p_2)).mean()"
   ]
  },
  {
   "cell_type": "code",
   "execution_count": 71,
   "id": "1e5cfcc8",
   "metadata": {},
   "outputs": [],
   "source": [
    "scores_p_3 = cross_val_score(poly_model,X_Ptrain_scaled,y_Ptrain,\n",
    "                         scoring='r2',cv=5)"
   ]
  },
  {
   "cell_type": "code",
   "execution_count": 72,
   "id": "4539f791",
   "metadata": {},
   "outputs": [
    {
     "data": {
      "text/plain": [
       "-177933789704.3999"
      ]
     },
     "execution_count": 72,
     "metadata": {},
     "output_type": "execute_result"
    }
   ],
   "source": [
    "scores_p_3.mean()"
   ]
  },
  {
   "cell_type": "markdown",
   "id": "2d028ab3",
   "metadata": {},
   "source": [
    "#### 4.2.3.4 Final evaluation:"
   ]
  },
  {
   "cell_type": "code",
   "execution_count": 73,
   "id": "cb31aedf",
   "metadata": {},
   "outputs": [],
   "source": [
    "poly_test_predictions = poly_model.predict(X_Ptest_scaled)"
   ]
  },
  {
   "cell_type": "code",
   "execution_count": 74,
   "id": "f3095362",
   "metadata": {},
   "outputs": [],
   "source": [
    "MAE_p = mean_absolute_error(y_Ptest,poly_test_predictions)\n",
    "MSE_p = mean_squared_error(y_Ptest,poly_test_predictions)\n",
    "RMSE_p = np.sqrt(MSE_p)"
   ]
  },
  {
   "cell_type": "code",
   "execution_count": 75,
   "id": "5bd7d5aa",
   "metadata": {},
   "outputs": [
    {
     "data": {
      "text/plain": [
       "1861209482.5709674"
      ]
     },
     "execution_count": 75,
     "metadata": {},
     "output_type": "execute_result"
    }
   ],
   "source": [
    "MAE_p"
   ]
  },
  {
   "cell_type": "code",
   "execution_count": 76,
   "id": "4b29d993",
   "metadata": {},
   "outputs": [
    {
     "data": {
      "text/plain": [
       "4638476183.77102"
      ]
     },
     "execution_count": 76,
     "metadata": {},
     "output_type": "execute_result"
    }
   ],
   "source": [
    "RMSE_p"
   ]
  },
  {
   "cell_type": "markdown",
   "id": "74b30dbc",
   "metadata": {},
   "source": [
    "The Polynomial model performs better than the Linear Regression model but the same issues that plague the Linear Regression model have an effect here. It seems that the Elastic Net model is the best performing linear model. Now we will try a different type of  refression models."
   ]
  },
  {
   "cell_type": "markdown",
   "id": "f37888c8",
   "metadata": {},
   "source": [
    "___\n",
    "\n",
    "## 4.3 Support Vector Regression: "
   ]
  },
  {
   "cell_type": "markdown",
   "id": "1dcf0a72",
   "metadata": {},
   "source": [
    "Support Vector Regression (SVR) is a type of Support Vector Machine (SVM) algorithm, which is a supervised learning algorithm that can be used for regression problems. SVR is a linear model that aims to find the hyperplane that maximally separates the data points into two classes, while at the same time minimizing the classification error. In SVR, the goal is to find the hyperplane that maximally separates the data points from the prediction error, while at the same time minimizing the margin of deviation between the predicted value and the true value of the dependent variable."
   ]
  },
  {
   "cell_type": "markdown",
   "id": "e2fd5728",
   "metadata": {},
   "source": [
    "### 4.3.1 Model implementation "
   ]
  },
  {
   "cell_type": "code",
   "execution_count": 77,
   "id": "1fc46cb9",
   "metadata": {},
   "outputs": [],
   "source": [
    "svr = SVR()\n",
    "param_grid_svr = {'C':[25,30,100,200,300,400,1000,5000,10000],\n",
    "             'kernel':['rbf','linear'],\n",
    "              'gamma':['scale','auto'],\n",
    "              'epsilon':[10,20,30,50,100,300,1000,5000,10000]}"
   ]
  },
  {
   "cell_type": "code",
   "execution_count": 78,
   "id": "bbb90b7d",
   "metadata": {},
   "outputs": [],
   "source": [
    "grid_svr = GridSearchCV(svr,param_grid=param_grid_svr)"
   ]
  },
  {
   "cell_type": "code",
   "execution_count": 79,
   "id": "808863b0",
   "metadata": {
    "scrolled": false
   },
   "outputs": [
    {
     "data": {
      "text/html": [
       "<style>#sk-container-id-5 {color: black;background-color: white;}#sk-container-id-5 pre{padding: 0;}#sk-container-id-5 div.sk-toggleable {background-color: white;}#sk-container-id-5 label.sk-toggleable__label {cursor: pointer;display: block;width: 100%;margin-bottom: 0;padding: 0.3em;box-sizing: border-box;text-align: center;}#sk-container-id-5 label.sk-toggleable__label-arrow:before {content: \"▸\";float: left;margin-right: 0.25em;color: #696969;}#sk-container-id-5 label.sk-toggleable__label-arrow:hover:before {color: black;}#sk-container-id-5 div.sk-estimator:hover label.sk-toggleable__label-arrow:before {color: black;}#sk-container-id-5 div.sk-toggleable__content {max-height: 0;max-width: 0;overflow: hidden;text-align: left;background-color: #f0f8ff;}#sk-container-id-5 div.sk-toggleable__content pre {margin: 0.2em;color: black;border-radius: 0.25em;background-color: #f0f8ff;}#sk-container-id-5 input.sk-toggleable__control:checked~div.sk-toggleable__content {max-height: 200px;max-width: 100%;overflow: auto;}#sk-container-id-5 input.sk-toggleable__control:checked~label.sk-toggleable__label-arrow:before {content: \"▾\";}#sk-container-id-5 div.sk-estimator input.sk-toggleable__control:checked~label.sk-toggleable__label {background-color: #d4ebff;}#sk-container-id-5 div.sk-label input.sk-toggleable__control:checked~label.sk-toggleable__label {background-color: #d4ebff;}#sk-container-id-5 input.sk-hidden--visually {border: 0;clip: rect(1px 1px 1px 1px);clip: rect(1px, 1px, 1px, 1px);height: 1px;margin: -1px;overflow: hidden;padding: 0;position: absolute;width: 1px;}#sk-container-id-5 div.sk-estimator {font-family: monospace;background-color: #f0f8ff;border: 1px dotted black;border-radius: 0.25em;box-sizing: border-box;margin-bottom: 0.5em;}#sk-container-id-5 div.sk-estimator:hover {background-color: #d4ebff;}#sk-container-id-5 div.sk-parallel-item::after {content: \"\";width: 100%;border-bottom: 1px solid gray;flex-grow: 1;}#sk-container-id-5 div.sk-label:hover label.sk-toggleable__label {background-color: #d4ebff;}#sk-container-id-5 div.sk-serial::before {content: \"\";position: absolute;border-left: 1px solid gray;box-sizing: border-box;top: 0;bottom: 0;left: 50%;z-index: 0;}#sk-container-id-5 div.sk-serial {display: flex;flex-direction: column;align-items: center;background-color: white;padding-right: 0.2em;padding-left: 0.2em;position: relative;}#sk-container-id-5 div.sk-item {position: relative;z-index: 1;}#sk-container-id-5 div.sk-parallel {display: flex;align-items: stretch;justify-content: center;background-color: white;position: relative;}#sk-container-id-5 div.sk-item::before, #sk-container-id-5 div.sk-parallel-item::before {content: \"\";position: absolute;border-left: 1px solid gray;box-sizing: border-box;top: 0;bottom: 0;left: 50%;z-index: -1;}#sk-container-id-5 div.sk-parallel-item {display: flex;flex-direction: column;z-index: 1;position: relative;background-color: white;}#sk-container-id-5 div.sk-parallel-item:first-child::after {align-self: flex-end;width: 50%;}#sk-container-id-5 div.sk-parallel-item:last-child::after {align-self: flex-start;width: 50%;}#sk-container-id-5 div.sk-parallel-item:only-child::after {width: 0;}#sk-container-id-5 div.sk-dashed-wrapped {border: 1px dashed gray;margin: 0 0.4em 0.5em 0.4em;box-sizing: border-box;padding-bottom: 0.4em;background-color: white;}#sk-container-id-5 div.sk-label label {font-family: monospace;font-weight: bold;display: inline-block;line-height: 1.2em;}#sk-container-id-5 div.sk-label-container {text-align: center;}#sk-container-id-5 div.sk-container {/* jupyter's `normalize.less` sets `[hidden] { display: none; }` but bootstrap.min.css set `[hidden] { display: none !important; }` so we also need the `!important` here to be able to override the default hidden behavior on the sphinx rendered scikit-learn.org. See: https://github.com/scikit-learn/scikit-learn/issues/21755 */display: inline-block !important;position: relative;}#sk-container-id-5 div.sk-text-repr-fallback {display: none;}</style><div id=\"sk-container-id-5\" class=\"sk-top-container\"><div class=\"sk-text-repr-fallback\"><pre>GridSearchCV(estimator=SVR(),\n",
       "             param_grid={&#x27;C&#x27;: [25, 30, 100, 200, 300, 400, 1000, 5000, 10000],\n",
       "                         &#x27;epsilon&#x27;: [10, 20, 30, 50, 100, 300, 1000, 5000,\n",
       "                                     10000],\n",
       "                         &#x27;gamma&#x27;: [&#x27;scale&#x27;, &#x27;auto&#x27;],\n",
       "                         &#x27;kernel&#x27;: [&#x27;rbf&#x27;, &#x27;linear&#x27;]})</pre><b>In a Jupyter environment, please rerun this cell to show the HTML representation or trust the notebook. <br />On GitHub, the HTML representation is unable to render, please try loading this page with nbviewer.org.</b></div><div class=\"sk-container\" hidden><div class=\"sk-item sk-dashed-wrapped\"><div class=\"sk-label-container\"><div class=\"sk-label sk-toggleable\"><input class=\"sk-toggleable__control sk-hidden--visually\" id=\"sk-estimator-id-7\" type=\"checkbox\" ><label for=\"sk-estimator-id-7\" class=\"sk-toggleable__label sk-toggleable__label-arrow\">GridSearchCV</label><div class=\"sk-toggleable__content\"><pre>GridSearchCV(estimator=SVR(),\n",
       "             param_grid={&#x27;C&#x27;: [25, 30, 100, 200, 300, 400, 1000, 5000, 10000],\n",
       "                         &#x27;epsilon&#x27;: [10, 20, 30, 50, 100, 300, 1000, 5000,\n",
       "                                     10000],\n",
       "                         &#x27;gamma&#x27;: [&#x27;scale&#x27;, &#x27;auto&#x27;],\n",
       "                         &#x27;kernel&#x27;: [&#x27;rbf&#x27;, &#x27;linear&#x27;]})</pre></div></div></div><div class=\"sk-parallel\"><div class=\"sk-parallel-item\"><div class=\"sk-item\"><div class=\"sk-label-container\"><div class=\"sk-label sk-toggleable\"><input class=\"sk-toggleable__control sk-hidden--visually\" id=\"sk-estimator-id-8\" type=\"checkbox\" ><label for=\"sk-estimator-id-8\" class=\"sk-toggleable__label sk-toggleable__label-arrow\">estimator: SVR</label><div class=\"sk-toggleable__content\"><pre>SVR()</pre></div></div></div><div class=\"sk-serial\"><div class=\"sk-item\"><div class=\"sk-estimator sk-toggleable\"><input class=\"sk-toggleable__control sk-hidden--visually\" id=\"sk-estimator-id-9\" type=\"checkbox\" ><label for=\"sk-estimator-id-9\" class=\"sk-toggleable__label sk-toggleable__label-arrow\">SVR</label><div class=\"sk-toggleable__content\"><pre>SVR()</pre></div></div></div></div></div></div></div></div></div></div>"
      ],
      "text/plain": [
       "GridSearchCV(estimator=SVR(),\n",
       "             param_grid={'C': [25, 30, 100, 200, 300, 400, 1000, 5000, 10000],\n",
       "                         'epsilon': [10, 20, 30, 50, 100, 300, 1000, 5000,\n",
       "                                     10000],\n",
       "                         'gamma': ['scale', 'auto'],\n",
       "                         'kernel': ['rbf', 'linear']})"
      ]
     },
     "execution_count": 79,
     "metadata": {},
     "output_type": "execute_result"
    }
   ],
   "source": [
    "grid_svr.fit(X_train_scaled,y_train)"
   ]
  },
  {
   "cell_type": "code",
   "execution_count": 80,
   "id": "925d78c6",
   "metadata": {},
   "outputs": [
    {
     "data": {
      "text/plain": [
       "{'C': 10000, 'epsilon': 10000, 'gamma': 'scale', 'kernel': 'linear'}"
      ]
     },
     "execution_count": 80,
     "metadata": {},
     "output_type": "execute_result"
    }
   ],
   "source": [
    "grid_svr.best_params_"
   ]
  },
  {
   "cell_type": "markdown",
   "id": "601cb8c4",
   "metadata": {},
   "source": [
    "### 4.3.2 Cross Validation scores:"
   ]
  },
  {
   "cell_type": "code",
   "execution_count": 81,
   "id": "a5334264",
   "metadata": {},
   "outputs": [],
   "source": [
    "scores_svr = cross_val_score(grid_svr,X_train_scaled,y_train,\n",
    "                         scoring='neg_mean_absolute_error',cv=5)"
   ]
  },
  {
   "cell_type": "code",
   "execution_count": 82,
   "id": "f09edbb9",
   "metadata": {},
   "outputs": [
    {
     "data": {
      "text/plain": [
       "18358.336931397964"
      ]
     },
     "execution_count": 82,
     "metadata": {},
     "output_type": "execute_result"
    }
   ],
   "source": [
    "abs(scores_svr.mean())"
   ]
  },
  {
   "cell_type": "code",
   "execution_count": 83,
   "id": "ec8579aa",
   "metadata": {},
   "outputs": [],
   "source": [
    "scores_svr_2 = cross_val_score(grid_svr,X_train_scaled,y_train,\n",
    "                         scoring='neg_mean_squared_error',cv=5)"
   ]
  },
  {
   "cell_type": "code",
   "execution_count": 84,
   "id": "bd04596a",
   "metadata": {},
   "outputs": [
    {
     "data": {
      "text/plain": [
       "29607.016181049752"
      ]
     },
     "execution_count": 84,
     "metadata": {},
     "output_type": "execute_result"
    }
   ],
   "source": [
    "np.sqrt(abs(scores_svr_2)).mean()"
   ]
  },
  {
   "cell_type": "code",
   "execution_count": 85,
   "id": "df1553bf",
   "metadata": {},
   "outputs": [],
   "source": [
    "scores_svr_3 = cross_val_score(grid_svr,X_train_scaled,y_train,\n",
    "                         scoring='r2',cv=5)"
   ]
  },
  {
   "cell_type": "code",
   "execution_count": 86,
   "id": "d33769af",
   "metadata": {},
   "outputs": [
    {
     "data": {
      "text/plain": [
       "0.858511057663882"
      ]
     },
     "execution_count": 86,
     "metadata": {},
     "output_type": "execute_result"
    }
   ],
   "source": [
    "scores_svr_3.mean()"
   ]
  },
  {
   "cell_type": "markdown",
   "id": "b6202819",
   "metadata": {},
   "source": [
    "### 4.3.2 Final model evaluation"
   ]
  },
  {
   "cell_type": "code",
   "execution_count": 87,
   "id": "453406b1",
   "metadata": {},
   "outputs": [],
   "source": [
    "grid_preds_svr = grid_svr.predict(X_test_scaled)"
   ]
  },
  {
   "cell_type": "code",
   "execution_count": 88,
   "id": "36cc7896",
   "metadata": {},
   "outputs": [
    {
     "data": {
      "text/plain": [
       "20701.718266949727"
      ]
     },
     "execution_count": 88,
     "metadata": {},
     "output_type": "execute_result"
    }
   ],
   "source": [
    "mean_absolute_error(y_test,grid_preds_svr)"
   ]
  },
  {
   "cell_type": "code",
   "execution_count": 89,
   "id": "56e5f13f",
   "metadata": {},
   "outputs": [
    {
     "data": {
      "text/plain": [
       "43642.87328967998"
      ]
     },
     "execution_count": 89,
     "metadata": {},
     "output_type": "execute_result"
    }
   ],
   "source": [
    "np.sqrt(mean_squared_error(y_test,grid_preds_svr))"
   ]
  },
  {
   "cell_type": "code",
   "execution_count": 90,
   "id": "bb19bbd8",
   "metadata": {},
   "outputs": [
    {
     "data": {
      "text/plain": [
       "0.6857600515472577"
      ]
     },
     "execution_count": 90,
     "metadata": {},
     "output_type": "execute_result"
    }
   ],
   "source": [
    "r2_score(y_test,grid_preds_svr)"
   ]
  },
  {
   "cell_type": "markdown",
   "id": "db4daab3",
   "metadata": {},
   "source": [
    "___\n",
    "\n",
    "## 4.4 Random Forrest "
   ]
  },
  {
   "cell_type": "markdown",
   "id": "6770c033",
   "metadata": {},
   "source": [
    "### 4.4.1 Model implementation: "
   ]
  },
  {
   "cell_type": "code",
   "execution_count": 91,
   "id": "ea436eac",
   "metadata": {},
   "outputs": [
    {
     "data": {
      "text/plain": [
       "{'n_estimators': [10,\n",
       "  12,\n",
       "  16,\n",
       "  20,\n",
       "  26,\n",
       "  33,\n",
       "  42,\n",
       "  54,\n",
       "  69,\n",
       "  88,\n",
       "  112,\n",
       "  143,\n",
       "  183,\n",
       "  233,\n",
       "  297,\n",
       "  379,\n",
       "  483,\n",
       "  615,\n",
       "  784,\n",
       "  1000]}"
      ]
     },
     "execution_count": 91,
     "metadata": {},
     "output_type": "execute_result"
    }
   ],
   "source": [
    "param_grid_rf = {'n_estimators': [10,12,16,20,26,33,42,54,69,88,112,143,183,233,297,379,483,615,784,1000]}\n",
    "param_grid_rf"
   ]
  },
  {
   "cell_type": "code",
   "execution_count": 92,
   "id": "1b7d0c07",
   "metadata": {},
   "outputs": [],
   "source": [
    "rf = RandomForestRegressor(random_state=42)"
   ]
  },
  {
   "cell_type": "code",
   "execution_count": 93,
   "id": "b3e425bc",
   "metadata": {},
   "outputs": [],
   "source": [
    "grid_rf = GridSearchCV(rf, param_grid=param_grid_rf,cv=5)"
   ]
  },
  {
   "cell_type": "code",
   "execution_count": 94,
   "id": "2efe6cc5",
   "metadata": {
    "scrolled": true
   },
   "outputs": [
    {
     "data": {
      "text/html": [
       "<style>#sk-container-id-6 {color: black;background-color: white;}#sk-container-id-6 pre{padding: 0;}#sk-container-id-6 div.sk-toggleable {background-color: white;}#sk-container-id-6 label.sk-toggleable__label {cursor: pointer;display: block;width: 100%;margin-bottom: 0;padding: 0.3em;box-sizing: border-box;text-align: center;}#sk-container-id-6 label.sk-toggleable__label-arrow:before {content: \"▸\";float: left;margin-right: 0.25em;color: #696969;}#sk-container-id-6 label.sk-toggleable__label-arrow:hover:before {color: black;}#sk-container-id-6 div.sk-estimator:hover label.sk-toggleable__label-arrow:before {color: black;}#sk-container-id-6 div.sk-toggleable__content {max-height: 0;max-width: 0;overflow: hidden;text-align: left;background-color: #f0f8ff;}#sk-container-id-6 div.sk-toggleable__content pre {margin: 0.2em;color: black;border-radius: 0.25em;background-color: #f0f8ff;}#sk-container-id-6 input.sk-toggleable__control:checked~div.sk-toggleable__content {max-height: 200px;max-width: 100%;overflow: auto;}#sk-container-id-6 input.sk-toggleable__control:checked~label.sk-toggleable__label-arrow:before {content: \"▾\";}#sk-container-id-6 div.sk-estimator input.sk-toggleable__control:checked~label.sk-toggleable__label {background-color: #d4ebff;}#sk-container-id-6 div.sk-label input.sk-toggleable__control:checked~label.sk-toggleable__label {background-color: #d4ebff;}#sk-container-id-6 input.sk-hidden--visually {border: 0;clip: rect(1px 1px 1px 1px);clip: rect(1px, 1px, 1px, 1px);height: 1px;margin: -1px;overflow: hidden;padding: 0;position: absolute;width: 1px;}#sk-container-id-6 div.sk-estimator {font-family: monospace;background-color: #f0f8ff;border: 1px dotted black;border-radius: 0.25em;box-sizing: border-box;margin-bottom: 0.5em;}#sk-container-id-6 div.sk-estimator:hover {background-color: #d4ebff;}#sk-container-id-6 div.sk-parallel-item::after {content: \"\";width: 100%;border-bottom: 1px solid gray;flex-grow: 1;}#sk-container-id-6 div.sk-label:hover label.sk-toggleable__label {background-color: #d4ebff;}#sk-container-id-6 div.sk-serial::before {content: \"\";position: absolute;border-left: 1px solid gray;box-sizing: border-box;top: 0;bottom: 0;left: 50%;z-index: 0;}#sk-container-id-6 div.sk-serial {display: flex;flex-direction: column;align-items: center;background-color: white;padding-right: 0.2em;padding-left: 0.2em;position: relative;}#sk-container-id-6 div.sk-item {position: relative;z-index: 1;}#sk-container-id-6 div.sk-parallel {display: flex;align-items: stretch;justify-content: center;background-color: white;position: relative;}#sk-container-id-6 div.sk-item::before, #sk-container-id-6 div.sk-parallel-item::before {content: \"\";position: absolute;border-left: 1px solid gray;box-sizing: border-box;top: 0;bottom: 0;left: 50%;z-index: -1;}#sk-container-id-6 div.sk-parallel-item {display: flex;flex-direction: column;z-index: 1;position: relative;background-color: white;}#sk-container-id-6 div.sk-parallel-item:first-child::after {align-self: flex-end;width: 50%;}#sk-container-id-6 div.sk-parallel-item:last-child::after {align-self: flex-start;width: 50%;}#sk-container-id-6 div.sk-parallel-item:only-child::after {width: 0;}#sk-container-id-6 div.sk-dashed-wrapped {border: 1px dashed gray;margin: 0 0.4em 0.5em 0.4em;box-sizing: border-box;padding-bottom: 0.4em;background-color: white;}#sk-container-id-6 div.sk-label label {font-family: monospace;font-weight: bold;display: inline-block;line-height: 1.2em;}#sk-container-id-6 div.sk-label-container {text-align: center;}#sk-container-id-6 div.sk-container {/* jupyter's `normalize.less` sets `[hidden] { display: none; }` but bootstrap.min.css set `[hidden] { display: none !important; }` so we also need the `!important` here to be able to override the default hidden behavior on the sphinx rendered scikit-learn.org. See: https://github.com/scikit-learn/scikit-learn/issues/21755 */display: inline-block !important;position: relative;}#sk-container-id-6 div.sk-text-repr-fallback {display: none;}</style><div id=\"sk-container-id-6\" class=\"sk-top-container\"><div class=\"sk-text-repr-fallback\"><pre>GridSearchCV(cv=5, estimator=RandomForestRegressor(random_state=42),\n",
       "             param_grid={&#x27;n_estimators&#x27;: [10, 12, 16, 20, 26, 33, 42, 54, 69,\n",
       "                                          88, 112, 143, 183, 233, 297, 379, 483,\n",
       "                                          615, 784, 1000]})</pre><b>In a Jupyter environment, please rerun this cell to show the HTML representation or trust the notebook. <br />On GitHub, the HTML representation is unable to render, please try loading this page with nbviewer.org.</b></div><div class=\"sk-container\" hidden><div class=\"sk-item sk-dashed-wrapped\"><div class=\"sk-label-container\"><div class=\"sk-label sk-toggleable\"><input class=\"sk-toggleable__control sk-hidden--visually\" id=\"sk-estimator-id-10\" type=\"checkbox\" ><label for=\"sk-estimator-id-10\" class=\"sk-toggleable__label sk-toggleable__label-arrow\">GridSearchCV</label><div class=\"sk-toggleable__content\"><pre>GridSearchCV(cv=5, estimator=RandomForestRegressor(random_state=42),\n",
       "             param_grid={&#x27;n_estimators&#x27;: [10, 12, 16, 20, 26, 33, 42, 54, 69,\n",
       "                                          88, 112, 143, 183, 233, 297, 379, 483,\n",
       "                                          615, 784, 1000]})</pre></div></div></div><div class=\"sk-parallel\"><div class=\"sk-parallel-item\"><div class=\"sk-item\"><div class=\"sk-label-container\"><div class=\"sk-label sk-toggleable\"><input class=\"sk-toggleable__control sk-hidden--visually\" id=\"sk-estimator-id-11\" type=\"checkbox\" ><label for=\"sk-estimator-id-11\" class=\"sk-toggleable__label sk-toggleable__label-arrow\">estimator: RandomForestRegressor</label><div class=\"sk-toggleable__content\"><pre>RandomForestRegressor(random_state=42)</pre></div></div></div><div class=\"sk-serial\"><div class=\"sk-item\"><div class=\"sk-estimator sk-toggleable\"><input class=\"sk-toggleable__control sk-hidden--visually\" id=\"sk-estimator-id-12\" type=\"checkbox\" ><label for=\"sk-estimator-id-12\" class=\"sk-toggleable__label sk-toggleable__label-arrow\">RandomForestRegressor</label><div class=\"sk-toggleable__content\"><pre>RandomForestRegressor(random_state=42)</pre></div></div></div></div></div></div></div></div></div></div>"
      ],
      "text/plain": [
       "GridSearchCV(cv=5, estimator=RandomForestRegressor(random_state=42),\n",
       "             param_grid={'n_estimators': [10, 12, 16, 20, 26, 33, 42, 54, 69,\n",
       "                                          88, 112, 143, 183, 233, 297, 379, 483,\n",
       "                                          615, 784, 1000]})"
      ]
     },
     "execution_count": 94,
     "metadata": {},
     "output_type": "execute_result"
    }
   ],
   "source": [
    "grid_rf.fit(X_train_scaled, y_train)"
   ]
  },
  {
   "cell_type": "code",
   "execution_count": 95,
   "id": "4913bdcc",
   "metadata": {},
   "outputs": [
    {
     "data": {
      "text/plain": [
       "{'n_estimators': 183}"
      ]
     },
     "execution_count": 95,
     "metadata": {},
     "output_type": "execute_result"
    }
   ],
   "source": [
    "grid_rf.best_params_"
   ]
  },
  {
   "cell_type": "markdown",
   "id": "07957513",
   "metadata": {},
   "source": [
    "### 4.4.2 Cross Validation scores:"
   ]
  },
  {
   "cell_type": "code",
   "execution_count": 96,
   "id": "da8f928c",
   "metadata": {},
   "outputs": [],
   "source": [
    "scores_rf = cross_val_score(grid_rf,X_train_scaled,y_train,\n",
    "                         scoring='neg_mean_absolute_error',cv=5)"
   ]
  },
  {
   "cell_type": "code",
   "execution_count": 97,
   "id": "dc6e007b",
   "metadata": {},
   "outputs": [
    {
     "data": {
      "text/plain": [
       "18942.386783858063"
      ]
     },
     "execution_count": 97,
     "metadata": {},
     "output_type": "execute_result"
    }
   ],
   "source": [
    "abs(scores_rf.mean())"
   ]
  },
  {
   "cell_type": "code",
   "execution_count": 98,
   "id": "ebcbe109",
   "metadata": {},
   "outputs": [],
   "source": [
    "scores_rf_2 = cross_val_score(grid_rf,X_train_scaled,y_train,\n",
    "                         scoring='neg_mean_squared_error',cv=5)"
   ]
  },
  {
   "cell_type": "code",
   "execution_count": 99,
   "id": "27bcfa97",
   "metadata": {},
   "outputs": [
    {
     "data": {
      "text/plain": [
       "31432.378198577022"
      ]
     },
     "execution_count": 99,
     "metadata": {},
     "output_type": "execute_result"
    }
   ],
   "source": [
    "np.sqrt(abs(scores_rf_2)).mean()"
   ]
  },
  {
   "cell_type": "code",
   "execution_count": 100,
   "id": "2e5d4cfa",
   "metadata": {},
   "outputs": [],
   "source": [
    "scores_rf_3 = cross_val_score(grid_rf,X_train_scaled,y_train,\n",
    "                         scoring='r2',cv=5)"
   ]
  },
  {
   "cell_type": "code",
   "execution_count": 101,
   "id": "341dd17f",
   "metadata": {},
   "outputs": [
    {
     "data": {
      "text/plain": [
       "0.8395943353905448"
      ]
     },
     "execution_count": 101,
     "metadata": {},
     "output_type": "execute_result"
    }
   ],
   "source": [
    "scores_rf_3.mean()"
   ]
  },
  {
   "cell_type": "markdown",
   "id": "b61b4d36",
   "metadata": {},
   "source": [
    "### 4.4.2 Final model evaluation:"
   ]
  },
  {
   "cell_type": "code",
   "execution_count": 102,
   "id": "60c9bc15",
   "metadata": {},
   "outputs": [],
   "source": [
    "grid_preds_rf = grid_rf.predict(X_test_scaled)"
   ]
  },
  {
   "cell_type": "code",
   "execution_count": 103,
   "id": "814dbcb5",
   "metadata": {},
   "outputs": [
    {
     "data": {
      "text/plain": [
       "20543.446727549464"
      ]
     },
     "execution_count": 103,
     "metadata": {},
     "output_type": "execute_result"
    }
   ],
   "source": [
    "mean_absolute_error(y_test,grid_preds_rf)"
   ]
  },
  {
   "cell_type": "code",
   "execution_count": 104,
   "id": "d408e295",
   "metadata": {},
   "outputs": [
    {
     "data": {
      "text/plain": [
       "35225.83114415899"
      ]
     },
     "execution_count": 104,
     "metadata": {},
     "output_type": "execute_result"
    }
   ],
   "source": [
    "np.sqrt(mean_squared_error(y_test,grid_preds_rf))"
   ]
  },
  {
   "cell_type": "code",
   "execution_count": 105,
   "id": "b23af698",
   "metadata": {},
   "outputs": [
    {
     "data": {
      "text/plain": [
       "0.7952814379874916"
      ]
     },
     "execution_count": 105,
     "metadata": {},
     "output_type": "execute_result"
    }
   ],
   "source": [
    "r2_score(y_test,grid_preds_rf)"
   ]
  },
  {
   "cell_type": "markdown",
   "id": "203a4b6c",
   "metadata": {},
   "source": [
    "___\n",
    "\n",
    "## 4.5 Conclusions:"
   ]
  },
  {
   "cell_type": "markdown",
   "id": "63896984",
   "metadata": {},
   "source": [
    "### 4.5.1 Model comparison: \n",
    "We will compare metrics across our models to decide on which one to move forward with. We will only consider the Elastic Net model from the linear models."
   ]
  },
  {
   "cell_type": "markdown",
   "id": "25eb5129",
   "metadata": {},
   "source": [
    "\n",
    "Model | $R^2$ | MAE | RMSE |\n",
    "------|-------|-----|------|\n",
    "Elastic Net | 0.699 | 20971 | 42735 |\n",
    "Support Vector Regression | 0.686 | 20621 |43630|\n",
    "Random Forrest | 0.808 | 20757 | 34105 |\n"
   ]
  },
  {
   "cell_type": "markdown",
   "id": "f80fe489",
   "metadata": {},
   "source": [
    "We can see that the Elastic Net and the Support Vector Regression models perform similarly. But, the best performer is the Random Forrest model, it outperforms the other two on all three metrics. We will move forward with the Random Forrest model."
   ]
  },
  {
   "cell_type": "markdown",
   "id": "23fa33c9",
   "metadata": {},
   "source": [
    "### 4.5.2 Random Forrest model exploration:\n",
    "Now that we decided to move forward with the Random Forrest model, we will explore a bit further. "
   ]
  },
  {
   "cell_type": "markdown",
   "id": "51b6e494",
   "metadata": {},
   "source": [
    "#### 4.5.2.1 What are the most important features to our model?\n",
    "Let's display the most important features to our model and see if anything looks interesting:"
   ]
  },
  {
   "cell_type": "code",
   "execution_count": 106,
   "id": "563a045c",
   "metadata": {},
   "outputs": [
    {
     "data": {
      "image/png": "[encoded data removed]",
      "text/plain": [
       "<Figure size 1000x500 with 1 Axes>"
      ]
     },
     "metadata": {},
     "output_type": "display_data"
    }
   ],
   "source": [
    "plt.subplots(figsize=(10, 5))\n",
    "imps = grid_rf.best_estimator_.feature_importances_\n",
    "rf_feat_imps = pd.Series(imps, index=X_train.columns).sort_values(ascending=False)\n",
    "rf_feat_imps.plot(kind='bar')\n",
    "plt.xlabel('features')\n",
    "plt.ylabel('importance')\n",
    "plt.title('Best random forest regressor feature importances');"
   ]
  },
  {
   "cell_type": "markdown",
   "id": "623891b2",
   "metadata": {},
   "source": [
    "It seems like the HousArea is important for our model as it accounts for almost 80% of importance. The second most important feature in our model is the YearBuilt of the house, and it only accounts for about 5% of importance."
   ]
  },
  {
   "cell_type": "markdown",
   "id": "39802fb8",
   "metadata": {},
   "source": [
    "## 4.6 Saving our model:"
   ]
  },
  {
   "cell_type": "code",
   "execution_count": 107,
   "id": "1918ebdc",
   "metadata": {},
   "outputs": [],
   "source": [
    "model = grid_rf.best_estimator_"
   ]
  },
  {
   "cell_type": "code",
   "execution_count": 108,
   "id": "4c14ca1a",
   "metadata": {},
   "outputs": [],
   "source": [
    "with open('../models/rf.pkl','wb') as f:\n",
    "    dill.dump(model,f)\n",
    "    "
   ]
  },
  {
   "cell_type": "markdown",
   "id": "ee2797e8",
   "metadata": {},
   "source": [
    "We'll also save the model into the app folder since we're going to need it there."
   ]
  },
  {
   "cell_type": "code",
   "execution_count": 109,
   "id": "78cef000",
   "metadata": {},
   "outputs": [],
   "source": [
    "with open('../app/rf.pkl','wb') as f:\n",
    "    dill.dump(model,f)"
   ]
  },
  {
   "cell_type": "code",
   "execution_count": 110,
   "id": "07492e7e",
   "metadata": {},
   "outputs": [],
   "source": [
    "with open('../app/scaler.pkl','wb') as f:\n",
    "    dill.dump(scaler,f)"
   ]
  },
  {
   "cell_type": "markdown",
   "id": "cea30019",
   "metadata": {},
   "source": [
    "Let's make sure our model was saved correctly. We will reload it and make predictions to make sure everything is working properly:"
   ]
  },
  {
   "cell_type": "code",
   "execution_count": 111,
   "id": "f49f7fad",
   "metadata": {},
   "outputs": [],
   "source": [
    "with open('../models/rf.pkl','rb') as f:\n",
    "    reloaded_model = dill.load(f)"
   ]
  },
  {
   "cell_type": "code",
   "execution_count": 112,
   "id": "980a6287",
   "metadata": {},
   "outputs": [
    {
     "data": {
      "text/html": [
       "<style>#sk-container-id-7 {color: black;background-color: white;}#sk-container-id-7 pre{padding: 0;}#sk-container-id-7 div.sk-toggleable {background-color: white;}#sk-container-id-7 label.sk-toggleable__label {cursor: pointer;display: block;width: 100%;margin-bottom: 0;padding: 0.3em;box-sizing: border-box;text-align: center;}#sk-container-id-7 label.sk-toggleable__label-arrow:before {content: \"▸\";float: left;margin-right: 0.25em;color: #696969;}#sk-container-id-7 label.sk-toggleable__label-arrow:hover:before {color: black;}#sk-container-id-7 div.sk-estimator:hover label.sk-toggleable__label-arrow:before {color: black;}#sk-container-id-7 div.sk-toggleable__content {max-height: 0;max-width: 0;overflow: hidden;text-align: left;background-color: #f0f8ff;}#sk-container-id-7 div.sk-toggleable__content pre {margin: 0.2em;color: black;border-radius: 0.25em;background-color: #f0f8ff;}#sk-container-id-7 input.sk-toggleable__control:checked~div.sk-toggleable__content {max-height: 200px;max-width: 100%;overflow: auto;}#sk-container-id-7 input.sk-toggleable__control:checked~label.sk-toggleable__label-arrow:before {content: \"▾\";}#sk-container-id-7 div.sk-estimator input.sk-toggleable__control:checked~label.sk-toggleable__label {background-color: #d4ebff;}#sk-container-id-7 div.sk-label input.sk-toggleable__control:checked~label.sk-toggleable__label {background-color: #d4ebff;}#sk-container-id-7 input.sk-hidden--visually {border: 0;clip: rect(1px 1px 1px 1px);clip: rect(1px, 1px, 1px, 1px);height: 1px;margin: -1px;overflow: hidden;padding: 0;position: absolute;width: 1px;}#sk-container-id-7 div.sk-estimator {font-family: monospace;background-color: #f0f8ff;border: 1px dotted black;border-radius: 0.25em;box-sizing: border-box;margin-bottom: 0.5em;}#sk-container-id-7 div.sk-estimator:hover {background-color: #d4ebff;}#sk-container-id-7 div.sk-parallel-item::after {content: \"\";width: 100%;border-bottom: 1px solid gray;flex-grow: 1;}#sk-container-id-7 div.sk-label:hover label.sk-toggleable__label {background-color: #d4ebff;}#sk-container-id-7 div.sk-serial::before {content: \"\";position: absolute;border-left: 1px solid gray;box-sizing: border-box;top: 0;bottom: 0;left: 50%;z-index: 0;}#sk-container-id-7 div.sk-serial {display: flex;flex-direction: column;align-items: center;background-color: white;padding-right: 0.2em;padding-left: 0.2em;position: relative;}#sk-container-id-7 div.sk-item {position: relative;z-index: 1;}#sk-container-id-7 div.sk-parallel {display: flex;align-items: stretch;justify-content: center;background-color: white;position: relative;}#sk-container-id-7 div.sk-item::before, #sk-container-id-7 div.sk-parallel-item::before {content: \"\";position: absolute;border-left: 1px solid gray;box-sizing: border-box;top: 0;bottom: 0;left: 50%;z-index: -1;}#sk-container-id-7 div.sk-parallel-item {display: flex;flex-direction: column;z-index: 1;position: relative;background-color: white;}#sk-container-id-7 div.sk-parallel-item:first-child::after {align-self: flex-end;width: 50%;}#sk-container-id-7 div.sk-parallel-item:last-child::after {align-self: flex-start;width: 50%;}#sk-container-id-7 div.sk-parallel-item:only-child::after {width: 0;}#sk-container-id-7 div.sk-dashed-wrapped {border: 1px dashed gray;margin: 0 0.4em 0.5em 0.4em;box-sizing: border-box;padding-bottom: 0.4em;background-color: white;}#sk-container-id-7 div.sk-label label {font-family: monospace;font-weight: bold;display: inline-block;line-height: 1.2em;}#sk-container-id-7 div.sk-label-container {text-align: center;}#sk-container-id-7 div.sk-container {/* jupyter's `normalize.less` sets `[hidden] { display: none; }` but bootstrap.min.css set `[hidden] { display: none !important; }` so we also need the `!important` here to be able to override the default hidden behavior on the sphinx rendered scikit-learn.org. See: https://github.com/scikit-learn/scikit-learn/issues/21755 */display: inline-block !important;position: relative;}#sk-container-id-7 div.sk-text-repr-fallback {display: none;}</style><div id=\"sk-container-id-7\" class=\"sk-top-container\"><div class=\"sk-text-repr-fallback\"><pre>RandomForestRegressor(n_estimators=183, random_state=42)</pre><b>In a Jupyter environment, please rerun this cell to show the HTML representation or trust the notebook. <br />On GitHub, the HTML representation is unable to render, please try loading this page with nbviewer.org.</b></div><div class=\"sk-container\" hidden><div class=\"sk-item\"><div class=\"sk-estimator sk-toggleable\"><input class=\"sk-toggleable__control sk-hidden--visually\" id=\"sk-estimator-id-13\" type=\"checkbox\" checked><label for=\"sk-estimator-id-13\" class=\"sk-toggleable__label sk-toggleable__label-arrow\">RandomForestRegressor</label><div class=\"sk-toggleable__content\"><pre>RandomForestRegressor(n_estimators=183, random_state=42)</pre></div></div></div></div></div>"
      ],
      "text/plain": [
       "RandomForestRegressor(n_estimators=183, random_state=42)"
      ]
     },
     "execution_count": 112,
     "metadata": {},
     "output_type": "execute_result"
    }
   ],
   "source": [
    "reloaded_model"
   ]
  },
  {
   "cell_type": "markdown",
   "id": "3009c03e",
   "metadata": {},
   "source": [
    "It looks like our model was saved correctly. Let's make a few predictions for good measure:"
   ]
  },
  {
   "cell_type": "code",
   "execution_count": 113,
   "id": "af81a06d",
   "metadata": {},
   "outputs": [],
   "source": [
    "y_p = reloaded_model.predict(X_test_scaled)"
   ]
  },
  {
   "cell_type": "code",
   "execution_count": 114,
   "id": "fa9e6b5c",
   "metadata": {
    "scrolled": true
   },
   "outputs": [
    {
     "data": {
      "text/plain": [
       "20543.446727549464"
      ]
     },
     "execution_count": 114,
     "metadata": {},
     "output_type": "execute_result"
    }
   ],
   "source": [
    "mean_absolute_error(y_test,y_p)"
   ]
  },
  {
   "cell_type": "code",
   "execution_count": 115,
   "id": "b7b93068",
   "metadata": {},
   "outputs": [
    {
     "data": {
      "text/plain": [
       "35225.83114415899"
      ]
     },
     "execution_count": 115,
     "metadata": {},
     "output_type": "execute_result"
    }
   ],
   "source": [
    "np.sqrt(mean_squared_error(y_test,y_p))"
   ]
  },
  {
   "cell_type": "code",
   "execution_count": 116,
   "id": "94e70541",
   "metadata": {},
   "outputs": [
    {
     "data": {
      "text/plain": [
       "0.7952814379874916"
      ]
     },
     "execution_count": 116,
     "metadata": {},
     "output_type": "execute_result"
    }
   ],
   "source": [
    "r2_score(y_test,y_p)"
   ]
  },
  {
   "cell_type": "markdown",
   "id": "dbe1ff25",
   "metadata": {},
   "source": [
    "___"
   ]
  }
 ],
 "metadata": {
  "kernelspec": {
   "display_name": "Python 3 (ipykernel)",
   "language": "python",
   "name": "python3"
  },
  "language_info": {
   "codemirror_mode": {
    "name": "ipython",
    "version": 3
   },
   "file_extension": ".py",
   "mimetype": "text/x-python",
   "name": "python",
   "nbconvert_exporter": "python",
   "pygments_lexer": "ipython3",
   "version": "3.9.15"
  }
 },
 "nbformat": 4,
 "nbformat_minor": 5
}
